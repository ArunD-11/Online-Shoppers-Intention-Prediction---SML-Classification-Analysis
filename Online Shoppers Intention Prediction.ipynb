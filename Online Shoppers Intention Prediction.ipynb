{
 "cells": [
  {
   "cell_type": "markdown",
   "id": "783bfc8c",
   "metadata": {},
   "source": [
    "# ***ONLINE SHOPPERS INTENTION PREDICTION***"
   ]
  },
  {
   "cell_type": "markdown",
   "id": "502f14e3",
   "metadata": {},
   "source": [
    "# Problem Statement - \n",
    "\n",
    "The main objective revolved around the identification of key metrics which contributes the most towards predicting a shopper's behavior and to suggest prioritized critical recommendations and performance improvements on the same. Revenue is the attribute of interest which identifies if a purchase was made or not."
   ]
  },
  {
   "cell_type": "markdown",
   "id": "61ed0d32",
   "metadata": {},
   "source": [
    "# ***List of Python Libraries used for this particular project -***"
   ]
  },
  {
   "cell_type": "code",
   "execution_count": 163,
   "id": "2aed67fb",
   "metadata": {},
   "outputs": [],
   "source": [
    "from warnings import filterwarnings\n",
    "filterwarnings(\"ignore\")\n",
    "from os import chdir\n",
    "import pandas as pd\n",
    "import numpy as np\n",
    "import seaborn as sb\n",
    "import matplotlib.pyplot as mlp\n",
    "from numpy import unique\n",
    "from sklearn.preprocessing import StandardScaler\n",
    "from sklearn.model_selection import train_test_split\n",
    "from scipy.stats import chi2_contingency\n",
    "from statsmodels.stats.anova import anova_lm\n",
    "from statsmodels.formula.api import ols\n",
    "from sklearn.linear_model import LogisticRegression\n",
    "from sklearn.neighbors import KNeighborsClassifier\n",
    "from sklearn.tree import DecisionTreeClassifier\n",
    "from sklearn.ensemble import RandomForestClassifier"
   ]
  },
  {
   "cell_type": "markdown",
   "id": "017d97cf",
   "metadata": {},
   "source": [
    "# ***1)Read the Data-***"
   ]
  },
  {
   "cell_type": "code",
   "execution_count": 2,
   "id": "805036ed",
   "metadata": {},
   "outputs": [],
   "source": [
    "chdir(\"F:/Raw Datasets/Online Shoppers Intention\")\n",
    "data = pd.read_csv(\"online_shoppers_intention.csv\")"
   ]
  },
  {
   "cell_type": "code",
   "execution_count": 3,
   "id": "6b07e3cb",
   "metadata": {},
   "outputs": [
    {
     "data": {
      "text/html": [
       "<div>\n",
       "<style scoped>\n",
       "    .dataframe tbody tr th:only-of-type {\n",
       "        vertical-align: middle;\n",
       "    }\n",
       "\n",
       "    .dataframe tbody tr th {\n",
       "        vertical-align: top;\n",
       "    }\n",
       "\n",
       "    .dataframe thead th {\n",
       "        text-align: right;\n",
       "    }\n",
       "</style>\n",
       "<table border=\"1\" class=\"dataframe\">\n",
       "  <thead>\n",
       "    <tr style=\"text-align: right;\">\n",
       "      <th></th>\n",
       "      <th>Administrative</th>\n",
       "      <th>Administrative_Duration</th>\n",
       "      <th>Informational</th>\n",
       "      <th>Informational_Duration</th>\n",
       "      <th>ProductRelated</th>\n",
       "      <th>ProductRelated_Duration</th>\n",
       "      <th>BounceRates</th>\n",
       "      <th>ExitRates</th>\n",
       "      <th>PageValues</th>\n",
       "      <th>SpecialDay</th>\n",
       "      <th>Month</th>\n",
       "      <th>OperatingSystems</th>\n",
       "      <th>Browser</th>\n",
       "      <th>Region</th>\n",
       "      <th>TrafficType</th>\n",
       "      <th>VisitorType</th>\n",
       "      <th>Weekend</th>\n",
       "      <th>Revenue</th>\n",
       "    </tr>\n",
       "  </thead>\n",
       "  <tbody>\n",
       "    <tr>\n",
       "      <th>0</th>\n",
       "      <td>0</td>\n",
       "      <td>0.0</td>\n",
       "      <td>0</td>\n",
       "      <td>0.0</td>\n",
       "      <td>1</td>\n",
       "      <td>0.000000</td>\n",
       "      <td>0.200000</td>\n",
       "      <td>0.200000</td>\n",
       "      <td>0.000000</td>\n",
       "      <td>0.0</td>\n",
       "      <td>Feb</td>\n",
       "      <td>1</td>\n",
       "      <td>1</td>\n",
       "      <td>1</td>\n",
       "      <td>1</td>\n",
       "      <td>Returning_Visitor</td>\n",
       "      <td>False</td>\n",
       "      <td>False</td>\n",
       "    </tr>\n",
       "    <tr>\n",
       "      <th>1</th>\n",
       "      <td>0</td>\n",
       "      <td>0.0</td>\n",
       "      <td>0</td>\n",
       "      <td>0.0</td>\n",
       "      <td>2</td>\n",
       "      <td>64.000000</td>\n",
       "      <td>0.000000</td>\n",
       "      <td>0.100000</td>\n",
       "      <td>0.000000</td>\n",
       "      <td>0.0</td>\n",
       "      <td>Feb</td>\n",
       "      <td>2</td>\n",
       "      <td>2</td>\n",
       "      <td>1</td>\n",
       "      <td>2</td>\n",
       "      <td>Returning_Visitor</td>\n",
       "      <td>False</td>\n",
       "      <td>False</td>\n",
       "    </tr>\n",
       "    <tr>\n",
       "      <th>2</th>\n",
       "      <td>0</td>\n",
       "      <td>0.0</td>\n",
       "      <td>0</td>\n",
       "      <td>0.0</td>\n",
       "      <td>1</td>\n",
       "      <td>0.000000</td>\n",
       "      <td>0.200000</td>\n",
       "      <td>0.200000</td>\n",
       "      <td>0.000000</td>\n",
       "      <td>0.0</td>\n",
       "      <td>Feb</td>\n",
       "      <td>4</td>\n",
       "      <td>1</td>\n",
       "      <td>9</td>\n",
       "      <td>3</td>\n",
       "      <td>Returning_Visitor</td>\n",
       "      <td>False</td>\n",
       "      <td>False</td>\n",
       "    </tr>\n",
       "    <tr>\n",
       "      <th>3</th>\n",
       "      <td>0</td>\n",
       "      <td>0.0</td>\n",
       "      <td>0</td>\n",
       "      <td>0.0</td>\n",
       "      <td>2</td>\n",
       "      <td>2.666667</td>\n",
       "      <td>0.050000</td>\n",
       "      <td>0.140000</td>\n",
       "      <td>0.000000</td>\n",
       "      <td>0.0</td>\n",
       "      <td>Feb</td>\n",
       "      <td>3</td>\n",
       "      <td>2</td>\n",
       "      <td>2</td>\n",
       "      <td>4</td>\n",
       "      <td>Returning_Visitor</td>\n",
       "      <td>False</td>\n",
       "      <td>False</td>\n",
       "    </tr>\n",
       "    <tr>\n",
       "      <th>4</th>\n",
       "      <td>0</td>\n",
       "      <td>0.0</td>\n",
       "      <td>0</td>\n",
       "      <td>0.0</td>\n",
       "      <td>10</td>\n",
       "      <td>627.500000</td>\n",
       "      <td>0.020000</td>\n",
       "      <td>0.050000</td>\n",
       "      <td>0.000000</td>\n",
       "      <td>0.0</td>\n",
       "      <td>Feb</td>\n",
       "      <td>3</td>\n",
       "      <td>3</td>\n",
       "      <td>1</td>\n",
       "      <td>4</td>\n",
       "      <td>Returning_Visitor</td>\n",
       "      <td>True</td>\n",
       "      <td>False</td>\n",
       "    </tr>\n",
       "    <tr>\n",
       "      <th>...</th>\n",
       "      <td>...</td>\n",
       "      <td>...</td>\n",
       "      <td>...</td>\n",
       "      <td>...</td>\n",
       "      <td>...</td>\n",
       "      <td>...</td>\n",
       "      <td>...</td>\n",
       "      <td>...</td>\n",
       "      <td>...</td>\n",
       "      <td>...</td>\n",
       "      <td>...</td>\n",
       "      <td>...</td>\n",
       "      <td>...</td>\n",
       "      <td>...</td>\n",
       "      <td>...</td>\n",
       "      <td>...</td>\n",
       "      <td>...</td>\n",
       "      <td>...</td>\n",
       "    </tr>\n",
       "    <tr>\n",
       "      <th>12325</th>\n",
       "      <td>3</td>\n",
       "      <td>145.0</td>\n",
       "      <td>0</td>\n",
       "      <td>0.0</td>\n",
       "      <td>53</td>\n",
       "      <td>1783.791667</td>\n",
       "      <td>0.007143</td>\n",
       "      <td>0.029031</td>\n",
       "      <td>12.241717</td>\n",
       "      <td>0.0</td>\n",
       "      <td>Dec</td>\n",
       "      <td>4</td>\n",
       "      <td>6</td>\n",
       "      <td>1</td>\n",
       "      <td>1</td>\n",
       "      <td>Returning_Visitor</td>\n",
       "      <td>True</td>\n",
       "      <td>False</td>\n",
       "    </tr>\n",
       "    <tr>\n",
       "      <th>12326</th>\n",
       "      <td>0</td>\n",
       "      <td>0.0</td>\n",
       "      <td>0</td>\n",
       "      <td>0.0</td>\n",
       "      <td>5</td>\n",
       "      <td>465.750000</td>\n",
       "      <td>0.000000</td>\n",
       "      <td>0.021333</td>\n",
       "      <td>0.000000</td>\n",
       "      <td>0.0</td>\n",
       "      <td>Nov</td>\n",
       "      <td>3</td>\n",
       "      <td>2</td>\n",
       "      <td>1</td>\n",
       "      <td>8</td>\n",
       "      <td>Returning_Visitor</td>\n",
       "      <td>True</td>\n",
       "      <td>False</td>\n",
       "    </tr>\n",
       "    <tr>\n",
       "      <th>12327</th>\n",
       "      <td>0</td>\n",
       "      <td>0.0</td>\n",
       "      <td>0</td>\n",
       "      <td>0.0</td>\n",
       "      <td>6</td>\n",
       "      <td>184.250000</td>\n",
       "      <td>0.083333</td>\n",
       "      <td>0.086667</td>\n",
       "      <td>0.000000</td>\n",
       "      <td>0.0</td>\n",
       "      <td>Nov</td>\n",
       "      <td>3</td>\n",
       "      <td>2</td>\n",
       "      <td>1</td>\n",
       "      <td>13</td>\n",
       "      <td>Returning_Visitor</td>\n",
       "      <td>True</td>\n",
       "      <td>False</td>\n",
       "    </tr>\n",
       "    <tr>\n",
       "      <th>12328</th>\n",
       "      <td>4</td>\n",
       "      <td>75.0</td>\n",
       "      <td>0</td>\n",
       "      <td>0.0</td>\n",
       "      <td>15</td>\n",
       "      <td>346.000000</td>\n",
       "      <td>0.000000</td>\n",
       "      <td>0.021053</td>\n",
       "      <td>0.000000</td>\n",
       "      <td>0.0</td>\n",
       "      <td>Nov</td>\n",
       "      <td>2</td>\n",
       "      <td>2</td>\n",
       "      <td>3</td>\n",
       "      <td>11</td>\n",
       "      <td>Returning_Visitor</td>\n",
       "      <td>False</td>\n",
       "      <td>False</td>\n",
       "    </tr>\n",
       "    <tr>\n",
       "      <th>12329</th>\n",
       "      <td>0</td>\n",
       "      <td>0.0</td>\n",
       "      <td>0</td>\n",
       "      <td>0.0</td>\n",
       "      <td>3</td>\n",
       "      <td>21.250000</td>\n",
       "      <td>0.000000</td>\n",
       "      <td>0.066667</td>\n",
       "      <td>0.000000</td>\n",
       "      <td>0.0</td>\n",
       "      <td>Nov</td>\n",
       "      <td>3</td>\n",
       "      <td>2</td>\n",
       "      <td>1</td>\n",
       "      <td>2</td>\n",
       "      <td>New_Visitor</td>\n",
       "      <td>True</td>\n",
       "      <td>False</td>\n",
       "    </tr>\n",
       "  </tbody>\n",
       "</table>\n",
       "<p>12330 rows × 18 columns</p>\n",
       "</div>"
      ],
      "text/plain": [
       "       Administrative  Administrative_Duration  Informational  \\\n",
       "0                   0                      0.0              0   \n",
       "1                   0                      0.0              0   \n",
       "2                   0                      0.0              0   \n",
       "3                   0                      0.0              0   \n",
       "4                   0                      0.0              0   \n",
       "...               ...                      ...            ...   \n",
       "12325               3                    145.0              0   \n",
       "12326               0                      0.0              0   \n",
       "12327               0                      0.0              0   \n",
       "12328               4                     75.0              0   \n",
       "12329               0                      0.0              0   \n",
       "\n",
       "       Informational_Duration  ProductRelated  ProductRelated_Duration  \\\n",
       "0                         0.0               1                 0.000000   \n",
       "1                         0.0               2                64.000000   \n",
       "2                         0.0               1                 0.000000   \n",
       "3                         0.0               2                 2.666667   \n",
       "4                         0.0              10               627.500000   \n",
       "...                       ...             ...                      ...   \n",
       "12325                     0.0              53              1783.791667   \n",
       "12326                     0.0               5               465.750000   \n",
       "12327                     0.0               6               184.250000   \n",
       "12328                     0.0              15               346.000000   \n",
       "12329                     0.0               3                21.250000   \n",
       "\n",
       "       BounceRates  ExitRates  PageValues  SpecialDay Month  OperatingSystems  \\\n",
       "0         0.200000   0.200000    0.000000         0.0   Feb                 1   \n",
       "1         0.000000   0.100000    0.000000         0.0   Feb                 2   \n",
       "2         0.200000   0.200000    0.000000         0.0   Feb                 4   \n",
       "3         0.050000   0.140000    0.000000         0.0   Feb                 3   \n",
       "4         0.020000   0.050000    0.000000         0.0   Feb                 3   \n",
       "...            ...        ...         ...         ...   ...               ...   \n",
       "12325     0.007143   0.029031   12.241717         0.0   Dec                 4   \n",
       "12326     0.000000   0.021333    0.000000         0.0   Nov                 3   \n",
       "12327     0.083333   0.086667    0.000000         0.0   Nov                 3   \n",
       "12328     0.000000   0.021053    0.000000         0.0   Nov                 2   \n",
       "12329     0.000000   0.066667    0.000000         0.0   Nov                 3   \n",
       "\n",
       "       Browser  Region  TrafficType        VisitorType  Weekend  Revenue  \n",
       "0            1       1            1  Returning_Visitor    False    False  \n",
       "1            2       1            2  Returning_Visitor    False    False  \n",
       "2            1       9            3  Returning_Visitor    False    False  \n",
       "3            2       2            4  Returning_Visitor    False    False  \n",
       "4            3       1            4  Returning_Visitor     True    False  \n",
       "...        ...     ...          ...                ...      ...      ...  \n",
       "12325        6       1            1  Returning_Visitor     True    False  \n",
       "12326        2       1            8  Returning_Visitor     True    False  \n",
       "12327        2       1           13  Returning_Visitor     True    False  \n",
       "12328        2       3           11  Returning_Visitor    False    False  \n",
       "12329        2       1            2        New_Visitor     True    False  \n",
       "\n",
       "[12330 rows x 18 columns]"
      ]
     },
     "execution_count": 3,
     "metadata": {},
     "output_type": "execute_result"
    }
   ],
   "source": [
    "data"
   ]
  },
  {
   "cell_type": "markdown",
   "id": "50bd7c78",
   "metadata": {},
   "source": [
    "# ***2) Data Profiling-***"
   ]
  },
  {
   "cell_type": "code",
   "execution_count": 4,
   "id": "3423ec49",
   "metadata": {},
   "outputs": [
    {
     "name": "stdout",
     "output_type": "stream",
     "text": [
      "<class 'pandas.core.frame.DataFrame'>\n",
      "RangeIndex: 12330 entries, 0 to 12329\n",
      "Data columns (total 18 columns):\n",
      " #   Column                   Non-Null Count  Dtype  \n",
      "---  ------                   --------------  -----  \n",
      " 0   Administrative           12330 non-null  int64  \n",
      " 1   Administrative_Duration  12330 non-null  float64\n",
      " 2   Informational            12330 non-null  int64  \n",
      " 3   Informational_Duration   12330 non-null  float64\n",
      " 4   ProductRelated           12330 non-null  int64  \n",
      " 5   ProductRelated_Duration  12330 non-null  float64\n",
      " 6   BounceRates              12330 non-null  float64\n",
      " 7   ExitRates                12330 non-null  float64\n",
      " 8   PageValues               12330 non-null  float64\n",
      " 9   SpecialDay               12330 non-null  float64\n",
      " 10  Month                    12330 non-null  object \n",
      " 11  OperatingSystems         12330 non-null  int64  \n",
      " 12  Browser                  12330 non-null  int64  \n",
      " 13  Region                   12330 non-null  int64  \n",
      " 14  TrafficType              12330 non-null  int64  \n",
      " 15  VisitorType              12330 non-null  object \n",
      " 16  Weekend                  12330 non-null  bool   \n",
      " 17  Revenue                  12330 non-null  bool   \n",
      "dtypes: bool(2), float64(7), int64(7), object(2)\n",
      "memory usage: 1.5+ MB\n"
     ]
    }
   ],
   "source": [
    "data.info()"
   ]
  },
  {
   "cell_type": "code",
   "execution_count": 5,
   "id": "b936b51f",
   "metadata": {},
   "outputs": [
    {
     "data": {
      "text/html": [
       "<div>\n",
       "<style scoped>\n",
       "    .dataframe tbody tr th:only-of-type {\n",
       "        vertical-align: middle;\n",
       "    }\n",
       "\n",
       "    .dataframe tbody tr th {\n",
       "        vertical-align: top;\n",
       "    }\n",
       "\n",
       "    .dataframe thead th {\n",
       "        text-align: right;\n",
       "    }\n",
       "</style>\n",
       "<table border=\"1\" class=\"dataframe\">\n",
       "  <thead>\n",
       "    <tr style=\"text-align: right;\">\n",
       "      <th></th>\n",
       "      <th>Administrative</th>\n",
       "      <th>Administrative_Duration</th>\n",
       "      <th>Informational</th>\n",
       "      <th>Informational_Duration</th>\n",
       "      <th>ProductRelated</th>\n",
       "      <th>ProductRelated_Duration</th>\n",
       "      <th>BounceRates</th>\n",
       "      <th>ExitRates</th>\n",
       "      <th>PageValues</th>\n",
       "      <th>SpecialDay</th>\n",
       "      <th>OperatingSystems</th>\n",
       "      <th>Browser</th>\n",
       "      <th>Region</th>\n",
       "      <th>TrafficType</th>\n",
       "    </tr>\n",
       "  </thead>\n",
       "  <tbody>\n",
       "    <tr>\n",
       "      <th>count</th>\n",
       "      <td>12330.000000</td>\n",
       "      <td>12330.000000</td>\n",
       "      <td>12330.000000</td>\n",
       "      <td>12330.000000</td>\n",
       "      <td>12330.000000</td>\n",
       "      <td>12330.000000</td>\n",
       "      <td>12330.000000</td>\n",
       "      <td>12330.000000</td>\n",
       "      <td>12330.000000</td>\n",
       "      <td>12330.000000</td>\n",
       "      <td>12330.000000</td>\n",
       "      <td>12330.000000</td>\n",
       "      <td>12330.000000</td>\n",
       "      <td>12330.000000</td>\n",
       "    </tr>\n",
       "    <tr>\n",
       "      <th>mean</th>\n",
       "      <td>2.315166</td>\n",
       "      <td>80.818611</td>\n",
       "      <td>0.503569</td>\n",
       "      <td>34.472398</td>\n",
       "      <td>31.731468</td>\n",
       "      <td>1194.746220</td>\n",
       "      <td>0.022191</td>\n",
       "      <td>0.043073</td>\n",
       "      <td>5.889258</td>\n",
       "      <td>0.061427</td>\n",
       "      <td>2.124006</td>\n",
       "      <td>2.357097</td>\n",
       "      <td>3.147364</td>\n",
       "      <td>4.069586</td>\n",
       "    </tr>\n",
       "    <tr>\n",
       "      <th>std</th>\n",
       "      <td>3.321784</td>\n",
       "      <td>176.779107</td>\n",
       "      <td>1.270156</td>\n",
       "      <td>140.749294</td>\n",
       "      <td>44.475503</td>\n",
       "      <td>1913.669288</td>\n",
       "      <td>0.048488</td>\n",
       "      <td>0.048597</td>\n",
       "      <td>18.568437</td>\n",
       "      <td>0.198917</td>\n",
       "      <td>0.911325</td>\n",
       "      <td>1.717277</td>\n",
       "      <td>2.401591</td>\n",
       "      <td>4.025169</td>\n",
       "    </tr>\n",
       "    <tr>\n",
       "      <th>min</th>\n",
       "      <td>0.000000</td>\n",
       "      <td>0.000000</td>\n",
       "      <td>0.000000</td>\n",
       "      <td>0.000000</td>\n",
       "      <td>0.000000</td>\n",
       "      <td>0.000000</td>\n",
       "      <td>0.000000</td>\n",
       "      <td>0.000000</td>\n",
       "      <td>0.000000</td>\n",
       "      <td>0.000000</td>\n",
       "      <td>1.000000</td>\n",
       "      <td>1.000000</td>\n",
       "      <td>1.000000</td>\n",
       "      <td>1.000000</td>\n",
       "    </tr>\n",
       "    <tr>\n",
       "      <th>25%</th>\n",
       "      <td>0.000000</td>\n",
       "      <td>0.000000</td>\n",
       "      <td>0.000000</td>\n",
       "      <td>0.000000</td>\n",
       "      <td>7.000000</td>\n",
       "      <td>184.137500</td>\n",
       "      <td>0.000000</td>\n",
       "      <td>0.014286</td>\n",
       "      <td>0.000000</td>\n",
       "      <td>0.000000</td>\n",
       "      <td>2.000000</td>\n",
       "      <td>2.000000</td>\n",
       "      <td>1.000000</td>\n",
       "      <td>2.000000</td>\n",
       "    </tr>\n",
       "    <tr>\n",
       "      <th>50%</th>\n",
       "      <td>1.000000</td>\n",
       "      <td>7.500000</td>\n",
       "      <td>0.000000</td>\n",
       "      <td>0.000000</td>\n",
       "      <td>18.000000</td>\n",
       "      <td>598.936905</td>\n",
       "      <td>0.003112</td>\n",
       "      <td>0.025156</td>\n",
       "      <td>0.000000</td>\n",
       "      <td>0.000000</td>\n",
       "      <td>2.000000</td>\n",
       "      <td>2.000000</td>\n",
       "      <td>3.000000</td>\n",
       "      <td>2.000000</td>\n",
       "    </tr>\n",
       "    <tr>\n",
       "      <th>75%</th>\n",
       "      <td>4.000000</td>\n",
       "      <td>93.256250</td>\n",
       "      <td>0.000000</td>\n",
       "      <td>0.000000</td>\n",
       "      <td>38.000000</td>\n",
       "      <td>1464.157214</td>\n",
       "      <td>0.016813</td>\n",
       "      <td>0.050000</td>\n",
       "      <td>0.000000</td>\n",
       "      <td>0.000000</td>\n",
       "      <td>3.000000</td>\n",
       "      <td>2.000000</td>\n",
       "      <td>4.000000</td>\n",
       "      <td>4.000000</td>\n",
       "    </tr>\n",
       "    <tr>\n",
       "      <th>max</th>\n",
       "      <td>27.000000</td>\n",
       "      <td>3398.750000</td>\n",
       "      <td>24.000000</td>\n",
       "      <td>2549.375000</td>\n",
       "      <td>705.000000</td>\n",
       "      <td>63973.522230</td>\n",
       "      <td>0.200000</td>\n",
       "      <td>0.200000</td>\n",
       "      <td>361.763742</td>\n",
       "      <td>1.000000</td>\n",
       "      <td>8.000000</td>\n",
       "      <td>13.000000</td>\n",
       "      <td>9.000000</td>\n",
       "      <td>20.000000</td>\n",
       "    </tr>\n",
       "  </tbody>\n",
       "</table>\n",
       "</div>"
      ],
      "text/plain": [
       "       Administrative  Administrative_Duration  Informational  \\\n",
       "count    12330.000000             12330.000000   12330.000000   \n",
       "mean         2.315166                80.818611       0.503569   \n",
       "std          3.321784               176.779107       1.270156   \n",
       "min          0.000000                 0.000000       0.000000   \n",
       "25%          0.000000                 0.000000       0.000000   \n",
       "50%          1.000000                 7.500000       0.000000   \n",
       "75%          4.000000                93.256250       0.000000   \n",
       "max         27.000000              3398.750000      24.000000   \n",
       "\n",
       "       Informational_Duration  ProductRelated  ProductRelated_Duration  \\\n",
       "count            12330.000000    12330.000000             12330.000000   \n",
       "mean                34.472398       31.731468              1194.746220   \n",
       "std                140.749294       44.475503              1913.669288   \n",
       "min                  0.000000        0.000000                 0.000000   \n",
       "25%                  0.000000        7.000000               184.137500   \n",
       "50%                  0.000000       18.000000               598.936905   \n",
       "75%                  0.000000       38.000000              1464.157214   \n",
       "max               2549.375000      705.000000             63973.522230   \n",
       "\n",
       "        BounceRates     ExitRates    PageValues    SpecialDay  \\\n",
       "count  12330.000000  12330.000000  12330.000000  12330.000000   \n",
       "mean       0.022191      0.043073      5.889258      0.061427   \n",
       "std        0.048488      0.048597     18.568437      0.198917   \n",
       "min        0.000000      0.000000      0.000000      0.000000   \n",
       "25%        0.000000      0.014286      0.000000      0.000000   \n",
       "50%        0.003112      0.025156      0.000000      0.000000   \n",
       "75%        0.016813      0.050000      0.000000      0.000000   \n",
       "max        0.200000      0.200000    361.763742      1.000000   \n",
       "\n",
       "       OperatingSystems       Browser        Region   TrafficType  \n",
       "count      12330.000000  12330.000000  12330.000000  12330.000000  \n",
       "mean           2.124006      2.357097      3.147364      4.069586  \n",
       "std            0.911325      1.717277      2.401591      4.025169  \n",
       "min            1.000000      1.000000      1.000000      1.000000  \n",
       "25%            2.000000      2.000000      1.000000      2.000000  \n",
       "50%            2.000000      2.000000      3.000000      2.000000  \n",
       "75%            3.000000      2.000000      4.000000      4.000000  \n",
       "max            8.000000     13.000000      9.000000     20.000000  "
      ]
     },
     "execution_count": 5,
     "metadata": {},
     "output_type": "execute_result"
    }
   ],
   "source": [
    "data.describe()"
   ]
  },
  {
   "cell_type": "code",
   "execution_count": 6,
   "id": "4106da6c",
   "metadata": {},
   "outputs": [
    {
     "data": {
      "text/plain": [
       "Administrative             0\n",
       "Administrative_Duration    0\n",
       "Informational              0\n",
       "Informational_Duration     0\n",
       "ProductRelated             0\n",
       "ProductRelated_Duration    0\n",
       "BounceRates                0\n",
       "ExitRates                  0\n",
       "PageValues                 0\n",
       "SpecialDay                 0\n",
       "Month                      0\n",
       "OperatingSystems           0\n",
       "Browser                    0\n",
       "Region                     0\n",
       "TrafficType                0\n",
       "VisitorType                0\n",
       "Weekend                    0\n",
       "Revenue                    0\n",
       "dtype: int64"
      ]
     },
     "execution_count": 6,
     "metadata": {},
     "output_type": "execute_result"
    }
   ],
   "source": [
    "data.isna().sum()"
   ]
  },
  {
   "cell_type": "markdown",
   "id": "d5261f91",
   "metadata": {},
   "source": [
    "# ***3) Seperation of data into categorical and numerical data-***"
   ]
  },
  {
   "cell_type": "markdown",
   "id": "66b62f67",
   "metadata": {},
   "source": [
    "**Converting continuous columns into categorical-**"
   ]
  },
  {
   "cell_type": "code",
   "execution_count": 7,
   "id": "15a42270",
   "metadata": {},
   "outputs": [],
   "source": [
    "data[\"SpecialDay\"] = data[\"SpecialDay\"].astype(object)\n",
    "data[\"OperatingSystems\"] = data[\"OperatingSystems\"].astype(object)\n",
    "data[\"Browser\"] = data[\"Browser\"].astype(object)\n",
    "data[\"Region\"] = data[\"Region\"].astype(object)\n",
    "data[\"TrafficType\"] = data[\"TrafficType\"].astype(object)\n",
    "data[\"Weekend\"] = data[\"Weekend\"].astype(object)\n",
    "data[\"Revenue\"] = data[\"Revenue\"].astype(object)"
   ]
  },
  {
   "cell_type": "code",
   "execution_count": 8,
   "id": "d388e4b4",
   "metadata": {},
   "outputs": [
    {
     "name": "stdout",
     "output_type": "stream",
     "text": [
      "<class 'pandas.core.frame.DataFrame'>\n",
      "RangeIndex: 12330 entries, 0 to 12329\n",
      "Data columns (total 18 columns):\n",
      " #   Column                   Non-Null Count  Dtype  \n",
      "---  ------                   --------------  -----  \n",
      " 0   Administrative           12330 non-null  int64  \n",
      " 1   Administrative_Duration  12330 non-null  float64\n",
      " 2   Informational            12330 non-null  int64  \n",
      " 3   Informational_Duration   12330 non-null  float64\n",
      " 4   ProductRelated           12330 non-null  int64  \n",
      " 5   ProductRelated_Duration  12330 non-null  float64\n",
      " 6   BounceRates              12330 non-null  float64\n",
      " 7   ExitRates                12330 non-null  float64\n",
      " 8   PageValues               12330 non-null  float64\n",
      " 9   SpecialDay               12330 non-null  object \n",
      " 10  Month                    12330 non-null  object \n",
      " 11  OperatingSystems         12330 non-null  object \n",
      " 12  Browser                  12330 non-null  object \n",
      " 13  Region                   12330 non-null  object \n",
      " 14  TrafficType              12330 non-null  object \n",
      " 15  VisitorType              12330 non-null  object \n",
      " 16  Weekend                  12330 non-null  object \n",
      " 17  Revenue                  12330 non-null  object \n",
      "dtypes: float64(6), int64(3), object(9)\n",
      "memory usage: 1.7+ MB\n"
     ]
    }
   ],
   "source": [
    "data.info()"
   ]
  },
  {
   "cell_type": "code",
   "execution_count": 9,
   "id": "925ec358",
   "metadata": {},
   "outputs": [],
   "source": [
    "cat = []\n",
    "con = []\n",
    "\n",
    "for i in data.columns:\n",
    "    if(data[i].dtypes == \"object\"):\n",
    "        cat.append(i)\n",
    "    else:\n",
    "        con.append(i)"
   ]
  },
  {
   "cell_type": "code",
   "execution_count": 10,
   "id": "5a42b047",
   "metadata": {},
   "outputs": [
    {
     "data": {
      "text/plain": [
       "['SpecialDay',\n",
       " 'Month',\n",
       " 'OperatingSystems',\n",
       " 'Browser',\n",
       " 'Region',\n",
       " 'TrafficType',\n",
       " 'VisitorType',\n",
       " 'Weekend',\n",
       " 'Revenue']"
      ]
     },
     "execution_count": 10,
     "metadata": {},
     "output_type": "execute_result"
    }
   ],
   "source": [
    "cat"
   ]
  },
  {
   "cell_type": "code",
   "execution_count": 11,
   "id": "a1d786cd",
   "metadata": {},
   "outputs": [
    {
     "data": {
      "text/plain": [
       "['Administrative',\n",
       " 'Administrative_Duration',\n",
       " 'Informational',\n",
       " 'Informational_Duration',\n",
       " 'ProductRelated',\n",
       " 'ProductRelated_Duration',\n",
       " 'BounceRates',\n",
       " 'ExitRates',\n",
       " 'PageValues']"
      ]
     },
     "execution_count": 11,
     "metadata": {},
     "output_type": "execute_result"
    }
   ],
   "source": [
    "con"
   ]
  },
  {
   "cell_type": "markdown",
   "id": "5dcb14d8",
   "metadata": {},
   "source": [
    "# ***PREPROCESSING -*** "
   ]
  },
  {
   "cell_type": "markdown",
   "id": "914db1fc",
   "metadata": {},
   "source": [
    "# ***4) Identifying Outliers/Anomalies and Eliminating them if any-***"
   ]
  },
  {
   "cell_type": "code",
   "execution_count": 12,
   "id": "4b412dc1",
   "metadata": {},
   "outputs": [],
   "source": [
    "from sklearn.preprocessing import StandardScaler\n",
    "ss = StandardScaler ()\n",
    "data_std = pd.DataFrame(ss.fit_transform(data[con]),columns=con)"
   ]
  },
  {
   "cell_type": "code",
   "execution_count": 13,
   "id": "336837f8",
   "metadata": {},
   "outputs": [],
   "source": [
    "rows_tobe_dropped = []\n",
    "\n",
    "for i in con:\n",
    "    out = list(data_std[(data_std[i]>3)|(data_std[i]<-3)].index)\n",
    "    rows_tobe_dropped.extend(out)\n",
    "    \n",
    "from numpy import unique\n",
    "Outliers = unique(rows_tobe_dropped)"
   ]
  },
  {
   "cell_type": "code",
   "execution_count": 14,
   "id": "6d6b4172",
   "metadata": {},
   "outputs": [
    {
     "data": {
      "text/plain": [
       "1869"
      ]
     },
     "execution_count": 14,
     "metadata": {},
     "output_type": "execute_result"
    }
   ],
   "source": [
    "len(Outliers)"
   ]
  },
  {
   "cell_type": "code",
   "execution_count": 15,
   "id": "b788647c",
   "metadata": {},
   "outputs": [
    {
     "data": {
      "text/plain": [
       "array([    0,     2,     6, ..., 12312, 12313, 12321])"
      ]
     },
     "execution_count": 15,
     "metadata": {},
     "output_type": "execute_result"
    }
   ],
   "source": [
    "Outliers"
   ]
  },
  {
   "cell_type": "code",
   "execution_count": 16,
   "id": "4d0e8f8c",
   "metadata": {},
   "outputs": [],
   "source": [
    "data = data.drop(index=Outliers,axis=0)"
   ]
  },
  {
   "cell_type": "code",
   "execution_count": 17,
   "id": "03fad43a",
   "metadata": {},
   "outputs": [
    {
     "data": {
      "text/plain": [
       "(10461, 18)"
      ]
     },
     "execution_count": 17,
     "metadata": {},
     "output_type": "execute_result"
    }
   ],
   "source": [
    "data.shape"
   ]
  },
  {
   "cell_type": "code",
   "execution_count": 18,
   "id": "aed3f7ce",
   "metadata": {},
   "outputs": [],
   "source": [
    "data.index = range(0,len(data),1)"
   ]
  },
  {
   "cell_type": "code",
   "execution_count": 19,
   "id": "57928659",
   "metadata": {},
   "outputs": [
    {
     "data": {
      "text/html": [
       "<div>\n",
       "<style scoped>\n",
       "    .dataframe tbody tr th:only-of-type {\n",
       "        vertical-align: middle;\n",
       "    }\n",
       "\n",
       "    .dataframe tbody tr th {\n",
       "        vertical-align: top;\n",
       "    }\n",
       "\n",
       "    .dataframe thead th {\n",
       "        text-align: right;\n",
       "    }\n",
       "</style>\n",
       "<table border=\"1\" class=\"dataframe\">\n",
       "  <thead>\n",
       "    <tr style=\"text-align: right;\">\n",
       "      <th></th>\n",
       "      <th>Administrative</th>\n",
       "      <th>Administrative_Duration</th>\n",
       "      <th>Informational</th>\n",
       "      <th>Informational_Duration</th>\n",
       "      <th>ProductRelated</th>\n",
       "      <th>ProductRelated_Duration</th>\n",
       "      <th>BounceRates</th>\n",
       "      <th>ExitRates</th>\n",
       "      <th>PageValues</th>\n",
       "      <th>SpecialDay</th>\n",
       "      <th>Month</th>\n",
       "      <th>OperatingSystems</th>\n",
       "      <th>Browser</th>\n",
       "      <th>Region</th>\n",
       "      <th>TrafficType</th>\n",
       "      <th>VisitorType</th>\n",
       "      <th>Weekend</th>\n",
       "      <th>Revenue</th>\n",
       "    </tr>\n",
       "  </thead>\n",
       "  <tbody>\n",
       "    <tr>\n",
       "      <th>0</th>\n",
       "      <td>0</td>\n",
       "      <td>0.0</td>\n",
       "      <td>0</td>\n",
       "      <td>0.0</td>\n",
       "      <td>2</td>\n",
       "      <td>64.000000</td>\n",
       "      <td>0.000000</td>\n",
       "      <td>0.100000</td>\n",
       "      <td>0.000000</td>\n",
       "      <td>0.0</td>\n",
       "      <td>Feb</td>\n",
       "      <td>2</td>\n",
       "      <td>2</td>\n",
       "      <td>1</td>\n",
       "      <td>2</td>\n",
       "      <td>Returning_Visitor</td>\n",
       "      <td>False</td>\n",
       "      <td>False</td>\n",
       "    </tr>\n",
       "    <tr>\n",
       "      <th>1</th>\n",
       "      <td>0</td>\n",
       "      <td>0.0</td>\n",
       "      <td>0</td>\n",
       "      <td>0.0</td>\n",
       "      <td>2</td>\n",
       "      <td>2.666667</td>\n",
       "      <td>0.050000</td>\n",
       "      <td>0.140000</td>\n",
       "      <td>0.000000</td>\n",
       "      <td>0.0</td>\n",
       "      <td>Feb</td>\n",
       "      <td>3</td>\n",
       "      <td>2</td>\n",
       "      <td>2</td>\n",
       "      <td>4</td>\n",
       "      <td>Returning_Visitor</td>\n",
       "      <td>False</td>\n",
       "      <td>False</td>\n",
       "    </tr>\n",
       "    <tr>\n",
       "      <th>2</th>\n",
       "      <td>0</td>\n",
       "      <td>0.0</td>\n",
       "      <td>0</td>\n",
       "      <td>0.0</td>\n",
       "      <td>10</td>\n",
       "      <td>627.500000</td>\n",
       "      <td>0.020000</td>\n",
       "      <td>0.050000</td>\n",
       "      <td>0.000000</td>\n",
       "      <td>0.0</td>\n",
       "      <td>Feb</td>\n",
       "      <td>3</td>\n",
       "      <td>3</td>\n",
       "      <td>1</td>\n",
       "      <td>4</td>\n",
       "      <td>Returning_Visitor</td>\n",
       "      <td>True</td>\n",
       "      <td>False</td>\n",
       "    </tr>\n",
       "    <tr>\n",
       "      <th>3</th>\n",
       "      <td>0</td>\n",
       "      <td>0.0</td>\n",
       "      <td>0</td>\n",
       "      <td>0.0</td>\n",
       "      <td>19</td>\n",
       "      <td>154.216667</td>\n",
       "      <td>0.015789</td>\n",
       "      <td>0.024561</td>\n",
       "      <td>0.000000</td>\n",
       "      <td>0.0</td>\n",
       "      <td>Feb</td>\n",
       "      <td>2</td>\n",
       "      <td>2</td>\n",
       "      <td>1</td>\n",
       "      <td>3</td>\n",
       "      <td>Returning_Visitor</td>\n",
       "      <td>False</td>\n",
       "      <td>False</td>\n",
       "    </tr>\n",
       "    <tr>\n",
       "      <th>4</th>\n",
       "      <td>0</td>\n",
       "      <td>0.0</td>\n",
       "      <td>0</td>\n",
       "      <td>0.0</td>\n",
       "      <td>2</td>\n",
       "      <td>37.000000</td>\n",
       "      <td>0.000000</td>\n",
       "      <td>0.100000</td>\n",
       "      <td>0.000000</td>\n",
       "      <td>0.8</td>\n",
       "      <td>Feb</td>\n",
       "      <td>2</td>\n",
       "      <td>2</td>\n",
       "      <td>2</td>\n",
       "      <td>3</td>\n",
       "      <td>Returning_Visitor</td>\n",
       "      <td>False</td>\n",
       "      <td>False</td>\n",
       "    </tr>\n",
       "    <tr>\n",
       "      <th>...</th>\n",
       "      <td>...</td>\n",
       "      <td>...</td>\n",
       "      <td>...</td>\n",
       "      <td>...</td>\n",
       "      <td>...</td>\n",
       "      <td>...</td>\n",
       "      <td>...</td>\n",
       "      <td>...</td>\n",
       "      <td>...</td>\n",
       "      <td>...</td>\n",
       "      <td>...</td>\n",
       "      <td>...</td>\n",
       "      <td>...</td>\n",
       "      <td>...</td>\n",
       "      <td>...</td>\n",
       "      <td>...</td>\n",
       "      <td>...</td>\n",
       "      <td>...</td>\n",
       "    </tr>\n",
       "    <tr>\n",
       "      <th>10456</th>\n",
       "      <td>3</td>\n",
       "      <td>145.0</td>\n",
       "      <td>0</td>\n",
       "      <td>0.0</td>\n",
       "      <td>53</td>\n",
       "      <td>1783.791667</td>\n",
       "      <td>0.007143</td>\n",
       "      <td>0.029031</td>\n",
       "      <td>12.241717</td>\n",
       "      <td>0.0</td>\n",
       "      <td>Dec</td>\n",
       "      <td>4</td>\n",
       "      <td>6</td>\n",
       "      <td>1</td>\n",
       "      <td>1</td>\n",
       "      <td>Returning_Visitor</td>\n",
       "      <td>True</td>\n",
       "      <td>False</td>\n",
       "    </tr>\n",
       "    <tr>\n",
       "      <th>10457</th>\n",
       "      <td>0</td>\n",
       "      <td>0.0</td>\n",
       "      <td>0</td>\n",
       "      <td>0.0</td>\n",
       "      <td>5</td>\n",
       "      <td>465.750000</td>\n",
       "      <td>0.000000</td>\n",
       "      <td>0.021333</td>\n",
       "      <td>0.000000</td>\n",
       "      <td>0.0</td>\n",
       "      <td>Nov</td>\n",
       "      <td>3</td>\n",
       "      <td>2</td>\n",
       "      <td>1</td>\n",
       "      <td>8</td>\n",
       "      <td>Returning_Visitor</td>\n",
       "      <td>True</td>\n",
       "      <td>False</td>\n",
       "    </tr>\n",
       "    <tr>\n",
       "      <th>10458</th>\n",
       "      <td>0</td>\n",
       "      <td>0.0</td>\n",
       "      <td>0</td>\n",
       "      <td>0.0</td>\n",
       "      <td>6</td>\n",
       "      <td>184.250000</td>\n",
       "      <td>0.083333</td>\n",
       "      <td>0.086667</td>\n",
       "      <td>0.000000</td>\n",
       "      <td>0.0</td>\n",
       "      <td>Nov</td>\n",
       "      <td>3</td>\n",
       "      <td>2</td>\n",
       "      <td>1</td>\n",
       "      <td>13</td>\n",
       "      <td>Returning_Visitor</td>\n",
       "      <td>True</td>\n",
       "      <td>False</td>\n",
       "    </tr>\n",
       "    <tr>\n",
       "      <th>10459</th>\n",
       "      <td>4</td>\n",
       "      <td>75.0</td>\n",
       "      <td>0</td>\n",
       "      <td>0.0</td>\n",
       "      <td>15</td>\n",
       "      <td>346.000000</td>\n",
       "      <td>0.000000</td>\n",
       "      <td>0.021053</td>\n",
       "      <td>0.000000</td>\n",
       "      <td>0.0</td>\n",
       "      <td>Nov</td>\n",
       "      <td>2</td>\n",
       "      <td>2</td>\n",
       "      <td>3</td>\n",
       "      <td>11</td>\n",
       "      <td>Returning_Visitor</td>\n",
       "      <td>False</td>\n",
       "      <td>False</td>\n",
       "    </tr>\n",
       "    <tr>\n",
       "      <th>10460</th>\n",
       "      <td>0</td>\n",
       "      <td>0.0</td>\n",
       "      <td>0</td>\n",
       "      <td>0.0</td>\n",
       "      <td>3</td>\n",
       "      <td>21.250000</td>\n",
       "      <td>0.000000</td>\n",
       "      <td>0.066667</td>\n",
       "      <td>0.000000</td>\n",
       "      <td>0.0</td>\n",
       "      <td>Nov</td>\n",
       "      <td>3</td>\n",
       "      <td>2</td>\n",
       "      <td>1</td>\n",
       "      <td>2</td>\n",
       "      <td>New_Visitor</td>\n",
       "      <td>True</td>\n",
       "      <td>False</td>\n",
       "    </tr>\n",
       "  </tbody>\n",
       "</table>\n",
       "<p>10461 rows × 18 columns</p>\n",
       "</div>"
      ],
      "text/plain": [
       "       Administrative  Administrative_Duration  Informational  \\\n",
       "0                   0                      0.0              0   \n",
       "1                   0                      0.0              0   \n",
       "2                   0                      0.0              0   \n",
       "3                   0                      0.0              0   \n",
       "4                   0                      0.0              0   \n",
       "...               ...                      ...            ...   \n",
       "10456               3                    145.0              0   \n",
       "10457               0                      0.0              0   \n",
       "10458               0                      0.0              0   \n",
       "10459               4                     75.0              0   \n",
       "10460               0                      0.0              0   \n",
       "\n",
       "       Informational_Duration  ProductRelated  ProductRelated_Duration  \\\n",
       "0                         0.0               2                64.000000   \n",
       "1                         0.0               2                 2.666667   \n",
       "2                         0.0              10               627.500000   \n",
       "3                         0.0              19               154.216667   \n",
       "4                         0.0               2                37.000000   \n",
       "...                       ...             ...                      ...   \n",
       "10456                     0.0              53              1783.791667   \n",
       "10457                     0.0               5               465.750000   \n",
       "10458                     0.0               6               184.250000   \n",
       "10459                     0.0              15               346.000000   \n",
       "10460                     0.0               3                21.250000   \n",
       "\n",
       "       BounceRates  ExitRates  PageValues SpecialDay Month OperatingSystems  \\\n",
       "0         0.000000   0.100000    0.000000        0.0   Feb                2   \n",
       "1         0.050000   0.140000    0.000000        0.0   Feb                3   \n",
       "2         0.020000   0.050000    0.000000        0.0   Feb                3   \n",
       "3         0.015789   0.024561    0.000000        0.0   Feb                2   \n",
       "4         0.000000   0.100000    0.000000        0.8   Feb                2   \n",
       "...            ...        ...         ...        ...   ...              ...   \n",
       "10456     0.007143   0.029031   12.241717        0.0   Dec                4   \n",
       "10457     0.000000   0.021333    0.000000        0.0   Nov                3   \n",
       "10458     0.083333   0.086667    0.000000        0.0   Nov                3   \n",
       "10459     0.000000   0.021053    0.000000        0.0   Nov                2   \n",
       "10460     0.000000   0.066667    0.000000        0.0   Nov                3   \n",
       "\n",
       "      Browser Region TrafficType        VisitorType Weekend Revenue  \n",
       "0           2      1           2  Returning_Visitor   False   False  \n",
       "1           2      2           4  Returning_Visitor   False   False  \n",
       "2           3      1           4  Returning_Visitor    True   False  \n",
       "3           2      1           3  Returning_Visitor   False   False  \n",
       "4           2      2           3  Returning_Visitor   False   False  \n",
       "...       ...    ...         ...                ...     ...     ...  \n",
       "10456       6      1           1  Returning_Visitor    True   False  \n",
       "10457       2      1           8  Returning_Visitor    True   False  \n",
       "10458       2      1          13  Returning_Visitor    True   False  \n",
       "10459       2      3          11  Returning_Visitor   False   False  \n",
       "10460       2      1           2        New_Visitor    True   False  \n",
       "\n",
       "[10461 rows x 18 columns]"
      ]
     },
     "execution_count": 19,
     "metadata": {},
     "output_type": "execute_result"
    }
   ],
   "source": [
    "data"
   ]
  },
  {
   "cell_type": "markdown",
   "id": "22d3aa2c",
   "metadata": {},
   "source": [
    "# ***5)Exploratory Data Analysis***"
   ]
  },
  {
   "cell_type": "markdown",
   "id": "e0c3af7a",
   "metadata": {},
   "source": [
    "**Univariate Analysis -Categorical Parameters**"
   ]
  },
  {
   "cell_type": "code",
   "execution_count": 20,
   "id": "b0de12ab",
   "metadata": {},
   "outputs": [
    {
     "data": {
      "text/plain": [
       "['SpecialDay',\n",
       " 'Month',\n",
       " 'OperatingSystems',\n",
       " 'Browser',\n",
       " 'Region',\n",
       " 'TrafficType',\n",
       " 'VisitorType',\n",
       " 'Weekend',\n",
       " 'Revenue']"
      ]
     },
     "execution_count": 20,
     "metadata": {},
     "output_type": "execute_result"
    }
   ],
   "source": [
    "cat"
   ]
  },
  {
   "cell_type": "code",
   "execution_count": 21,
   "id": "1a5c8a3d",
   "metadata": {},
   "outputs": [
    {
     "data": {
      "image/png": "[encoded data removed]",
      "text/plain": [
       "<Figure size 1440x2880 with 9 Axes>"
      ]
     },
     "metadata": {
      "needs_background": "light"
     },
     "output_type": "display_data"
    }
   ],
   "source": [
    "mlp.figure(figsize=(20,40))\n",
    "x = 1\n",
    "for i in cat:\n",
    "    mlp.subplot(6,3,x)\n",
    "    sb.countplot(data[i])\n",
    "    x = x + 1\n",
    "    mlp.title(\"Univariate Analysis - Categorical\")"
   ]
  },
  {
   "cell_type": "markdown",
   "id": "7ce240fc",
   "metadata": {},
   "source": [
    "**Univariate Analysis - Numerical or Continuous Parameters**"
   ]
  },
  {
   "cell_type": "code",
   "execution_count": 22,
   "id": "322a015f",
   "metadata": {},
   "outputs": [
    {
     "data": {
      "image/png": "[encoded data removed]",
      "text/plain": [
       "<Figure size 1440x2880 with 9 Axes>"
      ]
     },
     "metadata": {
      "needs_background": "light"
     },
     "output_type": "display_data"
    }
   ],
   "source": [
    "mlp.figure(figsize=(20,40))\n",
    "x = 1\n",
    "for i in con:\n",
    "    mlp.subplot(6,3,x)\n",
    "    sb.distplot(data[i])\n",
    "    x = x + 1\n",
    "    mlp.title(\"Univariate Analysis - Continuous\")"
   ]
  },
  {
   "cell_type": "markdown",
   "id": "dd0d0a67",
   "metadata": {},
   "source": [
    "**Skewness in Data -**"
   ]
  },
  {
   "cell_type": "code",
   "execution_count": 23,
   "id": "ef0905ff",
   "metadata": {},
   "outputs": [
    {
     "data": {
      "text/plain": [
       "Administrative             1.477912\n",
       "Administrative_Duration    2.426817\n",
       "Informational              2.703991\n",
       "Informational_Duration     4.802079\n",
       "ProductRelated             2.008502\n",
       "ProductRelated_Duration    2.029399\n",
       "BounceRates                3.063261\n",
       "ExitRates                  1.785613\n",
       "PageValues                 3.196402\n",
       "dtype: float64"
      ]
     },
     "execution_count": 23,
     "metadata": {},
     "output_type": "execute_result"
    }
   ],
   "source": [
    "data[con].skew()"
   ]
  },
  {
   "cell_type": "markdown",
   "id": "966f1078",
   "metadata": {},
   "source": [
    "**Bivariate Analysis - Categorical Parameters**"
   ]
  },
  {
   "cell_type": "code",
   "execution_count": 24,
   "id": "3107df5b",
   "metadata": {},
   "outputs": [
    {
     "data": {
      "image/png": "[encoded data removed]",
      "text/plain": [
       "<Figure size 1440x2880 with 9 Axes>"
      ]
     },
     "metadata": {
      "needs_background": "light"
     },
     "output_type": "display_data"
    }
   ],
   "source": [
    "mlp.figure(figsize=(20,40))\n",
    "x = 1\n",
    "for i in cat:\n",
    "    mlp.subplot(6,3,x)\n",
    "    sb.countplot(data[i],hue=data[\"Revenue\"])\n",
    "    x = x + 1\n",
    "    mlp.title(\"Bivariate Analysis - Categorical\")"
   ]
  },
  {
   "cell_type": "markdown",
   "id": "c6797707",
   "metadata": {},
   "source": [
    "**Bivariate Analysis - Continuous Parameters**"
   ]
  },
  {
   "cell_type": "code",
   "execution_count": 25,
   "id": "3ecb2050",
   "metadata": {},
   "outputs": [
    {
     "data": {
      "image/png": "[encoded data removed]",
      "text/plain": [
       "<Figure size 1440x2880 with 9 Axes>"
      ]
     },
     "metadata": {
      "needs_background": "light"
     },
     "output_type": "display_data"
    }
   ],
   "source": [
    "mlp.figure(figsize=(20,40))\n",
    "x = 1\n",
    "for i in con:\n",
    "    mlp.subplot(6,3,x)\n",
    "    sb.boxplot(data[i],hue=data[\"Revenue\"])\n",
    "    x = x + 1\n",
    "    mlp.title(\"Bivariate Analysis - Continuous\")"
   ]
  },
  {
   "cell_type": "markdown",
   "id": "ead39cdd",
   "metadata": {},
   "source": [
    "**Bivariate Analysis - Categorical Parameters using Chi-square Test -**"
   ]
  },
  {
   "cell_type": "code",
   "execution_count": 26,
   "id": "59d23a4a",
   "metadata": {},
   "outputs": [
    {
     "data": {
      "text/plain": [
       "['SpecialDay',\n",
       " 'Month',\n",
       " 'OperatingSystems',\n",
       " 'Browser',\n",
       " 'Region',\n",
       " 'TrafficType',\n",
       " 'VisitorType',\n",
       " 'Weekend',\n",
       " 'Revenue']"
      ]
     },
     "execution_count": 26,
     "metadata": {},
     "output_type": "execute_result"
    }
   ],
   "source": [
    "cat"
   ]
  },
  {
   "cell_type": "markdown",
   "id": "272c83d8",
   "metadata": {},
   "source": [
    "*1) ChiSquare Test between SpecialDay and Revenue-*"
   ]
  },
  {
   "cell_type": "code",
   "execution_count": 27,
   "id": "d2e5af7c",
   "metadata": {},
   "outputs": [
    {
     "data": {
      "text/plain": [
       "(64.19357863292775,\n",
       " 1.6471431226629976e-12,\n",
       " 5,\n",
       " array([[8030.20361342, 1309.79638658],\n",
       "        [ 134.98308001,   22.01691999],\n",
       "        [ 186.56897046,   30.43102954],\n",
       "        [ 270.82592486,   44.17407514],\n",
       "        [ 250.19156868,   40.80843132],\n",
       "        [ 121.22684256,   19.77315744]]))"
      ]
     },
     "execution_count": 27,
     "metadata": {},
     "output_type": "execute_result"
    }
   ],
   "source": [
    "from scipy.stats import chi2_contingency\n",
    "chisq = chi2_contingency(pd.crosstab(data[\"SpecialDay\"],data[\"Revenue\"]))\n",
    "chisq"
   ]
  },
  {
   "cell_type": "markdown",
   "id": "5c72a325",
   "metadata": {},
   "source": [
    "*2) ChiSquare Test between Month and Revenue-*"
   ]
  },
  {
   "cell_type": "code",
   "execution_count": 28,
   "id": "a5543661",
   "metadata": {},
   "outputs": [
    {
     "data": {
      "text/plain": [
       "(292.24286170131865,\n",
       " 1.152335135720328e-57,\n",
       " 9,\n",
       " array([[ 321.55205047,   52.44794953],\n",
       "        [1252.6773731 ,  204.3226269 ],\n",
       "        [ 127.24519644,   20.75480356],\n",
       "        [ 322.41181531,   52.58818469],\n",
       "        [ 207.20332664,   33.79667336],\n",
       "        [1415.17292802,  230.82707198],\n",
       "        [2518.25121881,  410.74878119],\n",
       "        [2088.36879839,  340.63120161],\n",
       "        [ 405.80900488,   66.19099512],\n",
       "        [ 335.30828793,   54.69171207]]))"
      ]
     },
     "execution_count": 28,
     "metadata": {},
     "output_type": "execute_result"
    }
   ],
   "source": [
    "from scipy.stats import chi2_contingency\n",
    "chisq = chi2_contingency(pd.crosstab(data[\"Month\"],data[\"Revenue\"]))\n",
    "chisq"
   ]
  },
  {
   "cell_type": "markdown",
   "id": "aede1bdb",
   "metadata": {},
   "source": [
    "*3) ChiSquare Test between Operatingsystems and Revenue-*"
   ]
  },
  {
   "cell_type": "code",
   "execution_count": 29,
   "id": "f2339026",
   "metadata": {},
   "outputs": [
    {
     "data": {
      "text/plain": [
       "(39.90002746777303,\n",
       " 1.3154783559527724e-06,\n",
       " 7,\n",
       " array([[1.87342759e+03, 3.05572412e+02],\n",
       "        [4.83875652e+03, 7.89243476e+02],\n",
       "        [1.85709206e+03, 3.02907944e+02],\n",
       "        [3.58521939e+02, 5.84780614e+01],\n",
       "        [5.15858905e+00, 8.41410955e-01],\n",
       "        [1.20367078e+01, 1.96329223e+00],\n",
       "        [4.29882420e+00, 7.01175796e-01],\n",
       "        [4.47077717e+01, 7.29222828e+00]]))"
      ]
     },
     "execution_count": 29,
     "metadata": {},
     "output_type": "execute_result"
    }
   ],
   "source": [
    "from scipy.stats import chi2_contingency\n",
    "chisq = chi2_contingency(pd.crosstab(data[\"OperatingSystems\"],data[\"Revenue\"]))\n",
    "chisq"
   ]
  },
  {
   "cell_type": "markdown",
   "id": "01e0fab6",
   "metadata": {},
   "source": [
    "*4) ChiSquare Test between Browser and Revenue-*"
   ]
  },
  {
   "cell_type": "code",
   "execution_count": 30,
   "id": "566c3b6d",
   "metadata": {},
   "outputs": [
    {
     "data": {
      "text/plain": [
       "(22.096582209006137,\n",
       " 0.03645150760549781,\n",
       " 12,\n",
       " array([[1.78917063e+03, 2.91829366e+02],\n",
       "        [5.79739432e+03, 9.45605678e+02],\n",
       "        [7.90983654e+01, 1.29016346e+01],\n",
       "        [5.51109263e+02, 8.98907370e+01],\n",
       "        [3.46485231e+02, 5.65147691e+01],\n",
       "        [1.28964726e+02, 2.10352739e+01],\n",
       "        [3.69698882e+01, 6.03011184e+00],\n",
       "        [9.80131919e+01, 1.59868081e+01],\n",
       "        [8.59764841e-01, 1.40235159e-01],\n",
       "        [1.20367078e+02, 1.96329223e+01],\n",
       "        [5.15858905e+00, 8.41410955e-01],\n",
       "        [8.59764841e+00, 1.40235159e+00],\n",
       "        [3.18112991e+01, 5.18870089e+00]]))"
      ]
     },
     "execution_count": 30,
     "metadata": {},
     "output_type": "execute_result"
    }
   ],
   "source": [
    "from scipy.stats import chi2_contingency\n",
    "chisq = chi2_contingency(pd.crosstab(data[\"Browser\"],data[\"Revenue\"]))\n",
    "chisq "
   ]
  },
  {
   "cell_type": "markdown",
   "id": "31943f55",
   "metadata": {},
   "source": [
    "*5) ChiSquare Test between Region and Revenue-*"
   ]
  },
  {
   "cell_type": "code",
   "execution_count": 31,
   "id": "648c37c4",
   "metadata": {},
   "outputs": [
    {
     "data": {
      "text/plain": [
       "(2.8249220340147607,\n",
       " 0.9448594350465807,\n",
       " 8,\n",
       " array([[3473.44995698,  566.55004302],\n",
       "        [ 831.39260109,  135.60739891],\n",
       "        [1761.65815888,  287.34184112],\n",
       "        [ 857.18554631,  139.81445369],\n",
       "        [ 227.83768282,   37.16231718],\n",
       "        [ 594.95726986,   97.04273014],\n",
       "        [ 559.70691139,   91.29308861],\n",
       "        [ 329.28993404,   53.71006596],\n",
       "        [ 358.52193863,   58.47806137]]))"
      ]
     },
     "execution_count": 31,
     "metadata": {},
     "output_type": "execute_result"
    }
   ],
   "source": [
    "from scipy.stats import chi2_contingency\n",
    "chisq = chi2_contingency(pd.crosstab(data[\"Region\"],data[\"Revenue\"]))\n",
    "chisq "
   ]
  },
  {
   "cell_type": "markdown",
   "id": "71cc578d",
   "metadata": {},
   "source": [
    "*6) ChiSquare Test between TrafficType and Revenue-*"
   ]
  },
  {
   "cell_type": "code",
   "execution_count": 32,
   "id": "ff7242cc",
   "metadata": {},
   "outputs": [
    {
     "data": {
      "text/plain": [
       "(229.7995775318752,\n",
       " 3.7052297535757587e-38,\n",
       " 19,\n",
       " array([[1.75220075e+03, 2.85799254e+02],\n",
       "        [2.83378492e+03, 4.62215085e+02],\n",
       "        [1.50372871e+03, 2.45271293e+02],\n",
       "        [8.17636364e+02, 1.33363636e+02],\n",
       "        [2.06343562e+02, 3.36564382e+01],\n",
       "        [3.40466877e+02, 5.55331230e+01],\n",
       "        [3.18112991e+01, 5.18870089e+00],\n",
       "        [2.52770863e+02, 4.12291368e+01],\n",
       "        [2.92320046e+01, 4.76799541e+00],\n",
       "        [3.33588758e+02, 5.44112418e+01],\n",
       "        [1.86568970e+02, 3.04310295e+01],\n",
       "        [8.59764841e-01, 1.40235159e-01],\n",
       "        [5.19297964e+02, 8.47020361e+01],\n",
       "        [1.03171781e+01, 1.68282191e+00],\n",
       "        [2.32136507e+01, 3.78634930e+00],\n",
       "        [1.71952968e+00, 2.80470318e-01],\n",
       "        [8.59764841e-01, 1.40235159e-01],\n",
       "        [7.73788357e+00, 1.26211643e+00],\n",
       "        [1.28964726e+01, 2.10352739e+00],\n",
       "        [1.28964726e+02, 2.10352739e+01]]))"
      ]
     },
     "execution_count": 32,
     "metadata": {},
     "output_type": "execute_result"
    }
   ],
   "source": [
    "from scipy.stats import chi2_contingency\n",
    "chisq = chi2_contingency(pd.crosstab(data[\"TrafficType\"],data[\"Revenue\"]))\n",
    "chisq "
   ]
  },
  {
   "cell_type": "markdown",
   "id": "20208f89",
   "metadata": {},
   "source": [
    "*7) ChiSquare Test between VisitorType and Revenue-*"
   ]
  },
  {
   "cell_type": "code",
   "execution_count": 33,
   "id": "59a54f12",
   "metadata": {},
   "outputs": [
    {
     "data": {
      "text/plain": [
       "(89.42696611405667,\n",
       " 3.812247090642861e-20,\n",
       " 2,\n",
       " array([[1319.73903069,  215.26096931],\n",
       "        [  47.28706625,    7.71293375],\n",
       "        [7626.97390307, 1244.02609693]]))"
      ]
     },
     "execution_count": 33,
     "metadata": {},
     "output_type": "execute_result"
    }
   ],
   "source": [
    "from scipy.stats import chi2_contingency\n",
    "chisq = chi2_contingency(pd.crosstab(data[\"VisitorType\"],data[\"Revenue\"]))\n",
    "chisq "
   ]
  },
  {
   "cell_type": "markdown",
   "id": "2cdd72d2",
   "metadata": {},
   "source": [
    "*8) ChiSquare Test between Weekend and Revenue-*"
   ]
  },
  {
   "cell_type": "code",
   "execution_count": 34,
   "id": "5f45445b",
   "metadata": {},
   "outputs": [
    {
     "data": {
      "text/plain": [
       "(6.5615477680213115,\n",
       " 0.010420569192809197,\n",
       " 1,\n",
       " array([[6897.0335532, 1124.9664468],\n",
       "        [2096.9664468,  342.0335532]]))"
      ]
     },
     "execution_count": 34,
     "metadata": {},
     "output_type": "execute_result"
    }
   ],
   "source": [
    "from scipy.stats import chi2_contingency\n",
    "chisq = chi2_contingency(pd.crosstab(data[\"Weekend\"],data[\"Revenue\"]))\n",
    "chisq "
   ]
  },
  {
   "cell_type": "code",
   "execution_count": 35,
   "id": "201fd8bf",
   "metadata": {},
   "outputs": [],
   "source": [
    "chisquares = {\n",
    "    \"Categorical Parameters\" : [\"SpecialDay\",\"Month\",\"OperatingSystems\",\"Browser\",\"Region\",\"TrafficType\",\"VisitorType\",\"Weekend\"],\n",
    "    \"Chi-Square Values\" : [\"64.19357863292775\",\"292.24286170131865\",\"39.90002746777303\",\"22.096582209006137\",\"2.8249220340147607\",\"229.7995775318752\",\"89.42696611405667\",\"6.5615477680213115\"],\n",
    "    \"P-value Scores\" : [\"1.6471431226629976e-12\",\"1.152335135720328e-57\",\"1.3154783559527724e-06\",\"0.03645150760549781\",\"0.9448594350465807\",\"3.7052297535757587e-38\",\"3.812247090642861e-20\",\"0.010420569192809197\"]   \n",
    "}"
   ]
  },
  {
   "cell_type": "code",
   "execution_count": 36,
   "id": "3cf0902c",
   "metadata": {},
   "outputs": [],
   "source": [
    "CHI_SQUARE_RESULTS = pd.DataFrame(data=chisquares)\n",
    "CHI_SQUARE_RESULTS[\"Chi-Square Values\"] = CHI_SQUARE_RESULTS[\"Chi-Square Values\"].astype(float)\n",
    "CHI_SQUARE_RESULTS[\"P-value Scores\"] = CHI_SQUARE_RESULTS[\"P-value Scores\"].astype(float)"
   ]
  },
  {
   "cell_type": "code",
   "execution_count": 37,
   "id": "ce262c75",
   "metadata": {},
   "outputs": [
    {
     "data": {
      "text/html": [
       "<div>\n",
       "<style scoped>\n",
       "    .dataframe tbody tr th:only-of-type {\n",
       "        vertical-align: middle;\n",
       "    }\n",
       "\n",
       "    .dataframe tbody tr th {\n",
       "        vertical-align: top;\n",
       "    }\n",
       "\n",
       "    .dataframe thead th {\n",
       "        text-align: right;\n",
       "    }\n",
       "</style>\n",
       "<table border=\"1\" class=\"dataframe\">\n",
       "  <thead>\n",
       "    <tr style=\"text-align: right;\">\n",
       "      <th></th>\n",
       "      <th>Categorical Parameters</th>\n",
       "      <th>Chi-Square Values</th>\n",
       "      <th>P-value Scores</th>\n",
       "    </tr>\n",
       "  </thead>\n",
       "  <tbody>\n",
       "    <tr>\n",
       "      <th>0</th>\n",
       "      <td>SpecialDay</td>\n",
       "      <td>64.193579</td>\n",
       "      <td>1.647143e-12</td>\n",
       "    </tr>\n",
       "    <tr>\n",
       "      <th>1</th>\n",
       "      <td>Month</td>\n",
       "      <td>292.242862</td>\n",
       "      <td>1.152335e-57</td>\n",
       "    </tr>\n",
       "    <tr>\n",
       "      <th>2</th>\n",
       "      <td>OperatingSystems</td>\n",
       "      <td>39.900027</td>\n",
       "      <td>1.315478e-06</td>\n",
       "    </tr>\n",
       "    <tr>\n",
       "      <th>3</th>\n",
       "      <td>Browser</td>\n",
       "      <td>22.096582</td>\n",
       "      <td>3.645151e-02</td>\n",
       "    </tr>\n",
       "    <tr>\n",
       "      <th>4</th>\n",
       "      <td>Region</td>\n",
       "      <td>2.824922</td>\n",
       "      <td>9.448594e-01</td>\n",
       "    </tr>\n",
       "    <tr>\n",
       "      <th>5</th>\n",
       "      <td>TrafficType</td>\n",
       "      <td>229.799578</td>\n",
       "      <td>3.705230e-38</td>\n",
       "    </tr>\n",
       "    <tr>\n",
       "      <th>6</th>\n",
       "      <td>VisitorType</td>\n",
       "      <td>89.426966</td>\n",
       "      <td>3.812247e-20</td>\n",
       "    </tr>\n",
       "    <tr>\n",
       "      <th>7</th>\n",
       "      <td>Weekend</td>\n",
       "      <td>6.561548</td>\n",
       "      <td>1.042057e-02</td>\n",
       "    </tr>\n",
       "  </tbody>\n",
       "</table>\n",
       "</div>"
      ],
      "text/plain": [
       "  Categorical Parameters  Chi-Square Values  P-value Scores\n",
       "0             SpecialDay          64.193579    1.647143e-12\n",
       "1                  Month         292.242862    1.152335e-57\n",
       "2       OperatingSystems          39.900027    1.315478e-06\n",
       "3                Browser          22.096582    3.645151e-02\n",
       "4                 Region           2.824922    9.448594e-01\n",
       "5            TrafficType         229.799578    3.705230e-38\n",
       "6            VisitorType          89.426966    3.812247e-20\n",
       "7                Weekend           6.561548    1.042057e-02"
      ]
     },
     "execution_count": 37,
     "metadata": {},
     "output_type": "execute_result"
    }
   ],
   "source": [
    "CHI_SQUARE_RESULTS"
   ]
  },
  {
   "cell_type": "code",
   "execution_count": 38,
   "id": "e4bfb736",
   "metadata": {},
   "outputs": [
    {
     "data": {
      "text/html": [
       "<div>\n",
       "<style scoped>\n",
       "    .dataframe tbody tr th:only-of-type {\n",
       "        vertical-align: middle;\n",
       "    }\n",
       "\n",
       "    .dataframe tbody tr th {\n",
       "        vertical-align: top;\n",
       "    }\n",
       "\n",
       "    .dataframe thead th {\n",
       "        text-align: right;\n",
       "    }\n",
       "</style>\n",
       "<table border=\"1\" class=\"dataframe\">\n",
       "  <thead>\n",
       "    <tr style=\"text-align: right;\">\n",
       "      <th></th>\n",
       "      <th>Categorical Parameters</th>\n",
       "      <th>Chi-Square Values</th>\n",
       "      <th>P-value Scores</th>\n",
       "    </tr>\n",
       "  </thead>\n",
       "  <tbody>\n",
       "    <tr>\n",
       "      <th>4</th>\n",
       "      <td>Region</td>\n",
       "      <td>2.824922</td>\n",
       "      <td>0.944859</td>\n",
       "    </tr>\n",
       "  </tbody>\n",
       "</table>\n",
       "</div>"
      ],
      "text/plain": [
       "  Categorical Parameters  Chi-Square Values  P-value Scores\n",
       "4                 Region           2.824922        0.944859"
      ]
     },
     "execution_count": 38,
     "metadata": {},
     "output_type": "execute_result"
    }
   ],
   "source": [
    "CHI_SQUARE_RESULTS[(CHI_SQUARE_RESULTS[\"P-value Scores\"]) > 0.05]"
   ]
  },
  {
   "cell_type": "code",
   "execution_count": 39,
   "id": "148003e5",
   "metadata": {},
   "outputs": [
    {
     "data": {
      "text/html": [
       "<div>\n",
       "<style scoped>\n",
       "    .dataframe tbody tr th:only-of-type {\n",
       "        vertical-align: middle;\n",
       "    }\n",
       "\n",
       "    .dataframe tbody tr th {\n",
       "        vertical-align: top;\n",
       "    }\n",
       "\n",
       "    .dataframe thead th {\n",
       "        text-align: right;\n",
       "    }\n",
       "</style>\n",
       "<table border=\"1\" class=\"dataframe\">\n",
       "  <thead>\n",
       "    <tr style=\"text-align: right;\">\n",
       "      <th></th>\n",
       "      <th>Categorical Parameters</th>\n",
       "      <th>Chi-Square Values</th>\n",
       "      <th>P-value Scores</th>\n",
       "    </tr>\n",
       "  </thead>\n",
       "  <tbody>\n",
       "    <tr>\n",
       "      <th>0</th>\n",
       "      <td>SpecialDay</td>\n",
       "      <td>64.193579</td>\n",
       "      <td>1.647143e-12</td>\n",
       "    </tr>\n",
       "    <tr>\n",
       "      <th>1</th>\n",
       "      <td>Month</td>\n",
       "      <td>292.242862</td>\n",
       "      <td>1.152335e-57</td>\n",
       "    </tr>\n",
       "    <tr>\n",
       "      <th>2</th>\n",
       "      <td>OperatingSystems</td>\n",
       "      <td>39.900027</td>\n",
       "      <td>1.315478e-06</td>\n",
       "    </tr>\n",
       "    <tr>\n",
       "      <th>3</th>\n",
       "      <td>Browser</td>\n",
       "      <td>22.096582</td>\n",
       "      <td>3.645151e-02</td>\n",
       "    </tr>\n",
       "    <tr>\n",
       "      <th>5</th>\n",
       "      <td>TrafficType</td>\n",
       "      <td>229.799578</td>\n",
       "      <td>3.705230e-38</td>\n",
       "    </tr>\n",
       "    <tr>\n",
       "      <th>6</th>\n",
       "      <td>VisitorType</td>\n",
       "      <td>89.426966</td>\n",
       "      <td>3.812247e-20</td>\n",
       "    </tr>\n",
       "    <tr>\n",
       "      <th>7</th>\n",
       "      <td>Weekend</td>\n",
       "      <td>6.561548</td>\n",
       "      <td>1.042057e-02</td>\n",
       "    </tr>\n",
       "  </tbody>\n",
       "</table>\n",
       "</div>"
      ],
      "text/plain": [
       "  Categorical Parameters  Chi-Square Values  P-value Scores\n",
       "0             SpecialDay          64.193579    1.647143e-12\n",
       "1                  Month         292.242862    1.152335e-57\n",
       "2       OperatingSystems          39.900027    1.315478e-06\n",
       "3                Browser          22.096582    3.645151e-02\n",
       "5            TrafficType         229.799578    3.705230e-38\n",
       "6            VisitorType          89.426966    3.812247e-20\n",
       "7                Weekend           6.561548    1.042057e-02"
      ]
     },
     "execution_count": 39,
     "metadata": {},
     "output_type": "execute_result"
    }
   ],
   "source": [
    "CHI_SQUARE_RESULTS[(CHI_SQUARE_RESULTS[\"P-value Scores\"]) < 0.05]"
   ]
  },
  {
   "cell_type": "markdown",
   "id": "e8a3cb69",
   "metadata": {},
   "source": [
    "**EDA of Chi-Square Scores-**"
   ]
  },
  {
   "cell_type": "code",
   "execution_count": 40,
   "id": "590305d1",
   "metadata": {},
   "outputs": [
    {
     "data": {
      "text/plain": [
       "Text(0.5, 0, 'Predictors')"
      ]
     },
     "execution_count": 40,
     "metadata": {},
     "output_type": "execute_result"
    },
    {
     "data": {
      "image/png": "[encoded data removed]",
      "text/plain": [
       "<Figure size 432x288 with 1 Axes>"
      ]
     },
     "metadata": {
      "needs_background": "light"
     },
     "output_type": "display_data"
    }
   ],
   "source": [
    "CHI_SQUARE_RESULTS.plot(x=\"Categorical Parameters\",y=\"Chi-Square Values\",kind=\"barh\",color=\"red\")\n",
    "mlp.title(\"Chi Square Results\")\n",
    "mlp.ylabel(\"Chi_Square_Score(Measures)\")\n",
    "mlp.xlabel(\"Predictors\")"
   ]
  },
  {
   "cell_type": "markdown",
   "id": "a7890515",
   "metadata": {},
   "source": [
    "**EDA of P-value Scores-**"
   ]
  },
  {
   "cell_type": "code",
   "execution_count": 41,
   "id": "e9b5a8f1",
   "metadata": {},
   "outputs": [
    {
     "data": {
      "text/plain": [
       "Text(0.5, 0, 'Predictors')"
      ]
     },
     "execution_count": 41,
     "metadata": {},
     "output_type": "execute_result"
    },
    {
     "data": {
      "image/png": "[encoded data removed]",
      "text/plain": [
       "<Figure size 432x288 with 1 Axes>"
      ]
     },
     "metadata": {
      "needs_background": "light"
     },
     "output_type": "display_data"
    }
   ],
   "source": [
    "CHI_SQUARE_RESULTS.plot(x=\"Categorical Parameters\",y=\"P-value Scores\",kind=\"barh\",color=\"red\")\n",
    "mlp.title(\"Chi Square Results\")\n",
    "mlp.ylabel(\"P-value Scores(Measures)\")\n",
    "mlp.xlabel(\"Predictors\")"
   ]
  },
  {
   "cell_type": "markdown",
   "id": "7ab47108",
   "metadata": {},
   "source": [
    "**Bivariate Analysis - Continuous Parameters using ANOVA -**"
   ]
  },
  {
   "cell_type": "code",
   "execution_count": 42,
   "id": "228d0508",
   "metadata": {},
   "outputs": [
    {
     "data": {
      "text/plain": [
       "['Administrative',\n",
       " 'Administrative_Duration',\n",
       " 'Informational',\n",
       " 'Informational_Duration',\n",
       " 'ProductRelated',\n",
       " 'ProductRelated_Duration',\n",
       " 'BounceRates',\n",
       " 'ExitRates',\n",
       " 'PageValues']"
      ]
     },
     "execution_count": 42,
     "metadata": {},
     "output_type": "execute_result"
    }
   ],
   "source": [
    "con"
   ]
  },
  {
   "cell_type": "code",
   "execution_count": 43,
   "id": "dfa54354",
   "metadata": {},
   "outputs": [],
   "source": [
    "from statsmodels.stats.anova import anova_lm\n",
    "from statsmodels.formula.api import ols"
   ]
  },
  {
   "cell_type": "code",
   "execution_count": 44,
   "id": "0db063f8",
   "metadata": {},
   "outputs": [
    {
     "data": {
      "text/plain": [
       "[               df        sum_sq      mean_sq           F        PR(>F)\n",
       " Revenue       1.0   1093.457124  1093.457124  152.540263  8.435438e-35\n",
       " Residual  10459.0  74973.438775     7.168318         NaN           NaN,\n",
       "                df        sum_sq       mean_sq           F        PR(>F)\n",
       " Revenue       1.0  1.241570e+06  1.241570e+06  129.810346  6.763999e-30\n",
       " Residual  10459.0  1.000350e+08  9.564492e+03         NaN           NaN,\n",
       "                df       sum_sq    mean_sq          F        PR(>F)\n",
       " Revenue       1.0    57.882299  57.882299  87.113975  1.232035e-20\n",
       " Residual  10459.0  6949.412797   0.664443        NaN           NaN,\n",
       "                df        sum_sq        mean_sq        F        PR(>F)\n",
       " Revenue       1.0  1.973010e+05  197300.981606  76.9288  2.047684e-18\n",
       " Residual  10459.0  2.682443e+07    2564.721952      NaN           NaN,\n",
       "                df        sum_sq        mean_sq           F        PR(>F)\n",
       " Revenue       1.0  1.707628e+05  170762.835146  227.110317  8.669927e-51\n",
       " Residual  10459.0  7.864057e+06     751.893783         NaN           NaN,\n",
       "                df        sum_sq       mean_sq           F        PR(>F)\n",
       " Revenue       1.0  3.437112e+08  3.437112e+08  275.796911  3.742713e-61\n",
       " Residual  10459.0  1.303450e+10  1.246247e+06         NaN           NaN,\n",
       "                df    sum_sq   mean_sq           F        PR(>F)\n",
       " Revenue       1.0  0.076783  0.076783  158.810704  3.766671e-36\n",
       " Residual  10459.0  5.056814  0.000483         NaN           NaN,\n",
       "                df    sum_sq   mean_sq           F        PR(>F)\n",
       " Revenue       1.0  0.352843  0.352843  387.361959  1.047841e-84\n",
       " Residual  10459.0  9.526974  0.000911         NaN           NaN,\n",
       "                df         sum_sq        mean_sq            F  PR(>F)\n",
       " Revenue       1.0  393559.890651  393559.890651  5213.403109     0.0\n",
       " Residual  10459.0  789550.090441      75.490017          NaN     NaN]"
      ]
     },
     "execution_count": 44,
     "metadata": {},
     "output_type": "execute_result"
    }
   ],
   "source": [
    "annova = []\n",
    "x = 1\n",
    "\n",
    "for i in con:\n",
    "    a = anova_lm(ols(\"data[i] ~ Revenue\",data=data).fit())\n",
    "    annova.append(a)\n",
    "    x = x + 1\n",
    "    \n",
    "annova"
   ]
  },
  {
   "cell_type": "code",
   "execution_count": 45,
   "id": "b9a467c1",
   "metadata": {},
   "outputs": [],
   "source": [
    "ANOVA_Results = {\n",
    "    \"Continuous Parameters\" : [\"Administrative\",\"Administrative_Duration\",\"Informational\",\"Informational_Duration\",\"ProductRelated\",\"ProductRelated_Duration\",\"BounceRates\",\"ExitRates\",\"PageValues\"],\n",
    "    \"ANOVA Scores\" : [\"8.435438e-35\",\"6.763999e-30\",\"1.232035e-20\",\"2.047684e-18\",\"8.669927e-51\",\"3.742713e-61\",\"3.766671e-36\",\"1.047841e-84\",\"0.0\"]\n",
    "}"
   ]
  },
  {
   "cell_type": "code",
   "execution_count": 46,
   "id": "a038738d",
   "metadata": {},
   "outputs": [
    {
     "data": {
      "text/html": [
       "<div>\n",
       "<style scoped>\n",
       "    .dataframe tbody tr th:only-of-type {\n",
       "        vertical-align: middle;\n",
       "    }\n",
       "\n",
       "    .dataframe tbody tr th {\n",
       "        vertical-align: top;\n",
       "    }\n",
       "\n",
       "    .dataframe thead th {\n",
       "        text-align: right;\n",
       "    }\n",
       "</style>\n",
       "<table border=\"1\" class=\"dataframe\">\n",
       "  <thead>\n",
       "    <tr style=\"text-align: right;\">\n",
       "      <th></th>\n",
       "      <th>Continuous Parameters</th>\n",
       "      <th>ANOVA Scores</th>\n",
       "    </tr>\n",
       "  </thead>\n",
       "  <tbody>\n",
       "    <tr>\n",
       "      <th>0</th>\n",
       "      <td>Administrative</td>\n",
       "      <td>8.435438e-35</td>\n",
       "    </tr>\n",
       "    <tr>\n",
       "      <th>1</th>\n",
       "      <td>Administrative_Duration</td>\n",
       "      <td>6.763999e-30</td>\n",
       "    </tr>\n",
       "    <tr>\n",
       "      <th>2</th>\n",
       "      <td>Informational</td>\n",
       "      <td>1.232035e-20</td>\n",
       "    </tr>\n",
       "    <tr>\n",
       "      <th>3</th>\n",
       "      <td>Informational_Duration</td>\n",
       "      <td>2.047684e-18</td>\n",
       "    </tr>\n",
       "    <tr>\n",
       "      <th>4</th>\n",
       "      <td>ProductRelated</td>\n",
       "      <td>8.669927e-51</td>\n",
       "    </tr>\n",
       "    <tr>\n",
       "      <th>5</th>\n",
       "      <td>ProductRelated_Duration</td>\n",
       "      <td>3.742713e-61</td>\n",
       "    </tr>\n",
       "    <tr>\n",
       "      <th>6</th>\n",
       "      <td>BounceRates</td>\n",
       "      <td>3.766671e-36</td>\n",
       "    </tr>\n",
       "    <tr>\n",
       "      <th>7</th>\n",
       "      <td>ExitRates</td>\n",
       "      <td>1.047841e-84</td>\n",
       "    </tr>\n",
       "    <tr>\n",
       "      <th>8</th>\n",
       "      <td>PageValues</td>\n",
       "      <td>0.000000e+00</td>\n",
       "    </tr>\n",
       "  </tbody>\n",
       "</table>\n",
       "</div>"
      ],
      "text/plain": [
       "     Continuous Parameters  ANOVA Scores\n",
       "0           Administrative  8.435438e-35\n",
       "1  Administrative_Duration  6.763999e-30\n",
       "2            Informational  1.232035e-20\n",
       "3   Informational_Duration  2.047684e-18\n",
       "4           ProductRelated  8.669927e-51\n",
       "5  ProductRelated_Duration  3.742713e-61\n",
       "6              BounceRates  3.766671e-36\n",
       "7                ExitRates  1.047841e-84\n",
       "8               PageValues  0.000000e+00"
      ]
     },
     "execution_count": 46,
     "metadata": {},
     "output_type": "execute_result"
    }
   ],
   "source": [
    "ANOVA_Results = pd.DataFrame(data=ANOVA_Results)\n",
    "ANOVA_Results[\"ANOVA Scores\"] = ANOVA_Results[\"ANOVA Scores\"].astype(float)\n",
    "ANOVA_Results"
   ]
  },
  {
   "cell_type": "code",
   "execution_count": 47,
   "id": "6429cc67",
   "metadata": {},
   "outputs": [
    {
     "data": {
      "text/html": [
       "<div>\n",
       "<style scoped>\n",
       "    .dataframe tbody tr th:only-of-type {\n",
       "        vertical-align: middle;\n",
       "    }\n",
       "\n",
       "    .dataframe tbody tr th {\n",
       "        vertical-align: top;\n",
       "    }\n",
       "\n",
       "    .dataframe thead th {\n",
       "        text-align: right;\n",
       "    }\n",
       "</style>\n",
       "<table border=\"1\" class=\"dataframe\">\n",
       "  <thead>\n",
       "    <tr style=\"text-align: right;\">\n",
       "      <th></th>\n",
       "      <th>Continuous Parameters</th>\n",
       "      <th>ANOVA Scores</th>\n",
       "    </tr>\n",
       "  </thead>\n",
       "  <tbody>\n",
       "  </tbody>\n",
       "</table>\n",
       "</div>"
      ],
      "text/plain": [
       "Empty DataFrame\n",
       "Columns: [Continuous Parameters, ANOVA Scores]\n",
       "Index: []"
      ]
     },
     "execution_count": 47,
     "metadata": {},
     "output_type": "execute_result"
    }
   ],
   "source": [
    "ANOVA_Results[(ANOVA_Results[\"ANOVA Scores\"]) > 0.05]"
   ]
  },
  {
   "cell_type": "code",
   "execution_count": 48,
   "id": "b7f27c88",
   "metadata": {},
   "outputs": [
    {
     "data": {
      "text/html": [
       "<div>\n",
       "<style scoped>\n",
       "    .dataframe tbody tr th:only-of-type {\n",
       "        vertical-align: middle;\n",
       "    }\n",
       "\n",
       "    .dataframe tbody tr th {\n",
       "        vertical-align: top;\n",
       "    }\n",
       "\n",
       "    .dataframe thead th {\n",
       "        text-align: right;\n",
       "    }\n",
       "</style>\n",
       "<table border=\"1\" class=\"dataframe\">\n",
       "  <thead>\n",
       "    <tr style=\"text-align: right;\">\n",
       "      <th></th>\n",
       "      <th>Continuous Parameters</th>\n",
       "      <th>ANOVA Scores</th>\n",
       "    </tr>\n",
       "  </thead>\n",
       "  <tbody>\n",
       "    <tr>\n",
       "      <th>0</th>\n",
       "      <td>Administrative</td>\n",
       "      <td>8.435438e-35</td>\n",
       "    </tr>\n",
       "    <tr>\n",
       "      <th>1</th>\n",
       "      <td>Administrative_Duration</td>\n",
       "      <td>6.763999e-30</td>\n",
       "    </tr>\n",
       "    <tr>\n",
       "      <th>2</th>\n",
       "      <td>Informational</td>\n",
       "      <td>1.232035e-20</td>\n",
       "    </tr>\n",
       "    <tr>\n",
       "      <th>3</th>\n",
       "      <td>Informational_Duration</td>\n",
       "      <td>2.047684e-18</td>\n",
       "    </tr>\n",
       "    <tr>\n",
       "      <th>4</th>\n",
       "      <td>ProductRelated</td>\n",
       "      <td>8.669927e-51</td>\n",
       "    </tr>\n",
       "    <tr>\n",
       "      <th>5</th>\n",
       "      <td>ProductRelated_Duration</td>\n",
       "      <td>3.742713e-61</td>\n",
       "    </tr>\n",
       "    <tr>\n",
       "      <th>6</th>\n",
       "      <td>BounceRates</td>\n",
       "      <td>3.766671e-36</td>\n",
       "    </tr>\n",
       "    <tr>\n",
       "      <th>7</th>\n",
       "      <td>ExitRates</td>\n",
       "      <td>1.047841e-84</td>\n",
       "    </tr>\n",
       "    <tr>\n",
       "      <th>8</th>\n",
       "      <td>PageValues</td>\n",
       "      <td>0.000000e+00</td>\n",
       "    </tr>\n",
       "  </tbody>\n",
       "</table>\n",
       "</div>"
      ],
      "text/plain": [
       "     Continuous Parameters  ANOVA Scores\n",
       "0           Administrative  8.435438e-35\n",
       "1  Administrative_Duration  6.763999e-30\n",
       "2            Informational  1.232035e-20\n",
       "3   Informational_Duration  2.047684e-18\n",
       "4           ProductRelated  8.669927e-51\n",
       "5  ProductRelated_Duration  3.742713e-61\n",
       "6              BounceRates  3.766671e-36\n",
       "7                ExitRates  1.047841e-84\n",
       "8               PageValues  0.000000e+00"
      ]
     },
     "execution_count": 48,
     "metadata": {},
     "output_type": "execute_result"
    }
   ],
   "source": [
    "ANOVA_Results[(ANOVA_Results[\"ANOVA Scores\"]) < 0.05]"
   ]
  },
  {
   "cell_type": "markdown",
   "id": "956626a4",
   "metadata": {},
   "source": [
    "**EDA of ANNOVA Scores-**"
   ]
  },
  {
   "cell_type": "code",
   "execution_count": 49,
   "id": "e294ab58",
   "metadata": {},
   "outputs": [
    {
     "data": {
      "text/plain": [
       "Text(0.5, 0, 'Predictors')"
      ]
     },
     "execution_count": 49,
     "metadata": {},
     "output_type": "execute_result"
    },
    {
     "data": {
      "image/png": "[encoded data removed]",
      "text/plain": [
       "<Figure size 432x288 with 1 Axes>"
      ]
     },
     "metadata": {
      "needs_background": "light"
     },
     "output_type": "display_data"
    }
   ],
   "source": [
    "ANOVA_Results.plot(x=\"Continuous Parameters\",y=\"ANOVA Scores\",kind=\"barh\",color=\"orange\")\n",
    "mlp.title(\"ANOVA_Score_Results\")\n",
    "mlp.ylabel(\"ANNOVA_P-Value_Score(Measures)\")\n",
    "mlp.xlabel(\"Predictors\")"
   ]
  },
  {
   "cell_type": "markdown",
   "id": "c1c4206b",
   "metadata": {},
   "source": [
    "# ***6) Dropping unimportant columns for further model predictions-***"
   ]
  },
  {
   "cell_type": "code",
   "execution_count": 50,
   "id": "237875b2",
   "metadata": {},
   "outputs": [],
   "source": [
    "Y = data[[\"Revenue\"]]\n",
    "X = data.drop(columns=[\"Revenue\",\"Region\"],axis=0)"
   ]
  },
  {
   "cell_type": "code",
   "execution_count": 51,
   "id": "13d1fd54",
   "metadata": {},
   "outputs": [],
   "source": [
    "Y[\"Revenue\"] = Y[\"Revenue\"].replace({True: 1, False: 0})"
   ]
  },
  {
   "cell_type": "code",
   "execution_count": 52,
   "id": "c27be617",
   "metadata": {},
   "outputs": [
    {
     "data": {
      "text/html": [
       "<div>\n",
       "<style scoped>\n",
       "    .dataframe tbody tr th:only-of-type {\n",
       "        vertical-align: middle;\n",
       "    }\n",
       "\n",
       "    .dataframe tbody tr th {\n",
       "        vertical-align: top;\n",
       "    }\n",
       "\n",
       "    .dataframe thead th {\n",
       "        text-align: right;\n",
       "    }\n",
       "</style>\n",
       "<table border=\"1\" class=\"dataframe\">\n",
       "  <thead>\n",
       "    <tr style=\"text-align: right;\">\n",
       "      <th></th>\n",
       "      <th>Revenue</th>\n",
       "    </tr>\n",
       "  </thead>\n",
       "  <tbody>\n",
       "    <tr>\n",
       "      <th>0</th>\n",
       "      <td>0</td>\n",
       "    </tr>\n",
       "    <tr>\n",
       "      <th>1</th>\n",
       "      <td>0</td>\n",
       "    </tr>\n",
       "    <tr>\n",
       "      <th>2</th>\n",
       "      <td>0</td>\n",
       "    </tr>\n",
       "    <tr>\n",
       "      <th>3</th>\n",
       "      <td>0</td>\n",
       "    </tr>\n",
       "    <tr>\n",
       "      <th>4</th>\n",
       "      <td>0</td>\n",
       "    </tr>\n",
       "    <tr>\n",
       "      <th>...</th>\n",
       "      <td>...</td>\n",
       "    </tr>\n",
       "    <tr>\n",
       "      <th>10456</th>\n",
       "      <td>0</td>\n",
       "    </tr>\n",
       "    <tr>\n",
       "      <th>10457</th>\n",
       "      <td>0</td>\n",
       "    </tr>\n",
       "    <tr>\n",
       "      <th>10458</th>\n",
       "      <td>0</td>\n",
       "    </tr>\n",
       "    <tr>\n",
       "      <th>10459</th>\n",
       "      <td>0</td>\n",
       "    </tr>\n",
       "    <tr>\n",
       "      <th>10460</th>\n",
       "      <td>0</td>\n",
       "    </tr>\n",
       "  </tbody>\n",
       "</table>\n",
       "<p>10461 rows × 1 columns</p>\n",
       "</div>"
      ],
      "text/plain": [
       "       Revenue\n",
       "0            0\n",
       "1            0\n",
       "2            0\n",
       "3            0\n",
       "4            0\n",
       "...        ...\n",
       "10456        0\n",
       "10457        0\n",
       "10458        0\n",
       "10459        0\n",
       "10460        0\n",
       "\n",
       "[10461 rows x 1 columns]"
      ]
     },
     "execution_count": 52,
     "metadata": {},
     "output_type": "execute_result"
    }
   ],
   "source": [
    "Y"
   ]
  },
  {
   "cell_type": "code",
   "execution_count": 53,
   "id": "7a85cfaa",
   "metadata": {},
   "outputs": [
    {
     "data": {
      "text/html": [
       "<div>\n",
       "<style scoped>\n",
       "    .dataframe tbody tr th:only-of-type {\n",
       "        vertical-align: middle;\n",
       "    }\n",
       "\n",
       "    .dataframe tbody tr th {\n",
       "        vertical-align: top;\n",
       "    }\n",
       "\n",
       "    .dataframe thead th {\n",
       "        text-align: right;\n",
       "    }\n",
       "</style>\n",
       "<table border=\"1\" class=\"dataframe\">\n",
       "  <thead>\n",
       "    <tr style=\"text-align: right;\">\n",
       "      <th></th>\n",
       "      <th>Administrative</th>\n",
       "      <th>Administrative_Duration</th>\n",
       "      <th>Informational</th>\n",
       "      <th>Informational_Duration</th>\n",
       "      <th>ProductRelated</th>\n",
       "      <th>ProductRelated_Duration</th>\n",
       "      <th>BounceRates</th>\n",
       "      <th>ExitRates</th>\n",
       "      <th>PageValues</th>\n",
       "      <th>SpecialDay</th>\n",
       "      <th>Month</th>\n",
       "      <th>OperatingSystems</th>\n",
       "      <th>Browser</th>\n",
       "      <th>TrafficType</th>\n",
       "      <th>VisitorType</th>\n",
       "      <th>Weekend</th>\n",
       "    </tr>\n",
       "  </thead>\n",
       "  <tbody>\n",
       "    <tr>\n",
       "      <th>0</th>\n",
       "      <td>0</td>\n",
       "      <td>0.0</td>\n",
       "      <td>0</td>\n",
       "      <td>0.0</td>\n",
       "      <td>2</td>\n",
       "      <td>64.000000</td>\n",
       "      <td>0.000000</td>\n",
       "      <td>0.100000</td>\n",
       "      <td>0.000000</td>\n",
       "      <td>0.0</td>\n",
       "      <td>Feb</td>\n",
       "      <td>2</td>\n",
       "      <td>2</td>\n",
       "      <td>2</td>\n",
       "      <td>Returning_Visitor</td>\n",
       "      <td>False</td>\n",
       "    </tr>\n",
       "    <tr>\n",
       "      <th>1</th>\n",
       "      <td>0</td>\n",
       "      <td>0.0</td>\n",
       "      <td>0</td>\n",
       "      <td>0.0</td>\n",
       "      <td>2</td>\n",
       "      <td>2.666667</td>\n",
       "      <td>0.050000</td>\n",
       "      <td>0.140000</td>\n",
       "      <td>0.000000</td>\n",
       "      <td>0.0</td>\n",
       "      <td>Feb</td>\n",
       "      <td>3</td>\n",
       "      <td>2</td>\n",
       "      <td>4</td>\n",
       "      <td>Returning_Visitor</td>\n",
       "      <td>False</td>\n",
       "    </tr>\n",
       "    <tr>\n",
       "      <th>2</th>\n",
       "      <td>0</td>\n",
       "      <td>0.0</td>\n",
       "      <td>0</td>\n",
       "      <td>0.0</td>\n",
       "      <td>10</td>\n",
       "      <td>627.500000</td>\n",
       "      <td>0.020000</td>\n",
       "      <td>0.050000</td>\n",
       "      <td>0.000000</td>\n",
       "      <td>0.0</td>\n",
       "      <td>Feb</td>\n",
       "      <td>3</td>\n",
       "      <td>3</td>\n",
       "      <td>4</td>\n",
       "      <td>Returning_Visitor</td>\n",
       "      <td>True</td>\n",
       "    </tr>\n",
       "    <tr>\n",
       "      <th>3</th>\n",
       "      <td>0</td>\n",
       "      <td>0.0</td>\n",
       "      <td>0</td>\n",
       "      <td>0.0</td>\n",
       "      <td>19</td>\n",
       "      <td>154.216667</td>\n",
       "      <td>0.015789</td>\n",
       "      <td>0.024561</td>\n",
       "      <td>0.000000</td>\n",
       "      <td>0.0</td>\n",
       "      <td>Feb</td>\n",
       "      <td>2</td>\n",
       "      <td>2</td>\n",
       "      <td>3</td>\n",
       "      <td>Returning_Visitor</td>\n",
       "      <td>False</td>\n",
       "    </tr>\n",
       "    <tr>\n",
       "      <th>4</th>\n",
       "      <td>0</td>\n",
       "      <td>0.0</td>\n",
       "      <td>0</td>\n",
       "      <td>0.0</td>\n",
       "      <td>2</td>\n",
       "      <td>37.000000</td>\n",
       "      <td>0.000000</td>\n",
       "      <td>0.100000</td>\n",
       "      <td>0.000000</td>\n",
       "      <td>0.8</td>\n",
       "      <td>Feb</td>\n",
       "      <td>2</td>\n",
       "      <td>2</td>\n",
       "      <td>3</td>\n",
       "      <td>Returning_Visitor</td>\n",
       "      <td>False</td>\n",
       "    </tr>\n",
       "    <tr>\n",
       "      <th>...</th>\n",
       "      <td>...</td>\n",
       "      <td>...</td>\n",
       "      <td>...</td>\n",
       "      <td>...</td>\n",
       "      <td>...</td>\n",
       "      <td>...</td>\n",
       "      <td>...</td>\n",
       "      <td>...</td>\n",
       "      <td>...</td>\n",
       "      <td>...</td>\n",
       "      <td>...</td>\n",
       "      <td>...</td>\n",
       "      <td>...</td>\n",
       "      <td>...</td>\n",
       "      <td>...</td>\n",
       "      <td>...</td>\n",
       "    </tr>\n",
       "    <tr>\n",
       "      <th>10456</th>\n",
       "      <td>3</td>\n",
       "      <td>145.0</td>\n",
       "      <td>0</td>\n",
       "      <td>0.0</td>\n",
       "      <td>53</td>\n",
       "      <td>1783.791667</td>\n",
       "      <td>0.007143</td>\n",
       "      <td>0.029031</td>\n",
       "      <td>12.241717</td>\n",
       "      <td>0.0</td>\n",
       "      <td>Dec</td>\n",
       "      <td>4</td>\n",
       "      <td>6</td>\n",
       "      <td>1</td>\n",
       "      <td>Returning_Visitor</td>\n",
       "      <td>True</td>\n",
       "    </tr>\n",
       "    <tr>\n",
       "      <th>10457</th>\n",
       "      <td>0</td>\n",
       "      <td>0.0</td>\n",
       "      <td>0</td>\n",
       "      <td>0.0</td>\n",
       "      <td>5</td>\n",
       "      <td>465.750000</td>\n",
       "      <td>0.000000</td>\n",
       "      <td>0.021333</td>\n",
       "      <td>0.000000</td>\n",
       "      <td>0.0</td>\n",
       "      <td>Nov</td>\n",
       "      <td>3</td>\n",
       "      <td>2</td>\n",
       "      <td>8</td>\n",
       "      <td>Returning_Visitor</td>\n",
       "      <td>True</td>\n",
       "    </tr>\n",
       "    <tr>\n",
       "      <th>10458</th>\n",
       "      <td>0</td>\n",
       "      <td>0.0</td>\n",
       "      <td>0</td>\n",
       "      <td>0.0</td>\n",
       "      <td>6</td>\n",
       "      <td>184.250000</td>\n",
       "      <td>0.083333</td>\n",
       "      <td>0.086667</td>\n",
       "      <td>0.000000</td>\n",
       "      <td>0.0</td>\n",
       "      <td>Nov</td>\n",
       "      <td>3</td>\n",
       "      <td>2</td>\n",
       "      <td>13</td>\n",
       "      <td>Returning_Visitor</td>\n",
       "      <td>True</td>\n",
       "    </tr>\n",
       "    <tr>\n",
       "      <th>10459</th>\n",
       "      <td>4</td>\n",
       "      <td>75.0</td>\n",
       "      <td>0</td>\n",
       "      <td>0.0</td>\n",
       "      <td>15</td>\n",
       "      <td>346.000000</td>\n",
       "      <td>0.000000</td>\n",
       "      <td>0.021053</td>\n",
       "      <td>0.000000</td>\n",
       "      <td>0.0</td>\n",
       "      <td>Nov</td>\n",
       "      <td>2</td>\n",
       "      <td>2</td>\n",
       "      <td>11</td>\n",
       "      <td>Returning_Visitor</td>\n",
       "      <td>False</td>\n",
       "    </tr>\n",
       "    <tr>\n",
       "      <th>10460</th>\n",
       "      <td>0</td>\n",
       "      <td>0.0</td>\n",
       "      <td>0</td>\n",
       "      <td>0.0</td>\n",
       "      <td>3</td>\n",
       "      <td>21.250000</td>\n",
       "      <td>0.000000</td>\n",
       "      <td>0.066667</td>\n",
       "      <td>0.000000</td>\n",
       "      <td>0.0</td>\n",
       "      <td>Nov</td>\n",
       "      <td>3</td>\n",
       "      <td>2</td>\n",
       "      <td>2</td>\n",
       "      <td>New_Visitor</td>\n",
       "      <td>True</td>\n",
       "    </tr>\n",
       "  </tbody>\n",
       "</table>\n",
       "<p>10461 rows × 16 columns</p>\n",
       "</div>"
      ],
      "text/plain": [
       "       Administrative  Administrative_Duration  Informational  \\\n",
       "0                   0                      0.0              0   \n",
       "1                   0                      0.0              0   \n",
       "2                   0                      0.0              0   \n",
       "3                   0                      0.0              0   \n",
       "4                   0                      0.0              0   \n",
       "...               ...                      ...            ...   \n",
       "10456               3                    145.0              0   \n",
       "10457               0                      0.0              0   \n",
       "10458               0                      0.0              0   \n",
       "10459               4                     75.0              0   \n",
       "10460               0                      0.0              0   \n",
       "\n",
       "       Informational_Duration  ProductRelated  ProductRelated_Duration  \\\n",
       "0                         0.0               2                64.000000   \n",
       "1                         0.0               2                 2.666667   \n",
       "2                         0.0              10               627.500000   \n",
       "3                         0.0              19               154.216667   \n",
       "4                         0.0               2                37.000000   \n",
       "...                       ...             ...                      ...   \n",
       "10456                     0.0              53              1783.791667   \n",
       "10457                     0.0               5               465.750000   \n",
       "10458                     0.0               6               184.250000   \n",
       "10459                     0.0              15               346.000000   \n",
       "10460                     0.0               3                21.250000   \n",
       "\n",
       "       BounceRates  ExitRates  PageValues SpecialDay Month OperatingSystems  \\\n",
       "0         0.000000   0.100000    0.000000        0.0   Feb                2   \n",
       "1         0.050000   0.140000    0.000000        0.0   Feb                3   \n",
       "2         0.020000   0.050000    0.000000        0.0   Feb                3   \n",
       "3         0.015789   0.024561    0.000000        0.0   Feb                2   \n",
       "4         0.000000   0.100000    0.000000        0.8   Feb                2   \n",
       "...            ...        ...         ...        ...   ...              ...   \n",
       "10456     0.007143   0.029031   12.241717        0.0   Dec                4   \n",
       "10457     0.000000   0.021333    0.000000        0.0   Nov                3   \n",
       "10458     0.083333   0.086667    0.000000        0.0   Nov                3   \n",
       "10459     0.000000   0.021053    0.000000        0.0   Nov                2   \n",
       "10460     0.000000   0.066667    0.000000        0.0   Nov                3   \n",
       "\n",
       "      Browser TrafficType        VisitorType Weekend  \n",
       "0           2           2  Returning_Visitor   False  \n",
       "1           2           4  Returning_Visitor   False  \n",
       "2           3           4  Returning_Visitor    True  \n",
       "3           2           3  Returning_Visitor   False  \n",
       "4           2           3  Returning_Visitor   False  \n",
       "...       ...         ...                ...     ...  \n",
       "10456       6           1  Returning_Visitor    True  \n",
       "10457       2           8  Returning_Visitor    True  \n",
       "10458       2          13  Returning_Visitor    True  \n",
       "10459       2          11  Returning_Visitor   False  \n",
       "10460       2           2        New_Visitor    True  \n",
       "\n",
       "[10461 rows x 16 columns]"
      ]
     },
     "execution_count": 53,
     "metadata": {},
     "output_type": "execute_result"
    }
   ],
   "source": [
    "X"
   ]
  },
  {
   "cell_type": "code",
   "execution_count": 54,
   "id": "de1aa881",
   "metadata": {},
   "outputs": [],
   "source": [
    "xcat = []\n",
    "xcon = []\n",
    "\n",
    "for i in X.columns:\n",
    "    if(X[i].dtypes == \"object\"):\n",
    "        xcat.append(i)\n",
    "    else:\n",
    "        xcon.append(i)\n",
    "    "
   ]
  },
  {
   "cell_type": "code",
   "execution_count": 55,
   "id": "9129351e",
   "metadata": {},
   "outputs": [
    {
     "data": {
      "text/plain": [
       "['SpecialDay',\n",
       " 'Month',\n",
       " 'OperatingSystems',\n",
       " 'Browser',\n",
       " 'TrafficType',\n",
       " 'VisitorType',\n",
       " 'Weekend']"
      ]
     },
     "execution_count": 55,
     "metadata": {},
     "output_type": "execute_result"
    }
   ],
   "source": [
    "xcat"
   ]
  },
  {
   "cell_type": "code",
   "execution_count": 56,
   "id": "cfe47a0c",
   "metadata": {},
   "outputs": [
    {
     "data": {
      "text/plain": [
       "['Administrative',\n",
       " 'Administrative_Duration',\n",
       " 'Informational',\n",
       " 'Informational_Duration',\n",
       " 'ProductRelated',\n",
       " 'ProductRelated_Duration',\n",
       " 'BounceRates',\n",
       " 'ExitRates',\n",
       " 'PageValues']"
      ]
     },
     "execution_count": 56,
     "metadata": {},
     "output_type": "execute_result"
    }
   ],
   "source": [
    "xcon"
   ]
  },
  {
   "cell_type": "markdown",
   "id": "02579177",
   "metadata": {},
   "source": [
    "# ***7) Preprocessing of X and Y columns for further model predictions-***"
   ]
  },
  {
   "cell_type": "code",
   "execution_count": 57,
   "id": "ae6934f8",
   "metadata": {},
   "outputs": [],
   "source": [
    "from sklearn.preprocessing import StandardScaler\n",
    "ss = StandardScaler ()\n",
    "data_stdX1 = pd.DataFrame(ss.fit_transform(X[xcon]),columns=xcon)"
   ]
  },
  {
   "cell_type": "code",
   "execution_count": 58,
   "id": "201e49ce",
   "metadata": {},
   "outputs": [
    {
     "data": {
      "text/html": [
       "<div>\n",
       "<style scoped>\n",
       "    .dataframe tbody tr th:only-of-type {\n",
       "        vertical-align: middle;\n",
       "    }\n",
       "\n",
       "    .dataframe tbody tr th {\n",
       "        vertical-align: top;\n",
       "    }\n",
       "\n",
       "    .dataframe thead th {\n",
       "        text-align: right;\n",
       "    }\n",
       "</style>\n",
       "<table border=\"1\" class=\"dataframe\">\n",
       "  <thead>\n",
       "    <tr style=\"text-align: right;\">\n",
       "      <th></th>\n",
       "      <th>Administrative</th>\n",
       "      <th>Administrative_Duration</th>\n",
       "      <th>Informational</th>\n",
       "      <th>Informational_Duration</th>\n",
       "      <th>ProductRelated</th>\n",
       "      <th>ProductRelated_Duration</th>\n",
       "      <th>BounceRates</th>\n",
       "      <th>ExitRates</th>\n",
       "      <th>PageValues</th>\n",
       "    </tr>\n",
       "  </thead>\n",
       "  <tbody>\n",
       "    <tr>\n",
       "      <th>0</th>\n",
       "      <td>-0.742854</td>\n",
       "      <td>-0.601424</td>\n",
       "      <td>-0.409613</td>\n",
       "      <td>-0.288759</td>\n",
       "      <td>-0.902170</td>\n",
       "      <td>-0.819204</td>\n",
       "      <td>-0.539915</td>\n",
       "      <td>2.116768</td>\n",
       "      <td>-0.370629</td>\n",
       "    </tr>\n",
       "    <tr>\n",
       "      <th>1</th>\n",
       "      <td>-0.742854</td>\n",
       "      <td>-0.601424</td>\n",
       "      <td>-0.409613</td>\n",
       "      <td>-0.288759</td>\n",
       "      <td>-0.902170</td>\n",
       "      <td>-0.873439</td>\n",
       "      <td>1.717158</td>\n",
       "      <td>3.418352</td>\n",
       "      <td>-0.370629</td>\n",
       "    </tr>\n",
       "    <tr>\n",
       "      <th>2</th>\n",
       "      <td>-0.742854</td>\n",
       "      <td>-0.601424</td>\n",
       "      <td>-0.409613</td>\n",
       "      <td>-0.288759</td>\n",
       "      <td>-0.613509</td>\n",
       "      <td>-0.320914</td>\n",
       "      <td>0.362914</td>\n",
       "      <td>0.489788</td>\n",
       "      <td>-0.370629</td>\n",
       "    </tr>\n",
       "    <tr>\n",
       "      <th>3</th>\n",
       "      <td>-0.742854</td>\n",
       "      <td>-0.601424</td>\n",
       "      <td>-0.409613</td>\n",
       "      <td>-0.288759</td>\n",
       "      <td>-0.288765</td>\n",
       "      <td>-0.739427</td>\n",
       "      <td>0.172845</td>\n",
       "      <td>-0.337974</td>\n",
       "      <td>-0.370629</td>\n",
       "    </tr>\n",
       "    <tr>\n",
       "      <th>4</th>\n",
       "      <td>-0.742854</td>\n",
       "      <td>-0.601424</td>\n",
       "      <td>-0.409613</td>\n",
       "      <td>-0.288759</td>\n",
       "      <td>-0.902170</td>\n",
       "      <td>-0.843079</td>\n",
       "      <td>-0.539915</td>\n",
       "      <td>2.116768</td>\n",
       "      <td>-0.370629</td>\n",
       "    </tr>\n",
       "    <tr>\n",
       "      <th>...</th>\n",
       "      <td>...</td>\n",
       "      <td>...</td>\n",
       "      <td>...</td>\n",
       "      <td>...</td>\n",
       "      <td>...</td>\n",
       "      <td>...</td>\n",
       "      <td>...</td>\n",
       "      <td>...</td>\n",
       "      <td>...</td>\n",
       "    </tr>\n",
       "    <tr>\n",
       "      <th>10456</th>\n",
       "      <td>0.369672</td>\n",
       "      <td>0.872246</td>\n",
       "      <td>-0.409613</td>\n",
       "      <td>-0.288759</td>\n",
       "      <td>0.938046</td>\n",
       "      <td>0.701566</td>\n",
       "      <td>-0.217476</td>\n",
       "      <td>-0.192547</td>\n",
       "      <td>0.780480</td>\n",
       "    </tr>\n",
       "    <tr>\n",
       "      <th>10457</th>\n",
       "      <td>-0.742854</td>\n",
       "      <td>-0.601424</td>\n",
       "      <td>-0.409613</td>\n",
       "      <td>-0.288759</td>\n",
       "      <td>-0.793922</td>\n",
       "      <td>-0.463946</td>\n",
       "      <td>-0.539915</td>\n",
       "      <td>-0.443014</td>\n",
       "      <td>-0.370629</td>\n",
       "    </tr>\n",
       "    <tr>\n",
       "      <th>10458</th>\n",
       "      <td>-0.742854</td>\n",
       "      <td>-0.601424</td>\n",
       "      <td>-0.409613</td>\n",
       "      <td>-0.288759</td>\n",
       "      <td>-0.757839</td>\n",
       "      <td>-0.712869</td>\n",
       "      <td>3.221874</td>\n",
       "      <td>1.682906</td>\n",
       "      <td>-0.370629</td>\n",
       "    </tr>\n",
       "    <tr>\n",
       "      <th>10459</th>\n",
       "      <td>0.740514</td>\n",
       "      <td>0.160819</td>\n",
       "      <td>-0.409613</td>\n",
       "      <td>-0.288759</td>\n",
       "      <td>-0.433095</td>\n",
       "      <td>-0.569838</td>\n",
       "      <td>-0.539915</td>\n",
       "      <td>-0.452148</td>\n",
       "      <td>-0.370629</td>\n",
       "    </tr>\n",
       "    <tr>\n",
       "      <th>10460</th>\n",
       "      <td>-0.742854</td>\n",
       "      <td>-0.601424</td>\n",
       "      <td>-0.409613</td>\n",
       "      <td>-0.288759</td>\n",
       "      <td>-0.866087</td>\n",
       "      <td>-0.857006</td>\n",
       "      <td>-0.539915</td>\n",
       "      <td>1.032115</td>\n",
       "      <td>-0.370629</td>\n",
       "    </tr>\n",
       "  </tbody>\n",
       "</table>\n",
       "<p>10461 rows × 9 columns</p>\n",
       "</div>"
      ],
      "text/plain": [
       "       Administrative  Administrative_Duration  Informational  \\\n",
       "0           -0.742854                -0.601424      -0.409613   \n",
       "1           -0.742854                -0.601424      -0.409613   \n",
       "2           -0.742854                -0.601424      -0.409613   \n",
       "3           -0.742854                -0.601424      -0.409613   \n",
       "4           -0.742854                -0.601424      -0.409613   \n",
       "...               ...                      ...            ...   \n",
       "10456        0.369672                 0.872246      -0.409613   \n",
       "10457       -0.742854                -0.601424      -0.409613   \n",
       "10458       -0.742854                -0.601424      -0.409613   \n",
       "10459        0.740514                 0.160819      -0.409613   \n",
       "10460       -0.742854                -0.601424      -0.409613   \n",
       "\n",
       "       Informational_Duration  ProductRelated  ProductRelated_Duration  \\\n",
       "0                   -0.288759       -0.902170                -0.819204   \n",
       "1                   -0.288759       -0.902170                -0.873439   \n",
       "2                   -0.288759       -0.613509                -0.320914   \n",
       "3                   -0.288759       -0.288765                -0.739427   \n",
       "4                   -0.288759       -0.902170                -0.843079   \n",
       "...                       ...             ...                      ...   \n",
       "10456               -0.288759        0.938046                 0.701566   \n",
       "10457               -0.288759       -0.793922                -0.463946   \n",
       "10458               -0.288759       -0.757839                -0.712869   \n",
       "10459               -0.288759       -0.433095                -0.569838   \n",
       "10460               -0.288759       -0.866087                -0.857006   \n",
       "\n",
       "       BounceRates  ExitRates  PageValues  \n",
       "0        -0.539915   2.116768   -0.370629  \n",
       "1         1.717158   3.418352   -0.370629  \n",
       "2         0.362914   0.489788   -0.370629  \n",
       "3         0.172845  -0.337974   -0.370629  \n",
       "4        -0.539915   2.116768   -0.370629  \n",
       "...            ...        ...         ...  \n",
       "10456    -0.217476  -0.192547    0.780480  \n",
       "10457    -0.539915  -0.443014   -0.370629  \n",
       "10458     3.221874   1.682906   -0.370629  \n",
       "10459    -0.539915  -0.452148   -0.370629  \n",
       "10460    -0.539915   1.032115   -0.370629  \n",
       "\n",
       "[10461 rows x 9 columns]"
      ]
     },
     "execution_count": 58,
     "metadata": {},
     "output_type": "execute_result"
    }
   ],
   "source": [
    "data_stdX1"
   ]
  },
  {
   "cell_type": "markdown",
   "id": "880f5ebe",
   "metadata": {},
   "source": [
    "*One hot encoding of Categorical columns-*"
   ]
  },
  {
   "cell_type": "code",
   "execution_count": 59,
   "id": "2d0bcd4c",
   "metadata": {},
   "outputs": [],
   "source": [
    "data_stdX2 = pd.get_dummies(X[xcat])"
   ]
  },
  {
   "cell_type": "code",
   "execution_count": 60,
   "id": "4cebaef8",
   "metadata": {},
   "outputs": [
    {
     "data": {
      "text/html": [
       "<div>\n",
       "<style scoped>\n",
       "    .dataframe tbody tr th:only-of-type {\n",
       "        vertical-align: middle;\n",
       "    }\n",
       "\n",
       "    .dataframe tbody tr th {\n",
       "        vertical-align: top;\n",
       "    }\n",
       "\n",
       "    .dataframe thead th {\n",
       "        text-align: right;\n",
       "    }\n",
       "</style>\n",
       "<table border=\"1\" class=\"dataframe\">\n",
       "  <thead>\n",
       "    <tr style=\"text-align: right;\">\n",
       "      <th></th>\n",
       "      <th>SpecialDay_0.0</th>\n",
       "      <th>SpecialDay_0.2</th>\n",
       "      <th>SpecialDay_0.4</th>\n",
       "      <th>SpecialDay_0.6</th>\n",
       "      <th>SpecialDay_0.8</th>\n",
       "      <th>SpecialDay_1.0</th>\n",
       "      <th>Month_Aug</th>\n",
       "      <th>Month_Dec</th>\n",
       "      <th>Month_Feb</th>\n",
       "      <th>Month_Jul</th>\n",
       "      <th>...</th>\n",
       "      <th>TrafficType_16</th>\n",
       "      <th>TrafficType_17</th>\n",
       "      <th>TrafficType_18</th>\n",
       "      <th>TrafficType_19</th>\n",
       "      <th>TrafficType_20</th>\n",
       "      <th>VisitorType_New_Visitor</th>\n",
       "      <th>VisitorType_Other</th>\n",
       "      <th>VisitorType_Returning_Visitor</th>\n",
       "      <th>Weekend_False</th>\n",
       "      <th>Weekend_True</th>\n",
       "    </tr>\n",
       "  </thead>\n",
       "  <tbody>\n",
       "    <tr>\n",
       "      <th>0</th>\n",
       "      <td>1</td>\n",
       "      <td>0</td>\n",
       "      <td>0</td>\n",
       "      <td>0</td>\n",
       "      <td>0</td>\n",
       "      <td>0</td>\n",
       "      <td>0</td>\n",
       "      <td>0</td>\n",
       "      <td>1</td>\n",
       "      <td>0</td>\n",
       "      <td>...</td>\n",
       "      <td>0</td>\n",
       "      <td>0</td>\n",
       "      <td>0</td>\n",
       "      <td>0</td>\n",
       "      <td>0</td>\n",
       "      <td>0</td>\n",
       "      <td>0</td>\n",
       "      <td>1</td>\n",
       "      <td>1</td>\n",
       "      <td>0</td>\n",
       "    </tr>\n",
       "    <tr>\n",
       "      <th>1</th>\n",
       "      <td>1</td>\n",
       "      <td>0</td>\n",
       "      <td>0</td>\n",
       "      <td>0</td>\n",
       "      <td>0</td>\n",
       "      <td>0</td>\n",
       "      <td>0</td>\n",
       "      <td>0</td>\n",
       "      <td>1</td>\n",
       "      <td>0</td>\n",
       "      <td>...</td>\n",
       "      <td>0</td>\n",
       "      <td>0</td>\n",
       "      <td>0</td>\n",
       "      <td>0</td>\n",
       "      <td>0</td>\n",
       "      <td>0</td>\n",
       "      <td>0</td>\n",
       "      <td>1</td>\n",
       "      <td>1</td>\n",
       "      <td>0</td>\n",
       "    </tr>\n",
       "    <tr>\n",
       "      <th>2</th>\n",
       "      <td>1</td>\n",
       "      <td>0</td>\n",
       "      <td>0</td>\n",
       "      <td>0</td>\n",
       "      <td>0</td>\n",
       "      <td>0</td>\n",
       "      <td>0</td>\n",
       "      <td>0</td>\n",
       "      <td>1</td>\n",
       "      <td>0</td>\n",
       "      <td>...</td>\n",
       "      <td>0</td>\n",
       "      <td>0</td>\n",
       "      <td>0</td>\n",
       "      <td>0</td>\n",
       "      <td>0</td>\n",
       "      <td>0</td>\n",
       "      <td>0</td>\n",
       "      <td>1</td>\n",
       "      <td>0</td>\n",
       "      <td>1</td>\n",
       "    </tr>\n",
       "    <tr>\n",
       "      <th>3</th>\n",
       "      <td>1</td>\n",
       "      <td>0</td>\n",
       "      <td>0</td>\n",
       "      <td>0</td>\n",
       "      <td>0</td>\n",
       "      <td>0</td>\n",
       "      <td>0</td>\n",
       "      <td>0</td>\n",
       "      <td>1</td>\n",
       "      <td>0</td>\n",
       "      <td>...</td>\n",
       "      <td>0</td>\n",
       "      <td>0</td>\n",
       "      <td>0</td>\n",
       "      <td>0</td>\n",
       "      <td>0</td>\n",
       "      <td>0</td>\n",
       "      <td>0</td>\n",
       "      <td>1</td>\n",
       "      <td>1</td>\n",
       "      <td>0</td>\n",
       "    </tr>\n",
       "    <tr>\n",
       "      <th>4</th>\n",
       "      <td>0</td>\n",
       "      <td>0</td>\n",
       "      <td>0</td>\n",
       "      <td>0</td>\n",
       "      <td>1</td>\n",
       "      <td>0</td>\n",
       "      <td>0</td>\n",
       "      <td>0</td>\n",
       "      <td>1</td>\n",
       "      <td>0</td>\n",
       "      <td>...</td>\n",
       "      <td>0</td>\n",
       "      <td>0</td>\n",
       "      <td>0</td>\n",
       "      <td>0</td>\n",
       "      <td>0</td>\n",
       "      <td>0</td>\n",
       "      <td>0</td>\n",
       "      <td>1</td>\n",
       "      <td>1</td>\n",
       "      <td>0</td>\n",
       "    </tr>\n",
       "    <tr>\n",
       "      <th>...</th>\n",
       "      <td>...</td>\n",
       "      <td>...</td>\n",
       "      <td>...</td>\n",
       "      <td>...</td>\n",
       "      <td>...</td>\n",
       "      <td>...</td>\n",
       "      <td>...</td>\n",
       "      <td>...</td>\n",
       "      <td>...</td>\n",
       "      <td>...</td>\n",
       "      <td>...</td>\n",
       "      <td>...</td>\n",
       "      <td>...</td>\n",
       "      <td>...</td>\n",
       "      <td>...</td>\n",
       "      <td>...</td>\n",
       "      <td>...</td>\n",
       "      <td>...</td>\n",
       "      <td>...</td>\n",
       "      <td>...</td>\n",
       "      <td>...</td>\n",
       "    </tr>\n",
       "    <tr>\n",
       "      <th>10456</th>\n",
       "      <td>1</td>\n",
       "      <td>0</td>\n",
       "      <td>0</td>\n",
       "      <td>0</td>\n",
       "      <td>0</td>\n",
       "      <td>0</td>\n",
       "      <td>0</td>\n",
       "      <td>1</td>\n",
       "      <td>0</td>\n",
       "      <td>0</td>\n",
       "      <td>...</td>\n",
       "      <td>0</td>\n",
       "      <td>0</td>\n",
       "      <td>0</td>\n",
       "      <td>0</td>\n",
       "      <td>0</td>\n",
       "      <td>0</td>\n",
       "      <td>0</td>\n",
       "      <td>1</td>\n",
       "      <td>0</td>\n",
       "      <td>1</td>\n",
       "    </tr>\n",
       "    <tr>\n",
       "      <th>10457</th>\n",
       "      <td>1</td>\n",
       "      <td>0</td>\n",
       "      <td>0</td>\n",
       "      <td>0</td>\n",
       "      <td>0</td>\n",
       "      <td>0</td>\n",
       "      <td>0</td>\n",
       "      <td>0</td>\n",
       "      <td>0</td>\n",
       "      <td>0</td>\n",
       "      <td>...</td>\n",
       "      <td>0</td>\n",
       "      <td>0</td>\n",
       "      <td>0</td>\n",
       "      <td>0</td>\n",
       "      <td>0</td>\n",
       "      <td>0</td>\n",
       "      <td>0</td>\n",
       "      <td>1</td>\n",
       "      <td>0</td>\n",
       "      <td>1</td>\n",
       "    </tr>\n",
       "    <tr>\n",
       "      <th>10458</th>\n",
       "      <td>1</td>\n",
       "      <td>0</td>\n",
       "      <td>0</td>\n",
       "      <td>0</td>\n",
       "      <td>0</td>\n",
       "      <td>0</td>\n",
       "      <td>0</td>\n",
       "      <td>0</td>\n",
       "      <td>0</td>\n",
       "      <td>0</td>\n",
       "      <td>...</td>\n",
       "      <td>0</td>\n",
       "      <td>0</td>\n",
       "      <td>0</td>\n",
       "      <td>0</td>\n",
       "      <td>0</td>\n",
       "      <td>0</td>\n",
       "      <td>0</td>\n",
       "      <td>1</td>\n",
       "      <td>0</td>\n",
       "      <td>1</td>\n",
       "    </tr>\n",
       "    <tr>\n",
       "      <th>10459</th>\n",
       "      <td>1</td>\n",
       "      <td>0</td>\n",
       "      <td>0</td>\n",
       "      <td>0</td>\n",
       "      <td>0</td>\n",
       "      <td>0</td>\n",
       "      <td>0</td>\n",
       "      <td>0</td>\n",
       "      <td>0</td>\n",
       "      <td>0</td>\n",
       "      <td>...</td>\n",
       "      <td>0</td>\n",
       "      <td>0</td>\n",
       "      <td>0</td>\n",
       "      <td>0</td>\n",
       "      <td>0</td>\n",
       "      <td>0</td>\n",
       "      <td>0</td>\n",
       "      <td>1</td>\n",
       "      <td>1</td>\n",
       "      <td>0</td>\n",
       "    </tr>\n",
       "    <tr>\n",
       "      <th>10460</th>\n",
       "      <td>1</td>\n",
       "      <td>0</td>\n",
       "      <td>0</td>\n",
       "      <td>0</td>\n",
       "      <td>0</td>\n",
       "      <td>0</td>\n",
       "      <td>0</td>\n",
       "      <td>0</td>\n",
       "      <td>0</td>\n",
       "      <td>0</td>\n",
       "      <td>...</td>\n",
       "      <td>0</td>\n",
       "      <td>0</td>\n",
       "      <td>0</td>\n",
       "      <td>0</td>\n",
       "      <td>0</td>\n",
       "      <td>1</td>\n",
       "      <td>0</td>\n",
       "      <td>0</td>\n",
       "      <td>0</td>\n",
       "      <td>1</td>\n",
       "    </tr>\n",
       "  </tbody>\n",
       "</table>\n",
       "<p>10461 rows × 62 columns</p>\n",
       "</div>"
      ],
      "text/plain": [
       "       SpecialDay_0.0  SpecialDay_0.2  SpecialDay_0.4  SpecialDay_0.6  \\\n",
       "0                   1               0               0               0   \n",
       "1                   1               0               0               0   \n",
       "2                   1               0               0               0   \n",
       "3                   1               0               0               0   \n",
       "4                   0               0               0               0   \n",
       "...               ...             ...             ...             ...   \n",
       "10456               1               0               0               0   \n",
       "10457               1               0               0               0   \n",
       "10458               1               0               0               0   \n",
       "10459               1               0               0               0   \n",
       "10460               1               0               0               0   \n",
       "\n",
       "       SpecialDay_0.8  SpecialDay_1.0  Month_Aug  Month_Dec  Month_Feb  \\\n",
       "0                   0               0          0          0          1   \n",
       "1                   0               0          0          0          1   \n",
       "2                   0               0          0          0          1   \n",
       "3                   0               0          0          0          1   \n",
       "4                   1               0          0          0          1   \n",
       "...               ...             ...        ...        ...        ...   \n",
       "10456               0               0          0          1          0   \n",
       "10457               0               0          0          0          0   \n",
       "10458               0               0          0          0          0   \n",
       "10459               0               0          0          0          0   \n",
       "10460               0               0          0          0          0   \n",
       "\n",
       "       Month_Jul  ...  TrafficType_16  TrafficType_17  TrafficType_18  \\\n",
       "0              0  ...               0               0               0   \n",
       "1              0  ...               0               0               0   \n",
       "2              0  ...               0               0               0   \n",
       "3              0  ...               0               0               0   \n",
       "4              0  ...               0               0               0   \n",
       "...          ...  ...             ...             ...             ...   \n",
       "10456          0  ...               0               0               0   \n",
       "10457          0  ...               0               0               0   \n",
       "10458          0  ...               0               0               0   \n",
       "10459          0  ...               0               0               0   \n",
       "10460          0  ...               0               0               0   \n",
       "\n",
       "       TrafficType_19  TrafficType_20  VisitorType_New_Visitor  \\\n",
       "0                   0               0                        0   \n",
       "1                   0               0                        0   \n",
       "2                   0               0                        0   \n",
       "3                   0               0                        0   \n",
       "4                   0               0                        0   \n",
       "...               ...             ...                      ...   \n",
       "10456               0               0                        0   \n",
       "10457               0               0                        0   \n",
       "10458               0               0                        0   \n",
       "10459               0               0                        0   \n",
       "10460               0               0                        1   \n",
       "\n",
       "       VisitorType_Other  VisitorType_Returning_Visitor  Weekend_False  \\\n",
       "0                      0                              1              1   \n",
       "1                      0                              1              1   \n",
       "2                      0                              1              0   \n",
       "3                      0                              1              1   \n",
       "4                      0                              1              1   \n",
       "...                  ...                            ...            ...   \n",
       "10456                  0                              1              0   \n",
       "10457                  0                              1              0   \n",
       "10458                  0                              1              0   \n",
       "10459                  0                              1              1   \n",
       "10460                  0                              0              0   \n",
       "\n",
       "       Weekend_True  \n",
       "0                 0  \n",
       "1                 0  \n",
       "2                 1  \n",
       "3                 0  \n",
       "4                 0  \n",
       "...             ...  \n",
       "10456             1  \n",
       "10457             1  \n",
       "10458             1  \n",
       "10459             0  \n",
       "10460             1  \n",
       "\n",
       "[10461 rows x 62 columns]"
      ]
     },
     "execution_count": 60,
     "metadata": {},
     "output_type": "execute_result"
    }
   ],
   "source": [
    "data_stdX2"
   ]
  },
  {
   "cell_type": "code",
   "execution_count": 61,
   "id": "246efaaa",
   "metadata": {},
   "outputs": [],
   "source": [
    "data_stdX = data_stdX1.join(data_stdX2)"
   ]
  },
  {
   "cell_type": "code",
   "execution_count": 62,
   "id": "54eb1700",
   "metadata": {},
   "outputs": [
    {
     "data": {
      "text/html": [
       "<div>\n",
       "<style scoped>\n",
       "    .dataframe tbody tr th:only-of-type {\n",
       "        vertical-align: middle;\n",
       "    }\n",
       "\n",
       "    .dataframe tbody tr th {\n",
       "        vertical-align: top;\n",
       "    }\n",
       "\n",
       "    .dataframe thead th {\n",
       "        text-align: right;\n",
       "    }\n",
       "</style>\n",
       "<table border=\"1\" class=\"dataframe\">\n",
       "  <thead>\n",
       "    <tr style=\"text-align: right;\">\n",
       "      <th></th>\n",
       "      <th>Administrative</th>\n",
       "      <th>Administrative_Duration</th>\n",
       "      <th>Informational</th>\n",
       "      <th>Informational_Duration</th>\n",
       "      <th>ProductRelated</th>\n",
       "      <th>ProductRelated_Duration</th>\n",
       "      <th>BounceRates</th>\n",
       "      <th>ExitRates</th>\n",
       "      <th>PageValues</th>\n",
       "      <th>SpecialDay_0.0</th>\n",
       "      <th>...</th>\n",
       "      <th>TrafficType_16</th>\n",
       "      <th>TrafficType_17</th>\n",
       "      <th>TrafficType_18</th>\n",
       "      <th>TrafficType_19</th>\n",
       "      <th>TrafficType_20</th>\n",
       "      <th>VisitorType_New_Visitor</th>\n",
       "      <th>VisitorType_Other</th>\n",
       "      <th>VisitorType_Returning_Visitor</th>\n",
       "      <th>Weekend_False</th>\n",
       "      <th>Weekend_True</th>\n",
       "    </tr>\n",
       "  </thead>\n",
       "  <tbody>\n",
       "    <tr>\n",
       "      <th>0</th>\n",
       "      <td>-0.742854</td>\n",
       "      <td>-0.601424</td>\n",
       "      <td>-0.409613</td>\n",
       "      <td>-0.288759</td>\n",
       "      <td>-0.902170</td>\n",
       "      <td>-0.819204</td>\n",
       "      <td>-0.539915</td>\n",
       "      <td>2.116768</td>\n",
       "      <td>-0.370629</td>\n",
       "      <td>1</td>\n",
       "      <td>...</td>\n",
       "      <td>0</td>\n",
       "      <td>0</td>\n",
       "      <td>0</td>\n",
       "      <td>0</td>\n",
       "      <td>0</td>\n",
       "      <td>0</td>\n",
       "      <td>0</td>\n",
       "      <td>1</td>\n",
       "      <td>1</td>\n",
       "      <td>0</td>\n",
       "    </tr>\n",
       "    <tr>\n",
       "      <th>1</th>\n",
       "      <td>-0.742854</td>\n",
       "      <td>-0.601424</td>\n",
       "      <td>-0.409613</td>\n",
       "      <td>-0.288759</td>\n",
       "      <td>-0.902170</td>\n",
       "      <td>-0.873439</td>\n",
       "      <td>1.717158</td>\n",
       "      <td>3.418352</td>\n",
       "      <td>-0.370629</td>\n",
       "      <td>1</td>\n",
       "      <td>...</td>\n",
       "      <td>0</td>\n",
       "      <td>0</td>\n",
       "      <td>0</td>\n",
       "      <td>0</td>\n",
       "      <td>0</td>\n",
       "      <td>0</td>\n",
       "      <td>0</td>\n",
       "      <td>1</td>\n",
       "      <td>1</td>\n",
       "      <td>0</td>\n",
       "    </tr>\n",
       "    <tr>\n",
       "      <th>2</th>\n",
       "      <td>-0.742854</td>\n",
       "      <td>-0.601424</td>\n",
       "      <td>-0.409613</td>\n",
       "      <td>-0.288759</td>\n",
       "      <td>-0.613509</td>\n",
       "      <td>-0.320914</td>\n",
       "      <td>0.362914</td>\n",
       "      <td>0.489788</td>\n",
       "      <td>-0.370629</td>\n",
       "      <td>1</td>\n",
       "      <td>...</td>\n",
       "      <td>0</td>\n",
       "      <td>0</td>\n",
       "      <td>0</td>\n",
       "      <td>0</td>\n",
       "      <td>0</td>\n",
       "      <td>0</td>\n",
       "      <td>0</td>\n",
       "      <td>1</td>\n",
       "      <td>0</td>\n",
       "      <td>1</td>\n",
       "    </tr>\n",
       "    <tr>\n",
       "      <th>3</th>\n",
       "      <td>-0.742854</td>\n",
       "      <td>-0.601424</td>\n",
       "      <td>-0.409613</td>\n",
       "      <td>-0.288759</td>\n",
       "      <td>-0.288765</td>\n",
       "      <td>-0.739427</td>\n",
       "      <td>0.172845</td>\n",
       "      <td>-0.337974</td>\n",
       "      <td>-0.370629</td>\n",
       "      <td>1</td>\n",
       "      <td>...</td>\n",
       "      <td>0</td>\n",
       "      <td>0</td>\n",
       "      <td>0</td>\n",
       "      <td>0</td>\n",
       "      <td>0</td>\n",
       "      <td>0</td>\n",
       "      <td>0</td>\n",
       "      <td>1</td>\n",
       "      <td>1</td>\n",
       "      <td>0</td>\n",
       "    </tr>\n",
       "    <tr>\n",
       "      <th>4</th>\n",
       "      <td>-0.742854</td>\n",
       "      <td>-0.601424</td>\n",
       "      <td>-0.409613</td>\n",
       "      <td>-0.288759</td>\n",
       "      <td>-0.902170</td>\n",
       "      <td>-0.843079</td>\n",
       "      <td>-0.539915</td>\n",
       "      <td>2.116768</td>\n",
       "      <td>-0.370629</td>\n",
       "      <td>0</td>\n",
       "      <td>...</td>\n",
       "      <td>0</td>\n",
       "      <td>0</td>\n",
       "      <td>0</td>\n",
       "      <td>0</td>\n",
       "      <td>0</td>\n",
       "      <td>0</td>\n",
       "      <td>0</td>\n",
       "      <td>1</td>\n",
       "      <td>1</td>\n",
       "      <td>0</td>\n",
       "    </tr>\n",
       "    <tr>\n",
       "      <th>...</th>\n",
       "      <td>...</td>\n",
       "      <td>...</td>\n",
       "      <td>...</td>\n",
       "      <td>...</td>\n",
       "      <td>...</td>\n",
       "      <td>...</td>\n",
       "      <td>...</td>\n",
       "      <td>...</td>\n",
       "      <td>...</td>\n",
       "      <td>...</td>\n",
       "      <td>...</td>\n",
       "      <td>...</td>\n",
       "      <td>...</td>\n",
       "      <td>...</td>\n",
       "      <td>...</td>\n",
       "      <td>...</td>\n",
       "      <td>...</td>\n",
       "      <td>...</td>\n",
       "      <td>...</td>\n",
       "      <td>...</td>\n",
       "      <td>...</td>\n",
       "    </tr>\n",
       "    <tr>\n",
       "      <th>10456</th>\n",
       "      <td>0.369672</td>\n",
       "      <td>0.872246</td>\n",
       "      <td>-0.409613</td>\n",
       "      <td>-0.288759</td>\n",
       "      <td>0.938046</td>\n",
       "      <td>0.701566</td>\n",
       "      <td>-0.217476</td>\n",
       "      <td>-0.192547</td>\n",
       "      <td>0.780480</td>\n",
       "      <td>1</td>\n",
       "      <td>...</td>\n",
       "      <td>0</td>\n",
       "      <td>0</td>\n",
       "      <td>0</td>\n",
       "      <td>0</td>\n",
       "      <td>0</td>\n",
       "      <td>0</td>\n",
       "      <td>0</td>\n",
       "      <td>1</td>\n",
       "      <td>0</td>\n",
       "      <td>1</td>\n",
       "    </tr>\n",
       "    <tr>\n",
       "      <th>10457</th>\n",
       "      <td>-0.742854</td>\n",
       "      <td>-0.601424</td>\n",
       "      <td>-0.409613</td>\n",
       "      <td>-0.288759</td>\n",
       "      <td>-0.793922</td>\n",
       "      <td>-0.463946</td>\n",
       "      <td>-0.539915</td>\n",
       "      <td>-0.443014</td>\n",
       "      <td>-0.370629</td>\n",
       "      <td>1</td>\n",
       "      <td>...</td>\n",
       "      <td>0</td>\n",
       "      <td>0</td>\n",
       "      <td>0</td>\n",
       "      <td>0</td>\n",
       "      <td>0</td>\n",
       "      <td>0</td>\n",
       "      <td>0</td>\n",
       "      <td>1</td>\n",
       "      <td>0</td>\n",
       "      <td>1</td>\n",
       "    </tr>\n",
       "    <tr>\n",
       "      <th>10458</th>\n",
       "      <td>-0.742854</td>\n",
       "      <td>-0.601424</td>\n",
       "      <td>-0.409613</td>\n",
       "      <td>-0.288759</td>\n",
       "      <td>-0.757839</td>\n",
       "      <td>-0.712869</td>\n",
       "      <td>3.221874</td>\n",
       "      <td>1.682906</td>\n",
       "      <td>-0.370629</td>\n",
       "      <td>1</td>\n",
       "      <td>...</td>\n",
       "      <td>0</td>\n",
       "      <td>0</td>\n",
       "      <td>0</td>\n",
       "      <td>0</td>\n",
       "      <td>0</td>\n",
       "      <td>0</td>\n",
       "      <td>0</td>\n",
       "      <td>1</td>\n",
       "      <td>0</td>\n",
       "      <td>1</td>\n",
       "    </tr>\n",
       "    <tr>\n",
       "      <th>10459</th>\n",
       "      <td>0.740514</td>\n",
       "      <td>0.160819</td>\n",
       "      <td>-0.409613</td>\n",
       "      <td>-0.288759</td>\n",
       "      <td>-0.433095</td>\n",
       "      <td>-0.569838</td>\n",
       "      <td>-0.539915</td>\n",
       "      <td>-0.452148</td>\n",
       "      <td>-0.370629</td>\n",
       "      <td>1</td>\n",
       "      <td>...</td>\n",
       "      <td>0</td>\n",
       "      <td>0</td>\n",
       "      <td>0</td>\n",
       "      <td>0</td>\n",
       "      <td>0</td>\n",
       "      <td>0</td>\n",
       "      <td>0</td>\n",
       "      <td>1</td>\n",
       "      <td>1</td>\n",
       "      <td>0</td>\n",
       "    </tr>\n",
       "    <tr>\n",
       "      <th>10460</th>\n",
       "      <td>-0.742854</td>\n",
       "      <td>-0.601424</td>\n",
       "      <td>-0.409613</td>\n",
       "      <td>-0.288759</td>\n",
       "      <td>-0.866087</td>\n",
       "      <td>-0.857006</td>\n",
       "      <td>-0.539915</td>\n",
       "      <td>1.032115</td>\n",
       "      <td>-0.370629</td>\n",
       "      <td>1</td>\n",
       "      <td>...</td>\n",
       "      <td>0</td>\n",
       "      <td>0</td>\n",
       "      <td>0</td>\n",
       "      <td>0</td>\n",
       "      <td>0</td>\n",
       "      <td>1</td>\n",
       "      <td>0</td>\n",
       "      <td>0</td>\n",
       "      <td>0</td>\n",
       "      <td>1</td>\n",
       "    </tr>\n",
       "  </tbody>\n",
       "</table>\n",
       "<p>10461 rows × 71 columns</p>\n",
       "</div>"
      ],
      "text/plain": [
       "       Administrative  Administrative_Duration  Informational  \\\n",
       "0           -0.742854                -0.601424      -0.409613   \n",
       "1           -0.742854                -0.601424      -0.409613   \n",
       "2           -0.742854                -0.601424      -0.409613   \n",
       "3           -0.742854                -0.601424      -0.409613   \n",
       "4           -0.742854                -0.601424      -0.409613   \n",
       "...               ...                      ...            ...   \n",
       "10456        0.369672                 0.872246      -0.409613   \n",
       "10457       -0.742854                -0.601424      -0.409613   \n",
       "10458       -0.742854                -0.601424      -0.409613   \n",
       "10459        0.740514                 0.160819      -0.409613   \n",
       "10460       -0.742854                -0.601424      -0.409613   \n",
       "\n",
       "       Informational_Duration  ProductRelated  ProductRelated_Duration  \\\n",
       "0                   -0.288759       -0.902170                -0.819204   \n",
       "1                   -0.288759       -0.902170                -0.873439   \n",
       "2                   -0.288759       -0.613509                -0.320914   \n",
       "3                   -0.288759       -0.288765                -0.739427   \n",
       "4                   -0.288759       -0.902170                -0.843079   \n",
       "...                       ...             ...                      ...   \n",
       "10456               -0.288759        0.938046                 0.701566   \n",
       "10457               -0.288759       -0.793922                -0.463946   \n",
       "10458               -0.288759       -0.757839                -0.712869   \n",
       "10459               -0.288759       -0.433095                -0.569838   \n",
       "10460               -0.288759       -0.866087                -0.857006   \n",
       "\n",
       "       BounceRates  ExitRates  PageValues  SpecialDay_0.0  ...  \\\n",
       "0        -0.539915   2.116768   -0.370629               1  ...   \n",
       "1         1.717158   3.418352   -0.370629               1  ...   \n",
       "2         0.362914   0.489788   -0.370629               1  ...   \n",
       "3         0.172845  -0.337974   -0.370629               1  ...   \n",
       "4        -0.539915   2.116768   -0.370629               0  ...   \n",
       "...            ...        ...         ...             ...  ...   \n",
       "10456    -0.217476  -0.192547    0.780480               1  ...   \n",
       "10457    -0.539915  -0.443014   -0.370629               1  ...   \n",
       "10458     3.221874   1.682906   -0.370629               1  ...   \n",
       "10459    -0.539915  -0.452148   -0.370629               1  ...   \n",
       "10460    -0.539915   1.032115   -0.370629               1  ...   \n",
       "\n",
       "       TrafficType_16  TrafficType_17  TrafficType_18  TrafficType_19  \\\n",
       "0                   0               0               0               0   \n",
       "1                   0               0               0               0   \n",
       "2                   0               0               0               0   \n",
       "3                   0               0               0               0   \n",
       "4                   0               0               0               0   \n",
       "...               ...             ...             ...             ...   \n",
       "10456               0               0               0               0   \n",
       "10457               0               0               0               0   \n",
       "10458               0               0               0               0   \n",
       "10459               0               0               0               0   \n",
       "10460               0               0               0               0   \n",
       "\n",
       "       TrafficType_20  VisitorType_New_Visitor  VisitorType_Other  \\\n",
       "0                   0                        0                  0   \n",
       "1                   0                        0                  0   \n",
       "2                   0                        0                  0   \n",
       "3                   0                        0                  0   \n",
       "4                   0                        0                  0   \n",
       "...               ...                      ...                ...   \n",
       "10456               0                        0                  0   \n",
       "10457               0                        0                  0   \n",
       "10458               0                        0                  0   \n",
       "10459               0                        0                  0   \n",
       "10460               0                        1                  0   \n",
       "\n",
       "       VisitorType_Returning_Visitor  Weekend_False  Weekend_True  \n",
       "0                                  1              1             0  \n",
       "1                                  1              1             0  \n",
       "2                                  1              0             1  \n",
       "3                                  1              1             0  \n",
       "4                                  1              1             0  \n",
       "...                              ...            ...           ...  \n",
       "10456                              1              0             1  \n",
       "10457                              1              0             1  \n",
       "10458                              1              0             1  \n",
       "10459                              1              1             0  \n",
       "10460                              0              0             1  \n",
       "\n",
       "[10461 rows x 71 columns]"
      ]
     },
     "execution_count": 62,
     "metadata": {},
     "output_type": "execute_result"
    }
   ],
   "source": [
    "data_stdX"
   ]
  },
  {
   "cell_type": "markdown",
   "id": "525602b4",
   "metadata": {},
   "source": [
    "# ***8)Divide data in training & testing set-***"
   ]
  },
  {
   "cell_type": "code",
   "execution_count": 63,
   "id": "cf8b2f55",
   "metadata": {},
   "outputs": [],
   "source": [
    "from sklearn.model_selection import train_test_split\n",
    "xtrain,xtest,ytrain,ytest = train_test_split(data_stdX,Y,test_size=0.2,random_state=21)"
   ]
  },
  {
   "cell_type": "code",
   "execution_count": 64,
   "id": "be611895",
   "metadata": {},
   "outputs": [
    {
     "name": "stdout",
     "output_type": "stream",
     "text": [
      "(8368, 71)\n",
      "(8368, 1)\n",
      "(2093, 71)\n",
      "(2093, 1)\n"
     ]
    }
   ],
   "source": [
    "print(xtrain.shape)\n",
    "print(ytrain.shape)\n",
    "print(xtest.shape)\n",
    "print(ytest.shape)"
   ]
  },
  {
   "cell_type": "markdown",
   "id": "80993eb0",
   "metadata": {},
   "source": [
    "# ***MODEL PREDICTIONS-***"
   ]
  },
  {
   "cell_type": "markdown",
   "id": "c126ff4f",
   "metadata": {},
   "source": [
    "For this classification model, I am using 4 different models for further predictions-\n",
    "\n",
    "1) Logistic Regression\n",
    "2) KNN Classifier\n",
    "3) Decision Tree Classifier\n",
    "4) Random Forest Classifier"
   ]
  },
  {
   "cell_type": "markdown",
   "id": "234ceda9",
   "metadata": {},
   "source": [
    "# ***9)  LOGISTIC REGRESSION MODEL FOR BINARY PREDICTIONS-***"
   ]
  },
  {
   "cell_type": "code",
   "execution_count": 65,
   "id": "c8171b1b",
   "metadata": {},
   "outputs": [
    {
     "name": "stdout",
     "output_type": "stream",
     "text": [
      "Model Type - LOGISTIC REGRESSION\n",
      "Predicted Value(Y) - REVENUE\n",
      "-----------------------------------------------\n",
      "Training Data Accuracy Score -  0.899\n",
      "Testing Data Accuracy Score -  0.894\n",
      "------------------------------------------------\n"
     ]
    }
   ],
   "source": [
    "from sklearn.linear_model import LogisticRegression\n",
    "lr = LogisticRegression()\n",
    "model = lr.fit(xtrain,ytrain)\n",
    "\n",
    "tr_pred = model.predict(xtrain)\n",
    "ts_pred = model.predict(xtest)\n",
    "\n",
    "from sklearn.metrics import accuracy_score\n",
    "tr_acc = accuracy_score(ytrain,tr_pred)\n",
    "ts_acc = accuracy_score(ytest,ts_pred)\n",
    "\n",
    "print(\"Model Type - LOGISTIC REGRESSION\")\n",
    "print(\"Predicted Value(Y) - REVENUE\")\n",
    "print(\"-----------------------------------------------\")\n",
    "print(\"Training Data Accuracy Score - \",round(tr_acc,3))\n",
    "print(\"Testing Data Accuracy Score - \",round(ts_acc,3))\n",
    "print(\"------------------------------------------------\")"
   ]
  },
  {
   "cell_type": "markdown",
   "id": "1c3d546e",
   "metadata": {},
   "source": [
    "# ***10) K-Nearest Neighbour Classifier Model -***"
   ]
  },
  {
   "cell_type": "code",
   "execution_count": 66,
   "id": "887c1edd",
   "metadata": {},
   "outputs": [
    {
     "name": "stdout",
     "output_type": "stream",
     "text": [
      "Model Type - KNN Classifier\n",
      "Predicted Value(Y) - REVENUE\n",
      "-----------------------------------------------\n",
      "Training Data Accuracy Score -  1.0\n",
      "Testing Data Accuracy Score -  0.859\n",
      "------------------------------------------------\n"
     ]
    }
   ],
   "source": [
    "from sklearn.neighbors import KNeighborsClassifier\n",
    "knn = KNeighborsClassifier(n_neighbors=1)\n",
    "model = knn.fit(xtrain,ytrain)\n",
    "\n",
    "tr_pred = model.predict(xtrain)\n",
    "ts_pred = model.predict(xtest)\n",
    "\n",
    "from sklearn.metrics import accuracy_score\n",
    "tr_acc = accuracy_score(ytrain,tr_pred)\n",
    "ts_acc = accuracy_score(ytest,ts_pred)\n",
    "\n",
    "print(\"Model Type - KNN Classifier\")\n",
    "print(\"Predicted Value(Y) - REVENUE\")\n",
    "print(\"-----------------------------------------------\")\n",
    "print(\"Training Data Accuracy Score - \",round(tr_acc,3))\n",
    "print(\"Testing Data Accuracy Score - \",round(ts_acc,3))\n",
    "print(\"------------------------------------------------\")"
   ]
  },
  {
   "cell_type": "markdown",
   "id": "151dc5ad",
   "metadata": {},
   "source": [
    "*GridSearch CV for best params-*"
   ]
  },
  {
   "cell_type": "code",
   "execution_count": 67,
   "id": "f3ba6bab",
   "metadata": {},
   "outputs": [
    {
     "data": {
      "text/plain": [
       "{'n_neighbors': 25}"
      ]
     },
     "execution_count": 67,
     "metadata": {},
     "output_type": "execute_result"
    }
   ],
   "source": [
    "tg = {\"n_neighbors\" : range(0,50,1)}\n",
    "knn = KNeighborsClassifier ()\n",
    "\n",
    "from sklearn.model_selection import GridSearchCV\n",
    "cv = GridSearchCV(knn,tg,scoring=\"accuracy\",cv=10)\n",
    "cvmodel = cv.fit(data_stdX,Y)\n",
    "cvmodel.best_params_"
   ]
  },
  {
   "cell_type": "code",
   "execution_count": 68,
   "id": "08dfa9ff",
   "metadata": {},
   "outputs": [
    {
     "name": "stdout",
     "output_type": "stream",
     "text": [
      "Model Type - KNN Classifier(n_neighbors=25)\n",
      "Predicted Value(Y) - REVENUE\n",
      "-----------------------------------------------\n",
      "Training Data Accuracy Score -  0.897\n",
      "Testing Data Accuracy Score -  0.893\n",
      "------------------------------------------------\n"
     ]
    }
   ],
   "source": [
    "from sklearn.neighbors import KNeighborsClassifier\n",
    "knn = KNeighborsClassifier(n_neighbors=25)\n",
    "model = knn.fit(xtrain,ytrain)\n",
    "\n",
    "tr_pred = model.predict(xtrain)\n",
    "ts_pred = model.predict(xtest)\n",
    "\n",
    "from sklearn.metrics import accuracy_score\n",
    "tr_acc = accuracy_score(ytrain,tr_pred)\n",
    "ts_acc = accuracy_score(ytest,ts_pred)\n",
    "\n",
    "print(\"Model Type - KNN Classifier(n_neighbors=25)\")\n",
    "print(\"Predicted Value(Y) - REVENUE\")\n",
    "print(\"-----------------------------------------------\")\n",
    "print(\"Training Data Accuracy Score - \",round(tr_acc,3))\n",
    "print(\"Testing Data Accuracy Score - \",round(ts_acc,3))\n",
    "print(\"------------------------------------------------\")"
   ]
  },
  {
   "cell_type": "markdown",
   "id": "677f3b61",
   "metadata": {},
   "source": [
    "# ***11) Decision Tree Classifier Model-***"
   ]
  },
  {
   "cell_type": "code",
   "execution_count": 69,
   "id": "29a57181",
   "metadata": {},
   "outputs": [
    {
     "name": "stdout",
     "output_type": "stream",
     "text": [
      "Model Type - Decision Tree Classifier\n",
      "Predicted Value(Y) - REVENUE\n",
      "-----------------------------------------------\n",
      "Training Data Accuracy Score -  1.0\n",
      "Testing Data Accuracy Score -  0.87\n",
      "------------------------------------------------\n"
     ]
    }
   ],
   "source": [
    "from sklearn.tree import DecisionTreeClassifier\n",
    "dtc = DecisionTreeClassifier (random_state=21)\n",
    "model = dtc.fit(xtrain,ytrain)\n",
    "\n",
    "tr_pred = model.predict(xtrain)\n",
    "ts_pred = model.predict(xtest)\n",
    "\n",
    "from sklearn.metrics import accuracy_score\n",
    "tr_acc = accuracy_score(ytrain,tr_pred)\n",
    "ts_acc = accuracy_score(ytest,ts_pred)\n",
    "\n",
    "print(\"Model Type - Decision Tree Classifier\")\n",
    "print(\"Predicted Value(Y) - REVENUE\")\n",
    "print(\"-----------------------------------------------\")\n",
    "print(\"Training Data Accuracy Score - \",round(tr_acc,3))\n",
    "print(\"Testing Data Accuracy Score - \",round(ts_acc,4))\n",
    "print(\"------------------------------------------------\")"
   ]
  },
  {
   "cell_type": "markdown",
   "id": "ec3a1843",
   "metadata": {},
   "source": [
    "For Decision Tree, we are using three Post-pruning Factors-\n",
    "\n",
    "1) Max-Depth\n",
    "2) Min Samples Split\n",
    "3) Min Samples Leaf Nodes"
   ]
  },
  {
   "cell_type": "markdown",
   "id": "fca7b27d",
   "metadata": {},
   "source": [
    "*Max_Depth-*"
   ]
  },
  {
   "cell_type": "code",
   "execution_count": 70,
   "id": "0cc15fda",
   "metadata": {},
   "outputs": [],
   "source": [
    "tr = []\n",
    "ts = []\n",
    "for i in range(2,50,1):\n",
    "    from sklearn.tree import DecisionTreeClassifier\n",
    "    dtc = DecisionTreeClassifier(random_state=21,max_depth=i)\n",
    "    model = dtc.fit(xtrain,ytrain)\n",
    "    tr_pred = model.predict(xtrain)\n",
    "    ts_pred = model.predict(xtest)\n",
    "    from sklearn.metrics import accuracy_score\n",
    "    tr_acc = accuracy_score(ytrain,tr_pred)\n",
    "    ts_acc = accuracy_score(ytest,ts_pred)\n",
    "    tr.append(tr_acc)\n",
    "    ts.append(ts_acc)"
   ]
  },
  {
   "cell_type": "code",
   "execution_count": 71,
   "id": "85792540",
   "metadata": {},
   "outputs": [
    {
     "data": {
      "text/plain": [
       "Text(0, 0.5, 'Accuracy Score Range')"
      ]
     },
     "execution_count": 71,
     "metadata": {},
     "output_type": "execute_result"
    },
    {
     "data": {
      "image/png": "[encoded data removed]",
      "text/plain": [
       "<Figure size 432x288 with 1 Axes>"
      ]
     },
     "metadata": {
      "needs_background": "light"
     },
     "output_type": "display_data"
    }
   ],
   "source": [
    "mlp.plot(tr,c=\"blue\")\n",
    "mlp.plot(ts,c=\"orange\")\n",
    "mlp.title(\"Decision Tree CLASSIFIER - Training Acc(Blue) & Testing Acc(Orange)\")\n",
    "mlp.xlabel(\"Max_Depth\")\n",
    "mlp.ylabel(\"Accuracy Score Range\")"
   ]
  },
  {
   "cell_type": "markdown",
   "id": "c89392f5",
   "metadata": {},
   "source": [
    "*GridSearch CV for best params-(Max_depth)*"
   ]
  },
  {
   "cell_type": "code",
   "execution_count": 72,
   "id": "41df1bb0",
   "metadata": {},
   "outputs": [
    {
     "data": {
      "text/plain": [
       "{'max_depth': 3}"
      ]
     },
     "execution_count": 72,
     "metadata": {},
     "output_type": "execute_result"
    }
   ],
   "source": [
    "tg = {\"max_depth\":range(2,50,1),}\n",
    "dtc = DecisionTreeClassifier(random_state=21)\n",
    "\n",
    "from sklearn.model_selection import GridSearchCV\n",
    "cv = GridSearchCV(dtc,tg,scoring=\"accuracy\",cv=10)\n",
    "cvmodel = cv.fit(data_stdX,Y)\n",
    "cvmodel.best_params_"
   ]
  },
  {
   "cell_type": "code",
   "execution_count": 73,
   "id": "02f6e3c5",
   "metadata": {},
   "outputs": [
    {
     "name": "stdout",
     "output_type": "stream",
     "text": [
      "Model Type - Decision Tree Classifier (Max_Depth=3)\n",
      "Predicted Value(Y) - REVENUE\n",
      "-----------------------------------------------\n",
      "Training Data Accuracy Score -  0.906\n",
      "Testing Data Accuracy Score -  0.9021\n",
      "------------------------------------------------\n"
     ]
    }
   ],
   "source": [
    "from sklearn.tree import DecisionTreeClassifier\n",
    "dtc = DecisionTreeClassifier (random_state=21,max_depth=3)\n",
    "model = dtc.fit(xtrain,ytrain)\n",
    "\n",
    "tr_pred = model.predict(xtrain)\n",
    "ts_pred = model.predict(xtest)\n",
    "\n",
    "from sklearn.metrics import accuracy_score\n",
    "tr_acc = accuracy_score(ytrain,tr_pred)\n",
    "ts_acc = accuracy_score(ytest,ts_pred)\n",
    "\n",
    "print(\"Model Type - Decision Tree Classifier (Max_Depth=3)\")\n",
    "print(\"Predicted Value(Y) - REVENUE\")\n",
    "print(\"-----------------------------------------------\")\n",
    "print(\"Training Data Accuracy Score - \",round(tr_acc,3))\n",
    "print(\"Testing Data Accuracy Score - \",round(ts_acc,4))\n",
    "print(\"------------------------------------------------\")"
   ]
  },
  {
   "cell_type": "markdown",
   "id": "f995272d",
   "metadata": {},
   "source": [
    "*Min_Samples_Split -*"
   ]
  },
  {
   "cell_type": "code",
   "execution_count": 74,
   "id": "02e08f27",
   "metadata": {},
   "outputs": [],
   "source": [
    "tr = []\n",
    "ts = []\n",
    "for i in range(2,500,1):\n",
    "    from sklearn.tree import DecisionTreeClassifier\n",
    "    dtc = DecisionTreeClassifier(random_state=21,min_samples_split=i)\n",
    "    model = dtc.fit(xtrain,ytrain)\n",
    "    tr_pred = model.predict(xtrain)\n",
    "    ts_pred = model.predict(xtest)\n",
    "    from sklearn.metrics import accuracy_score\n",
    "    tr_acc = accuracy_score(ytrain,tr_pred)\n",
    "    ts_acc = accuracy_score(ytest,ts_pred)\n",
    "    tr.append(tr_acc)\n",
    "    ts.append(ts_acc)"
   ]
  },
  {
   "cell_type": "code",
   "execution_count": 75,
   "id": "8b0d02aa",
   "metadata": {},
   "outputs": [
    {
     "data": {
      "text/plain": [
       "Text(0, 0.5, 'Accuracy Score Range')"
      ]
     },
     "execution_count": 75,
     "metadata": {},
     "output_type": "execute_result"
    },
    {
     "data": {
      "image/png": "[encoded data removed]",
      "text/plain": [
       "<Figure size 432x288 with 1 Axes>"
      ]
     },
     "metadata": {
      "needs_background": "light"
     },
     "output_type": "display_data"
    }
   ],
   "source": [
    "mlp.plot(tr,c=\"blue\")\n",
    "mlp.plot(ts,c=\"orange\")\n",
    "mlp.title(\"Decision Tree CLASSIFIER - Training Acc(Blue) & Testing Acc(Orange)\")\n",
    "mlp.xlabel(\"Min_Samples Split\")\n",
    "mlp.ylabel(\"Accuracy Score Range\")"
   ]
  },
  {
   "cell_type": "markdown",
   "id": "ff7a217d",
   "metadata": {},
   "source": [
    "*GridSearch CV for best params-(Min_Samples_Split)*"
   ]
  },
  {
   "cell_type": "code",
   "execution_count": 76,
   "id": "e75c62bd",
   "metadata": {},
   "outputs": [
    {
     "data": {
      "text/plain": [
       "{'min_samples_split': 190}"
      ]
     },
     "execution_count": 76,
     "metadata": {},
     "output_type": "execute_result"
    }
   ],
   "source": [
    "tg = {\"min_samples_split\": range(2,500,1)}\n",
    "dtc = DecisionTreeClassifier(random_state=21)\n",
    "\n",
    "from sklearn.model_selection import GridSearchCV\n",
    "cv = GridSearchCV(dtc,tg,scoring=\"accuracy\",cv=10)\n",
    "cvmodel = cv.fit(data_stdX,Y)\n",
    "cvmodel.best_params_"
   ]
  },
  {
   "cell_type": "code",
   "execution_count": 77,
   "id": "2934e2b4",
   "metadata": {},
   "outputs": [
    {
     "name": "stdout",
     "output_type": "stream",
     "text": [
      "Model Type - Decision Tree Classifier (Min Samples Split=190)\n",
      "Predicted Value(Y) -  REVENUE\n",
      "-----------------------------------------------\n",
      "Training Data Accuracy Score -  0.916\n",
      "Testing Data Accuracy Score -  0.9011\n",
      "------------------------------------------------\n"
     ]
    }
   ],
   "source": [
    "from sklearn.tree import DecisionTreeClassifier\n",
    "dtc = DecisionTreeClassifier (random_state=21,min_samples_split=190)\n",
    "model = dtc.fit(xtrain,ytrain)\n",
    "\n",
    "tr_pred = model.predict(xtrain)\n",
    "ts_pred = model.predict(xtest)\n",
    "\n",
    "from sklearn.metrics import accuracy_score\n",
    "tr_acc = accuracy_score(ytrain,tr_pred)\n",
    "ts_acc = accuracy_score(ytest,ts_pred)\n",
    "\n",
    "print(\"Model Type - Decision Tree Classifier (Min Samples Split=190)\")\n",
    "print(\"Predicted Value(Y) -  REVENUE\")\n",
    "print(\"-----------------------------------------------\")\n",
    "print(\"Training Data Accuracy Score - \",round(tr_acc,3))\n",
    "print(\"Testing Data Accuracy Score - \",round(ts_acc,4))\n",
    "print(\"------------------------------------------------\")"
   ]
  },
  {
   "cell_type": "markdown",
   "id": "e812165e",
   "metadata": {},
   "source": [
    "*Min_Leaf_Nodes-*"
   ]
  },
  {
   "cell_type": "code",
   "execution_count": 78,
   "id": "2ad3e02d",
   "metadata": {},
   "outputs": [],
   "source": [
    "tr = []\n",
    "ts = []\n",
    "for i in range(2,50,1):\n",
    "    from sklearn.tree import DecisionTreeClassifier\n",
    "    dtc = DecisionTreeClassifier(random_state=21,min_samples_leaf=i)\n",
    "    model = dtc.fit(xtrain,ytrain)\n",
    "    tr_pred = model.predict(xtrain)\n",
    "    ts_pred = model.predict(xtest)\n",
    "    from sklearn.metrics import accuracy_score\n",
    "    tr_acc = accuracy_score(ytrain,tr_pred)\n",
    "    ts_acc = accuracy_score(ytest,ts_pred)\n",
    "    tr.append(tr_acc)\n",
    "    ts.append(ts_acc)"
   ]
  },
  {
   "cell_type": "code",
   "execution_count": 79,
   "id": "5ecdd28b",
   "metadata": {},
   "outputs": [
    {
     "data": {
      "text/plain": [
       "Text(0, 0.5, 'Accuracy Score Range')"
      ]
     },
     "execution_count": 79,
     "metadata": {},
     "output_type": "execute_result"
    },
    {
     "data": {
      "image/png": "[encoded data removed]",
      "text/plain": [
       "<Figure size 432x288 with 1 Axes>"
      ]
     },
     "metadata": {
      "needs_background": "light"
     },
     "output_type": "display_data"
    }
   ],
   "source": [
    "mlp.plot(tr,c=\"blue\")\n",
    "mlp.plot(ts,c=\"orange\")\n",
    "mlp.title(\"Decision Tree CLASSIFIER - Training Acc(Blue) & Testing Acc(Orange)\")\n",
    "mlp.xlabel(\"Min_Leaf_Nodes\")\n",
    "mlp.ylabel(\"Accuracy Score Range\")"
   ]
  },
  {
   "cell_type": "markdown",
   "id": "18e03027",
   "metadata": {},
   "source": [
    "*GridSearch CV for best params-(Min_Samples_Leaf)*"
   ]
  },
  {
   "cell_type": "code",
   "execution_count": 80,
   "id": "f4a663dc",
   "metadata": {},
   "outputs": [
    {
     "data": {
      "text/plain": [
       "{'min_samples_leaf': 98}"
      ]
     },
     "execution_count": 80,
     "metadata": {},
     "output_type": "execute_result"
    }
   ],
   "source": [
    "tg = {\"min_samples_leaf\":range(2,100,1),\n",
    "     }\n",
    "dtc = DecisionTreeClassifier(random_state=21)\n",
    "\n",
    "from sklearn.model_selection import GridSearchCV\n",
    "cv = GridSearchCV(dtc,tg,scoring=\"accuracy\",cv=10)\n",
    "cvmodel = cv.fit(data_stdX,Y)\n",
    "cvmodel.best_params_"
   ]
  },
  {
   "cell_type": "code",
   "execution_count": 81,
   "id": "c72e9a44",
   "metadata": {},
   "outputs": [
    {
     "name": "stdout",
     "output_type": "stream",
     "text": [
      "Model Type - Decision Tree Classifier (Min Samples Leaf=98)\n",
      "Predicted Value(Y) - REVENUE\n",
      "-----------------------------------------------\n",
      "Training Data Accuracy Score -  0.913\n",
      "Testing Data Accuracy Score -  0.9021\n",
      "------------------------------------------------\n"
     ]
    }
   ],
   "source": [
    "from sklearn.tree import DecisionTreeClassifier\n",
    "dtc = DecisionTreeClassifier (random_state=21,min_samples_leaf=98)\n",
    "model = dtc.fit(xtrain,ytrain)\n",
    "\n",
    "tr_pred = model.predict(xtrain)\n",
    "ts_pred = model.predict(xtest)\n",
    "\n",
    "from sklearn.metrics import accuracy_score\n",
    "tr_acc = accuracy_score(ytrain,tr_pred)\n",
    "ts_acc = accuracy_score(ytest,ts_pred)\n",
    "\n",
    "print(\"Model Type - Decision Tree Classifier (Min Samples Leaf=98)\")\n",
    "print(\"Predicted Value(Y) - REVENUE\")\n",
    "print(\"-----------------------------------------------\")\n",
    "print(\"Training Data Accuracy Score - \",round(tr_acc,3))\n",
    "print(\"Testing Data Accuracy Score - \",round(ts_acc,4))\n",
    "print(\"------------------------------------------------\")"
   ]
  },
  {
   "cell_type": "code",
   "execution_count": 82,
   "id": "ae6bc300",
   "metadata": {},
   "outputs": [],
   "source": [
    "DecisionTree_Results = {\"DT Factors\" : [\"Max Depth\",\"Min Samples Split\",\"Min Samples Leaf\"],\n",
    "                        \"Values\" : [\"3\",\"190\",\"98\"],\n",
    "                        \"Training Accuracy Score\" : [\"0.906\",\"0.916\",\"0.913\"],\n",
    "                        \"Testing Accuracy Score\" : [\"0.9021\",\"0.9011\",\"0.9021\"]\n",
    "                       }"
   ]
  },
  {
   "cell_type": "code",
   "execution_count": 83,
   "id": "d6a241c3",
   "metadata": {},
   "outputs": [],
   "source": [
    "Decision_Tree_Scores = pd.DataFrame(data=DecisionTree_Results)"
   ]
  },
  {
   "cell_type": "code",
   "execution_count": 84,
   "id": "3617f951",
   "metadata": {},
   "outputs": [
    {
     "data": {
      "text/html": [
       "<div>\n",
       "<style scoped>\n",
       "    .dataframe tbody tr th:only-of-type {\n",
       "        vertical-align: middle;\n",
       "    }\n",
       "\n",
       "    .dataframe tbody tr th {\n",
       "        vertical-align: top;\n",
       "    }\n",
       "\n",
       "    .dataframe thead th {\n",
       "        text-align: right;\n",
       "    }\n",
       "</style>\n",
       "<table border=\"1\" class=\"dataframe\">\n",
       "  <thead>\n",
       "    <tr style=\"text-align: right;\">\n",
       "      <th></th>\n",
       "      <th>DT Factors</th>\n",
       "      <th>Values</th>\n",
       "      <th>Training Accuracy Score</th>\n",
       "      <th>Testing Accuracy Score</th>\n",
       "    </tr>\n",
       "  </thead>\n",
       "  <tbody>\n",
       "    <tr>\n",
       "      <th>0</th>\n",
       "      <td>Max Depth</td>\n",
       "      <td>3</td>\n",
       "      <td>0.906</td>\n",
       "      <td>0.9021</td>\n",
       "    </tr>\n",
       "    <tr>\n",
       "      <th>1</th>\n",
       "      <td>Min Samples Split</td>\n",
       "      <td>190</td>\n",
       "      <td>0.916</td>\n",
       "      <td>0.9011</td>\n",
       "    </tr>\n",
       "    <tr>\n",
       "      <th>2</th>\n",
       "      <td>Min Samples Leaf</td>\n",
       "      <td>98</td>\n",
       "      <td>0.913</td>\n",
       "      <td>0.9021</td>\n",
       "    </tr>\n",
       "  </tbody>\n",
       "</table>\n",
       "</div>"
      ],
      "text/plain": [
       "          DT Factors Values Training Accuracy Score Testing Accuracy Score\n",
       "0          Max Depth      3                   0.906                 0.9021\n",
       "1  Min Samples Split    190                   0.916                 0.9011\n",
       "2   Min Samples Leaf     98                   0.913                 0.9021"
      ]
     },
     "execution_count": 84,
     "metadata": {},
     "output_type": "execute_result"
    }
   ],
   "source": [
    "Decision_Tree_Scores"
   ]
  },
  {
   "cell_type": "markdown",
   "id": "839ee08b",
   "metadata": {},
   "source": [
    "# ***12) Random Forest Classifier Model-***"
   ]
  },
  {
   "cell_type": "code",
   "execution_count": 85,
   "id": "907b3981",
   "metadata": {},
   "outputs": [],
   "source": [
    "tr = []\n",
    "ts = []\n",
    "for i in range(2,100,1):\n",
    "    from sklearn.ensemble import RandomForestClassifier\n",
    "    rfc = RandomForestClassifier (n_estimators=100,random_state=21,max_depth=i)\n",
    "    model = rfc.fit(xtrain,ytrain)\n",
    "    tr_pred = model.predict(xtrain)\n",
    "    ts_pred = model.predict(xtest)\n",
    "    from sklearn.metrics import accuracy_score\n",
    "    tr_acc = accuracy_score(ytrain,tr_pred)\n",
    "    ts_acc = accuracy_score(ytest,ts_pred)\n",
    "    tr.append(tr_acc)\n",
    "    ts.append(ts_acc)"
   ]
  },
  {
   "cell_type": "code",
   "execution_count": 86,
   "id": "1934fb3c",
   "metadata": {},
   "outputs": [
    {
     "data": {
      "text/plain": [
       "Text(0, 0.5, 'Accuracy Score Range')"
      ]
     },
     "execution_count": 86,
     "metadata": {},
     "output_type": "execute_result"
    },
    {
     "data": {
      "image/png": "[encoded data removed]",
      "text/plain": [
       "<Figure size 432x288 with 1 Axes>"
      ]
     },
     "metadata": {
      "needs_background": "light"
     },
     "output_type": "display_data"
    }
   ],
   "source": [
    "mlp.plot(tr,c=\"black\")\n",
    "mlp.plot(ts,c=\"red\")\n",
    "mlp.title(\"RANDOM FOREST CLASSIFIER - Training Acc(Black) & Testing Acc(Red)\")\n",
    "mlp.xlabel(\"Max Depth\")\n",
    "mlp.ylabel(\"Accuracy Score Range\")"
   ]
  },
  {
   "cell_type": "markdown",
   "id": "89909402",
   "metadata": {},
   "source": [
    "*GridSearch CV for best params-*"
   ]
  },
  {
   "cell_type": "code",
   "execution_count": 87,
   "id": "f6367387",
   "metadata": {},
   "outputs": [
    {
     "data": {
      "text/plain": [
       "{'max_depth': 12}"
      ]
     },
     "execution_count": 87,
     "metadata": {},
     "output_type": "execute_result"
    }
   ],
   "source": [
    "tg = {\"max_depth\": range(0,50,1)}\n",
    "rfc = RandomForestClassifier(random_state=21)\n",
    "\n",
    "from sklearn.model_selection import GridSearchCV\n",
    "cv = GridSearchCV(rfc,tg,scoring=\"accuracy\",cv=10)\n",
    "cvmodel = cv.fit(data_stdX,Y)\n",
    "cvmodel.best_params_"
   ]
  },
  {
   "cell_type": "code",
   "execution_count": 88,
   "id": "a1c10600",
   "metadata": {},
   "outputs": [
    {
     "name": "stdout",
     "output_type": "stream",
     "text": [
      "Model Type - Random Forest Classifier\n",
      "Predicted Value(Y) - ATTRITION\n",
      "-----------------------------------------------\n",
      "Training Data Accuracy Score -  0.955\n",
      "Testing Data Accuracy Score -  0.9021\n",
      "------------------------------------------------\n"
     ]
    }
   ],
   "source": [
    "from sklearn.ensemble import RandomForestClassifier\n",
    "rfc = RandomForestClassifier(n_estimators=100,random_state=21,max_depth=12)\n",
    "model = rfc.fit(xtrain,ytrain)\n",
    "\n",
    "tr_pred = model.predict(xtrain)\n",
    "ts_pred = model.predict(xtest)\n",
    "\n",
    "from sklearn.metrics import accuracy_score\n",
    "tr_acc = accuracy_score(ytrain,tr_pred)\n",
    "ts_acc = accuracy_score(ytest,ts_pred)\n",
    "\n",
    "print(\"Model Type - Random Forest Classifier\")\n",
    "print(\"Predicted Value(Y) - ATTRITION\")\n",
    "print(\"-----------------------------------------------\")\n",
    "print(\"Training Data Accuracy Score - \",round(tr_acc,3))\n",
    "print(\"Testing Data Accuracy Score - \",round(ts_acc,4))\n",
    "print(\"------------------------------------------------\")"
   ]
  },
  {
   "cell_type": "markdown",
   "id": "69d7dd7c",
   "metadata": {},
   "source": [
    "# ***13) Feature Importance of Parameters-***"
   ]
  },
  {
   "cell_type": "code",
   "execution_count": 89,
   "id": "066bc5d2",
   "metadata": {},
   "outputs": [
    {
     "data": {
      "text/plain": [
       "array([3.56736057e-02, 4.40960913e-02, 1.33139058e-02, 2.27633857e-02,\n",
       "       5.91491149e-02, 6.96888155e-02, 3.91139604e-02, 6.55349628e-02,\n",
       "       4.68237398e-01, 2.94549926e-03, 7.26524420e-04, 6.86959447e-04,\n",
       "       1.22204457e-03, 9.24367596e-04, 5.81763212e-04, 2.76285415e-03,\n",
       "       4.74719964e-03, 3.38719315e-04, 3.09347424e-03, 1.67480389e-03,\n",
       "       4.92158055e-03, 6.56413899e-03, 2.36563268e-02, 4.09761920e-03,\n",
       "       3.77520716e-03, 4.73911555e-03, 6.02918326e-03, 5.40027039e-03,\n",
       "       2.42834292e-03, 1.95081890e-04, 3.68016270e-04, 0.00000000e+00,\n",
       "       5.24909167e-04, 5.04570044e-03, 6.28573271e-03, 5.33040528e-04,\n",
       "       4.36602263e-03, 2.67402548e-03, 1.42593813e-03, 9.10013222e-04,\n",
       "       1.26344813e-03, 4.06963855e-08, 1.48926676e-03, 1.01192660e-04,\n",
       "       7.45548609e-04, 2.82915765e-04, 4.44574776e-03, 7.78732944e-03,\n",
       "       4.36720743e-03, 3.93030357e-03, 2.90082436e-03, 2.45336920e-03,\n",
       "       7.99846727e-04, 3.73591464e-03, 2.06018091e-04, 3.20016627e-03,\n",
       "       2.26807162e-03, 6.72677072e-08, 2.58941701e-03, 1.25631402e-04,\n",
       "       2.63282312e-05, 0.00000000e+00, 0.00000000e+00, 1.81770879e-05,\n",
       "       9.53687392e-05, 2.07560212e-03, 9.98747094e-03, 2.57837113e-04,\n",
       "       1.09938411e-02, 6.23885499e-03, 6.39847663e-03])"
      ]
     },
     "execution_count": 89,
     "metadata": {},
     "output_type": "execute_result"
    }
   ],
   "source": [
    "rfc = RandomForestClassifier(n_estimators=100,random_state=21,max_depth=12)\n",
    "rfc.fit(data_stdX,Y)\n",
    "rfc.feature_importances_"
   ]
  },
  {
   "cell_type": "code",
   "execution_count": 90,
   "id": "85d74886",
   "metadata": {},
   "outputs": [
    {
     "data": {
      "text/html": [
       "<div>\n",
       "<style scoped>\n",
       "    .dataframe tbody tr th:only-of-type {\n",
       "        vertical-align: middle;\n",
       "    }\n",
       "\n",
       "    .dataframe tbody tr th {\n",
       "        vertical-align: top;\n",
       "    }\n",
       "\n",
       "    .dataframe thead th {\n",
       "        text-align: right;\n",
       "    }\n",
       "</style>\n",
       "<table border=\"1\" class=\"dataframe\">\n",
       "  <thead>\n",
       "    <tr style=\"text-align: right;\">\n",
       "      <th></th>\n",
       "      <th>Column_Name</th>\n",
       "      <th>Importance</th>\n",
       "    </tr>\n",
       "  </thead>\n",
       "  <tbody>\n",
       "    <tr>\n",
       "      <th>8</th>\n",
       "      <td>PageValues</td>\n",
       "      <td>0.468237</td>\n",
       "    </tr>\n",
       "    <tr>\n",
       "      <th>5</th>\n",
       "      <td>ProductRelated_Duration</td>\n",
       "      <td>0.069689</td>\n",
       "    </tr>\n",
       "    <tr>\n",
       "      <th>7</th>\n",
       "      <td>ExitRates</td>\n",
       "      <td>0.065535</td>\n",
       "    </tr>\n",
       "    <tr>\n",
       "      <th>4</th>\n",
       "      <td>ProductRelated</td>\n",
       "      <td>0.059149</td>\n",
       "    </tr>\n",
       "    <tr>\n",
       "      <th>1</th>\n",
       "      <td>Administrative_Duration</td>\n",
       "      <td>0.044096</td>\n",
       "    </tr>\n",
       "    <tr>\n",
       "      <th>6</th>\n",
       "      <td>BounceRates</td>\n",
       "      <td>0.039114</td>\n",
       "    </tr>\n",
       "    <tr>\n",
       "      <th>0</th>\n",
       "      <td>Administrative</td>\n",
       "      <td>0.035674</td>\n",
       "    </tr>\n",
       "    <tr>\n",
       "      <th>22</th>\n",
       "      <td>Month_Nov</td>\n",
       "      <td>0.023656</td>\n",
       "    </tr>\n",
       "    <tr>\n",
       "      <th>3</th>\n",
       "      <td>Informational_Duration</td>\n",
       "      <td>0.022763</td>\n",
       "    </tr>\n",
       "    <tr>\n",
       "      <th>2</th>\n",
       "      <td>Informational</td>\n",
       "      <td>0.013314</td>\n",
       "    </tr>\n",
       "    <tr>\n",
       "      <th>68</th>\n",
       "      <td>VisitorType_Returning_Visitor</td>\n",
       "      <td>0.010994</td>\n",
       "    </tr>\n",
       "    <tr>\n",
       "      <th>66</th>\n",
       "      <td>VisitorType_New_Visitor</td>\n",
       "      <td>0.009987</td>\n",
       "    </tr>\n",
       "    <tr>\n",
       "      <th>47</th>\n",
       "      <td>TrafficType_2</td>\n",
       "      <td>0.007787</td>\n",
       "    </tr>\n",
       "    <tr>\n",
       "      <th>21</th>\n",
       "      <td>Month_May</td>\n",
       "      <td>0.006564</td>\n",
       "    </tr>\n",
       "    <tr>\n",
       "      <th>70</th>\n",
       "      <td>Weekend_True</td>\n",
       "      <td>0.006398</td>\n",
       "    </tr>\n",
       "    <tr>\n",
       "      <th>34</th>\n",
       "      <td>Browser_2</td>\n",
       "      <td>0.006286</td>\n",
       "    </tr>\n",
       "    <tr>\n",
       "      <th>69</th>\n",
       "      <td>Weekend_False</td>\n",
       "      <td>0.006239</td>\n",
       "    </tr>\n",
       "    <tr>\n",
       "      <th>26</th>\n",
       "      <td>OperatingSystems_2</td>\n",
       "      <td>0.006029</td>\n",
       "    </tr>\n",
       "    <tr>\n",
       "      <th>27</th>\n",
       "      <td>OperatingSystems_3</td>\n",
       "      <td>0.0054</td>\n",
       "    </tr>\n",
       "    <tr>\n",
       "      <th>33</th>\n",
       "      <td>Browser_1</td>\n",
       "      <td>0.005046</td>\n",
       "    </tr>\n",
       "    <tr>\n",
       "      <th>20</th>\n",
       "      <td>Month_Mar</td>\n",
       "      <td>0.004922</td>\n",
       "    </tr>\n",
       "    <tr>\n",
       "      <th>16</th>\n",
       "      <td>Month_Dec</td>\n",
       "      <td>0.004747</td>\n",
       "    </tr>\n",
       "    <tr>\n",
       "      <th>25</th>\n",
       "      <td>OperatingSystems_1</td>\n",
       "      <td>0.004739</td>\n",
       "    </tr>\n",
       "    <tr>\n",
       "      <th>46</th>\n",
       "      <td>TrafficType_1</td>\n",
       "      <td>0.004446</td>\n",
       "    </tr>\n",
       "    <tr>\n",
       "      <th>48</th>\n",
       "      <td>TrafficType_3</td>\n",
       "      <td>0.004367</td>\n",
       "    </tr>\n",
       "    <tr>\n",
       "      <th>36</th>\n",
       "      <td>Browser_4</td>\n",
       "      <td>0.004366</td>\n",
       "    </tr>\n",
       "    <tr>\n",
       "      <th>23</th>\n",
       "      <td>Month_Oct</td>\n",
       "      <td>0.004098</td>\n",
       "    </tr>\n",
       "    <tr>\n",
       "      <th>49</th>\n",
       "      <td>TrafficType_4</td>\n",
       "      <td>0.00393</td>\n",
       "    </tr>\n",
       "    <tr>\n",
       "      <th>24</th>\n",
       "      <td>Month_Sep</td>\n",
       "      <td>0.003775</td>\n",
       "    </tr>\n",
       "    <tr>\n",
       "      <th>53</th>\n",
       "      <td>TrafficType_8</td>\n",
       "      <td>0.003736</td>\n",
       "    </tr>\n",
       "    <tr>\n",
       "      <th>55</th>\n",
       "      <td>TrafficType_10</td>\n",
       "      <td>0.0032</td>\n",
       "    </tr>\n",
       "    <tr>\n",
       "      <th>18</th>\n",
       "      <td>Month_Jul</td>\n",
       "      <td>0.003093</td>\n",
       "    </tr>\n",
       "    <tr>\n",
       "      <th>9</th>\n",
       "      <td>SpecialDay_0.0</td>\n",
       "      <td>0.002945</td>\n",
       "    </tr>\n",
       "    <tr>\n",
       "      <th>50</th>\n",
       "      <td>TrafficType_5</td>\n",
       "      <td>0.002901</td>\n",
       "    </tr>\n",
       "    <tr>\n",
       "      <th>15</th>\n",
       "      <td>Month_Aug</td>\n",
       "      <td>0.002763</td>\n",
       "    </tr>\n",
       "    <tr>\n",
       "      <th>37</th>\n",
       "      <td>Browser_5</td>\n",
       "      <td>0.002674</td>\n",
       "    </tr>\n",
       "    <tr>\n",
       "      <th>58</th>\n",
       "      <td>TrafficType_13</td>\n",
       "      <td>0.002589</td>\n",
       "    </tr>\n",
       "    <tr>\n",
       "      <th>51</th>\n",
       "      <td>TrafficType_6</td>\n",
       "      <td>0.002453</td>\n",
       "    </tr>\n",
       "    <tr>\n",
       "      <th>28</th>\n",
       "      <td>OperatingSystems_4</td>\n",
       "      <td>0.002428</td>\n",
       "    </tr>\n",
       "    <tr>\n",
       "      <th>56</th>\n",
       "      <td>TrafficType_11</td>\n",
       "      <td>0.002268</td>\n",
       "    </tr>\n",
       "    <tr>\n",
       "      <th>65</th>\n",
       "      <td>TrafficType_20</td>\n",
       "      <td>0.002076</td>\n",
       "    </tr>\n",
       "    <tr>\n",
       "      <th>19</th>\n",
       "      <td>Month_June</td>\n",
       "      <td>0.001675</td>\n",
       "    </tr>\n",
       "    <tr>\n",
       "      <th>42</th>\n",
       "      <td>Browser_10</td>\n",
       "      <td>0.001489</td>\n",
       "    </tr>\n",
       "    <tr>\n",
       "      <th>38</th>\n",
       "      <td>Browser_6</td>\n",
       "      <td>0.001426</td>\n",
       "    </tr>\n",
       "    <tr>\n",
       "      <th>40</th>\n",
       "      <td>Browser_8</td>\n",
       "      <td>0.001263</td>\n",
       "    </tr>\n",
       "    <tr>\n",
       "      <th>12</th>\n",
       "      <td>SpecialDay_0.6</td>\n",
       "      <td>0.001222</td>\n",
       "    </tr>\n",
       "    <tr>\n",
       "      <th>13</th>\n",
       "      <td>SpecialDay_0.8</td>\n",
       "      <td>0.000924</td>\n",
       "    </tr>\n",
       "    <tr>\n",
       "      <th>39</th>\n",
       "      <td>Browser_7</td>\n",
       "      <td>0.00091</td>\n",
       "    </tr>\n",
       "    <tr>\n",
       "      <th>52</th>\n",
       "      <td>TrafficType_7</td>\n",
       "      <td>0.0008</td>\n",
       "    </tr>\n",
       "    <tr>\n",
       "      <th>44</th>\n",
       "      <td>Browser_12</td>\n",
       "      <td>0.000746</td>\n",
       "    </tr>\n",
       "    <tr>\n",
       "      <th>10</th>\n",
       "      <td>SpecialDay_0.2</td>\n",
       "      <td>0.000727</td>\n",
       "    </tr>\n",
       "    <tr>\n",
       "      <th>11</th>\n",
       "      <td>SpecialDay_0.4</td>\n",
       "      <td>0.000687</td>\n",
       "    </tr>\n",
       "    <tr>\n",
       "      <th>14</th>\n",
       "      <td>SpecialDay_1.0</td>\n",
       "      <td>0.000582</td>\n",
       "    </tr>\n",
       "    <tr>\n",
       "      <th>35</th>\n",
       "      <td>Browser_3</td>\n",
       "      <td>0.000533</td>\n",
       "    </tr>\n",
       "    <tr>\n",
       "      <th>32</th>\n",
       "      <td>OperatingSystems_8</td>\n",
       "      <td>0.000525</td>\n",
       "    </tr>\n",
       "    <tr>\n",
       "      <th>30</th>\n",
       "      <td>OperatingSystems_6</td>\n",
       "      <td>0.000368</td>\n",
       "    </tr>\n",
       "    <tr>\n",
       "      <th>17</th>\n",
       "      <td>Month_Feb</td>\n",
       "      <td>0.000339</td>\n",
       "    </tr>\n",
       "    <tr>\n",
       "      <th>45</th>\n",
       "      <td>Browser_13</td>\n",
       "      <td>0.000283</td>\n",
       "    </tr>\n",
       "    <tr>\n",
       "      <th>67</th>\n",
       "      <td>VisitorType_Other</td>\n",
       "      <td>0.000258</td>\n",
       "    </tr>\n",
       "    <tr>\n",
       "      <th>54</th>\n",
       "      <td>TrafficType_9</td>\n",
       "      <td>0.000206</td>\n",
       "    </tr>\n",
       "    <tr>\n",
       "      <th>29</th>\n",
       "      <td>OperatingSystems_5</td>\n",
       "      <td>0.000195</td>\n",
       "    </tr>\n",
       "    <tr>\n",
       "      <th>59</th>\n",
       "      <td>TrafficType_14</td>\n",
       "      <td>0.000126</td>\n",
       "    </tr>\n",
       "    <tr>\n",
       "      <th>43</th>\n",
       "      <td>Browser_11</td>\n",
       "      <td>0.000101</td>\n",
       "    </tr>\n",
       "    <tr>\n",
       "      <th>64</th>\n",
       "      <td>TrafficType_19</td>\n",
       "      <td>0.000095</td>\n",
       "    </tr>\n",
       "    <tr>\n",
       "      <th>60</th>\n",
       "      <td>TrafficType_15</td>\n",
       "      <td>0.000026</td>\n",
       "    </tr>\n",
       "    <tr>\n",
       "      <th>63</th>\n",
       "      <td>TrafficType_18</td>\n",
       "      <td>0.000018</td>\n",
       "    </tr>\n",
       "    <tr>\n",
       "      <th>57</th>\n",
       "      <td>TrafficType_12</td>\n",
       "      <td>0.0</td>\n",
       "    </tr>\n",
       "    <tr>\n",
       "      <th>41</th>\n",
       "      <td>Browser_9</td>\n",
       "      <td>0.0</td>\n",
       "    </tr>\n",
       "    <tr>\n",
       "      <th>31</th>\n",
       "      <td>OperatingSystems_7</td>\n",
       "      <td>0.0</td>\n",
       "    </tr>\n",
       "    <tr>\n",
       "      <th>61</th>\n",
       "      <td>TrafficType_16</td>\n",
       "      <td>0.0</td>\n",
       "    </tr>\n",
       "    <tr>\n",
       "      <th>62</th>\n",
       "      <td>TrafficType_17</td>\n",
       "      <td>0.0</td>\n",
       "    </tr>\n",
       "  </tbody>\n",
       "</table>\n",
       "</div>"
      ],
      "text/plain": [
       "                      Column_Name Importance\n",
       "8                      PageValues   0.468237\n",
       "5         ProductRelated_Duration   0.069689\n",
       "7                       ExitRates   0.065535\n",
       "4                  ProductRelated   0.059149\n",
       "1         Administrative_Duration   0.044096\n",
       "6                     BounceRates   0.039114\n",
       "0                  Administrative   0.035674\n",
       "22                      Month_Nov   0.023656\n",
       "3          Informational_Duration   0.022763\n",
       "2                   Informational   0.013314\n",
       "68  VisitorType_Returning_Visitor   0.010994\n",
       "66        VisitorType_New_Visitor   0.009987\n",
       "47                  TrafficType_2   0.007787\n",
       "21                      Month_May   0.006564\n",
       "70                   Weekend_True   0.006398\n",
       "34                      Browser_2   0.006286\n",
       "69                  Weekend_False   0.006239\n",
       "26             OperatingSystems_2   0.006029\n",
       "27             OperatingSystems_3     0.0054\n",
       "33                      Browser_1   0.005046\n",
       "20                      Month_Mar   0.004922\n",
       "16                      Month_Dec   0.004747\n",
       "25             OperatingSystems_1   0.004739\n",
       "46                  TrafficType_1   0.004446\n",
       "48                  TrafficType_3   0.004367\n",
       "36                      Browser_4   0.004366\n",
       "23                      Month_Oct   0.004098\n",
       "49                  TrafficType_4    0.00393\n",
       "24                      Month_Sep   0.003775\n",
       "53                  TrafficType_8   0.003736\n",
       "55                 TrafficType_10     0.0032\n",
       "18                      Month_Jul   0.003093\n",
       "9                  SpecialDay_0.0   0.002945\n",
       "50                  TrafficType_5   0.002901\n",
       "15                      Month_Aug   0.002763\n",
       "37                      Browser_5   0.002674\n",
       "58                 TrafficType_13   0.002589\n",
       "51                  TrafficType_6   0.002453\n",
       "28             OperatingSystems_4   0.002428\n",
       "56                 TrafficType_11   0.002268\n",
       "65                 TrafficType_20   0.002076\n",
       "19                     Month_June   0.001675\n",
       "42                     Browser_10   0.001489\n",
       "38                      Browser_6   0.001426\n",
       "40                      Browser_8   0.001263\n",
       "12                 SpecialDay_0.6   0.001222\n",
       "13                 SpecialDay_0.8   0.000924\n",
       "39                      Browser_7    0.00091\n",
       "52                  TrafficType_7     0.0008\n",
       "44                     Browser_12   0.000746\n",
       "10                 SpecialDay_0.2   0.000727\n",
       "11                 SpecialDay_0.4   0.000687\n",
       "14                 SpecialDay_1.0   0.000582\n",
       "35                      Browser_3   0.000533\n",
       "32             OperatingSystems_8   0.000525\n",
       "30             OperatingSystems_6   0.000368\n",
       "17                      Month_Feb   0.000339\n",
       "45                     Browser_13   0.000283\n",
       "67              VisitorType_Other   0.000258\n",
       "54                  TrafficType_9   0.000206\n",
       "29             OperatingSystems_5   0.000195\n",
       "59                 TrafficType_14   0.000126\n",
       "43                     Browser_11   0.000101\n",
       "64                 TrafficType_19   0.000095\n",
       "60                 TrafficType_15   0.000026\n",
       "63                 TrafficType_18   0.000018\n",
       "57                 TrafficType_12        0.0\n",
       "41                      Browser_9        0.0\n",
       "31             OperatingSystems_7        0.0\n",
       "61                 TrafficType_16        0.0\n",
       "62                 TrafficType_17        0.0"
      ]
     },
     "execution_count": 90,
     "metadata": {},
     "output_type": "execute_result"
    }
   ],
   "source": [
    "pd.set_option(\"display.max_rows\",200)\n",
    "Important_Parameters = pd.DataFrame([data_stdX.columns,rfc.feature_importances_]).T\n",
    "Important_Parameters.columns = [\"Column_Name\",\"Importance\"]\n",
    "Important_Parameters.sort_values(by=\"Importance\",ascending=False)"
   ]
  },
  {
   "cell_type": "markdown",
   "id": "45738c92",
   "metadata": {},
   "source": [
    "# ***14) Overall Models Score Comparison-***"
   ]
  },
  {
   "cell_type": "code",
   "execution_count": 91,
   "id": "ef3e6f63",
   "metadata": {},
   "outputs": [],
   "source": [
    "models= {\n",
    "    \"Models\": [\"Logistic Regression\",\"KNN Classifier\",\"Decision Tree Classifier\",\"Random Forest Classifier\"],\n",
    "    \"Training Accuracy Score\": [\"0.899\",\"0.897\",\"0.913\",\"0.955\"],\n",
    "    \"Testing Accuracy Score\": [\"0.894\",\"0.893\",\"0.9021\",\"0.9021\"]\n",
    "}"
   ]
  },
  {
   "cell_type": "code",
   "execution_count": 92,
   "id": "a6962bbb",
   "metadata": {},
   "outputs": [],
   "source": [
    "Overall_Model_Comparison = pd.DataFrame(data=models)\n",
    "Overall_Model_Comparison[\"Training Accuracy Score\"] = Overall_Model_Comparison[\"Training Accuracy Score\"].astype(float)\n",
    "Overall_Model_Comparison[\"Testing Accuracy Score\"] = Overall_Model_Comparison[\"Testing Accuracy Score\"].astype(float)"
   ]
  },
  {
   "cell_type": "code",
   "execution_count": 93,
   "id": "4de1441f",
   "metadata": {},
   "outputs": [
    {
     "data": {
      "text/html": [
       "<div>\n",
       "<style scoped>\n",
       "    .dataframe tbody tr th:only-of-type {\n",
       "        vertical-align: middle;\n",
       "    }\n",
       "\n",
       "    .dataframe tbody tr th {\n",
       "        vertical-align: top;\n",
       "    }\n",
       "\n",
       "    .dataframe thead th {\n",
       "        text-align: right;\n",
       "    }\n",
       "</style>\n",
       "<table border=\"1\" class=\"dataframe\">\n",
       "  <thead>\n",
       "    <tr style=\"text-align: right;\">\n",
       "      <th></th>\n",
       "      <th>Models</th>\n",
       "      <th>Training Accuracy Score</th>\n",
       "      <th>Testing Accuracy Score</th>\n",
       "    </tr>\n",
       "  </thead>\n",
       "  <tbody>\n",
       "    <tr>\n",
       "      <th>0</th>\n",
       "      <td>Logistic Regression</td>\n",
       "      <td>0.899</td>\n",
       "      <td>0.8940</td>\n",
       "    </tr>\n",
       "    <tr>\n",
       "      <th>1</th>\n",
       "      <td>KNN Classifier</td>\n",
       "      <td>0.897</td>\n",
       "      <td>0.8930</td>\n",
       "    </tr>\n",
       "    <tr>\n",
       "      <th>2</th>\n",
       "      <td>Decision Tree Classifier</td>\n",
       "      <td>0.913</td>\n",
       "      <td>0.9021</td>\n",
       "    </tr>\n",
       "    <tr>\n",
       "      <th>3</th>\n",
       "      <td>Random Forest Classifier</td>\n",
       "      <td>0.955</td>\n",
       "      <td>0.9021</td>\n",
       "    </tr>\n",
       "  </tbody>\n",
       "</table>\n",
       "</div>"
      ],
      "text/plain": [
       "                     Models  Training Accuracy Score  Testing Accuracy Score\n",
       "0       Logistic Regression                    0.899                  0.8940\n",
       "1            KNN Classifier                    0.897                  0.8930\n",
       "2  Decision Tree Classifier                    0.913                  0.9021\n",
       "3  Random Forest Classifier                    0.955                  0.9021"
      ]
     },
     "execution_count": 93,
     "metadata": {},
     "output_type": "execute_result"
    }
   ],
   "source": [
    "Overall_Model_Comparison"
   ]
  },
  {
   "cell_type": "code",
   "execution_count": 94,
   "id": "7428d7a5",
   "metadata": {},
   "outputs": [
    {
     "data": {
      "text/plain": [
       "Text(0.5, 1.0, 'Comparison of Training Accuracy Scores in various Models')"
      ]
     },
     "execution_count": 94,
     "metadata": {},
     "output_type": "execute_result"
    },
    {
     "data": {
      "image/png": "[encoded data removed]",
      "text/plain": [
       "<Figure size 720x432 with 1 Axes>"
      ]
     },
     "metadata": {
      "needs_background": "light"
     },
     "output_type": "display_data"
    }
   ],
   "source": [
    "mlp.figure(figsize=(10,6))\n",
    "sb.lineplot(Overall_Model_Comparison[\"Models\"],Overall_Model_Comparison[\"Training Accuracy Score\"])\n",
    "mlp.title(\"Comparison of Training Accuracy Scores in various Models\")"
   ]
  },
  {
   "cell_type": "code",
   "execution_count": 95,
   "id": "6f3c6826",
   "metadata": {},
   "outputs": [
    {
     "data": {
      "text/plain": [
       "Text(0.5, 1.0, 'Comparison of Testing Accuracy Scores in various Models')"
      ]
     },
     "execution_count": 95,
     "metadata": {},
     "output_type": "execute_result"
    },
    {
     "data": {
      "image/png": "[encoded data removed]",
      "text/plain": [
       "<Figure size 720x432 with 1 Axes>"
      ]
     },
     "metadata": {
      "needs_background": "light"
     },
     "output_type": "display_data"
    }
   ],
   "source": [
    "mlp.figure(figsize=(10,6))\n",
    "sb.lineplot(Overall_Model_Comparison[\"Models\"],Overall_Model_Comparison[\"Testing Accuracy Score\"])\n",
    "mlp.title(\"Comparison of Testing Accuracy Scores in various Models\")"
   ]
  },
  {
   "cell_type": "markdown",
   "id": "70e260f9",
   "metadata": {},
   "source": [
    "# ***15) Applying the above model algorithms to testing data to idenitfy the predicted values -***"
   ]
  },
  {
   "cell_type": "code",
   "execution_count": 96,
   "id": "82982abe",
   "metadata": {},
   "outputs": [
    {
     "data": {
      "text/html": [
       "<div>\n",
       "<style scoped>\n",
       "    .dataframe tbody tr th:only-of-type {\n",
       "        vertical-align: middle;\n",
       "    }\n",
       "\n",
       "    .dataframe tbody tr th {\n",
       "        vertical-align: top;\n",
       "    }\n",
       "\n",
       "    .dataframe thead th {\n",
       "        text-align: right;\n",
       "    }\n",
       "</style>\n",
       "<table border=\"1\" class=\"dataframe\">\n",
       "  <thead>\n",
       "    <tr style=\"text-align: right;\">\n",
       "      <th></th>\n",
       "      <th>Administrative</th>\n",
       "      <th>Administrative_Duration</th>\n",
       "      <th>Informational</th>\n",
       "      <th>Informational_Duration</th>\n",
       "      <th>ProductRelated</th>\n",
       "      <th>ProductRelated_Duration</th>\n",
       "      <th>BounceRates</th>\n",
       "      <th>ExitRates</th>\n",
       "      <th>PageValues</th>\n",
       "      <th>SpecialDay_0.0</th>\n",
       "      <th>...</th>\n",
       "      <th>TrafficType_16</th>\n",
       "      <th>TrafficType_17</th>\n",
       "      <th>TrafficType_18</th>\n",
       "      <th>TrafficType_19</th>\n",
       "      <th>TrafficType_20</th>\n",
       "      <th>VisitorType_New_Visitor</th>\n",
       "      <th>VisitorType_Other</th>\n",
       "      <th>VisitorType_Returning_Visitor</th>\n",
       "      <th>Weekend_False</th>\n",
       "      <th>Weekend_True</th>\n",
       "    </tr>\n",
       "  </thead>\n",
       "  <tbody>\n",
       "    <tr>\n",
       "      <th>0</th>\n",
       "      <td>-0.742854</td>\n",
       "      <td>-0.601424</td>\n",
       "      <td>-0.409613</td>\n",
       "      <td>-0.288759</td>\n",
       "      <td>-0.902170</td>\n",
       "      <td>-0.819204</td>\n",
       "      <td>-0.539915</td>\n",
       "      <td>2.116768</td>\n",
       "      <td>-0.370629</td>\n",
       "      <td>1</td>\n",
       "      <td>...</td>\n",
       "      <td>0</td>\n",
       "      <td>0</td>\n",
       "      <td>0</td>\n",
       "      <td>0</td>\n",
       "      <td>0</td>\n",
       "      <td>0</td>\n",
       "      <td>0</td>\n",
       "      <td>1</td>\n",
       "      <td>1</td>\n",
       "      <td>0</td>\n",
       "    </tr>\n",
       "    <tr>\n",
       "      <th>1</th>\n",
       "      <td>-0.742854</td>\n",
       "      <td>-0.601424</td>\n",
       "      <td>-0.409613</td>\n",
       "      <td>-0.288759</td>\n",
       "      <td>-0.902170</td>\n",
       "      <td>-0.873439</td>\n",
       "      <td>1.717158</td>\n",
       "      <td>3.418352</td>\n",
       "      <td>-0.370629</td>\n",
       "      <td>1</td>\n",
       "      <td>...</td>\n",
       "      <td>0</td>\n",
       "      <td>0</td>\n",
       "      <td>0</td>\n",
       "      <td>0</td>\n",
       "      <td>0</td>\n",
       "      <td>0</td>\n",
       "      <td>0</td>\n",
       "      <td>1</td>\n",
       "      <td>1</td>\n",
       "      <td>0</td>\n",
       "    </tr>\n",
       "    <tr>\n",
       "      <th>2</th>\n",
       "      <td>-0.742854</td>\n",
       "      <td>-0.601424</td>\n",
       "      <td>-0.409613</td>\n",
       "      <td>-0.288759</td>\n",
       "      <td>-0.613509</td>\n",
       "      <td>-0.320914</td>\n",
       "      <td>0.362914</td>\n",
       "      <td>0.489788</td>\n",
       "      <td>-0.370629</td>\n",
       "      <td>1</td>\n",
       "      <td>...</td>\n",
       "      <td>0</td>\n",
       "      <td>0</td>\n",
       "      <td>0</td>\n",
       "      <td>0</td>\n",
       "      <td>0</td>\n",
       "      <td>0</td>\n",
       "      <td>0</td>\n",
       "      <td>1</td>\n",
       "      <td>0</td>\n",
       "      <td>1</td>\n",
       "    </tr>\n",
       "    <tr>\n",
       "      <th>3</th>\n",
       "      <td>-0.742854</td>\n",
       "      <td>-0.601424</td>\n",
       "      <td>-0.409613</td>\n",
       "      <td>-0.288759</td>\n",
       "      <td>-0.288765</td>\n",
       "      <td>-0.739427</td>\n",
       "      <td>0.172845</td>\n",
       "      <td>-0.337974</td>\n",
       "      <td>-0.370629</td>\n",
       "      <td>1</td>\n",
       "      <td>...</td>\n",
       "      <td>0</td>\n",
       "      <td>0</td>\n",
       "      <td>0</td>\n",
       "      <td>0</td>\n",
       "      <td>0</td>\n",
       "      <td>0</td>\n",
       "      <td>0</td>\n",
       "      <td>1</td>\n",
       "      <td>1</td>\n",
       "      <td>0</td>\n",
       "    </tr>\n",
       "    <tr>\n",
       "      <th>4</th>\n",
       "      <td>-0.742854</td>\n",
       "      <td>-0.601424</td>\n",
       "      <td>-0.409613</td>\n",
       "      <td>-0.288759</td>\n",
       "      <td>-0.902170</td>\n",
       "      <td>-0.843079</td>\n",
       "      <td>-0.539915</td>\n",
       "      <td>2.116768</td>\n",
       "      <td>-0.370629</td>\n",
       "      <td>0</td>\n",
       "      <td>...</td>\n",
       "      <td>0</td>\n",
       "      <td>0</td>\n",
       "      <td>0</td>\n",
       "      <td>0</td>\n",
       "      <td>0</td>\n",
       "      <td>0</td>\n",
       "      <td>0</td>\n",
       "      <td>1</td>\n",
       "      <td>1</td>\n",
       "      <td>0</td>\n",
       "    </tr>\n",
       "  </tbody>\n",
       "</table>\n",
       "<p>5 rows × 71 columns</p>\n",
       "</div>"
      ],
      "text/plain": [
       "   Administrative  Administrative_Duration  Informational  \\\n",
       "0       -0.742854                -0.601424      -0.409613   \n",
       "1       -0.742854                -0.601424      -0.409613   \n",
       "2       -0.742854                -0.601424      -0.409613   \n",
       "3       -0.742854                -0.601424      -0.409613   \n",
       "4       -0.742854                -0.601424      -0.409613   \n",
       "\n",
       "   Informational_Duration  ProductRelated  ProductRelated_Duration  \\\n",
       "0               -0.288759       -0.902170                -0.819204   \n",
       "1               -0.288759       -0.902170                -0.873439   \n",
       "2               -0.288759       -0.613509                -0.320914   \n",
       "3               -0.288759       -0.288765                -0.739427   \n",
       "4               -0.288759       -0.902170                -0.843079   \n",
       "\n",
       "   BounceRates  ExitRates  PageValues  SpecialDay_0.0  ...  TrafficType_16  \\\n",
       "0    -0.539915   2.116768   -0.370629               1  ...               0   \n",
       "1     1.717158   3.418352   -0.370629               1  ...               0   \n",
       "2     0.362914   0.489788   -0.370629               1  ...               0   \n",
       "3     0.172845  -0.337974   -0.370629               1  ...               0   \n",
       "4    -0.539915   2.116768   -0.370629               0  ...               0   \n",
       "\n",
       "   TrafficType_17  TrafficType_18  TrafficType_19  TrafficType_20  \\\n",
       "0               0               0               0               0   \n",
       "1               0               0               0               0   \n",
       "2               0               0               0               0   \n",
       "3               0               0               0               0   \n",
       "4               0               0               0               0   \n",
       "\n",
       "   VisitorType_New_Visitor  VisitorType_Other  VisitorType_Returning_Visitor  \\\n",
       "0                        0                  0                              1   \n",
       "1                        0                  0                              1   \n",
       "2                        0                  0                              1   \n",
       "3                        0                  0                              1   \n",
       "4                        0                  0                              1   \n",
       "\n",
       "   Weekend_False  Weekend_True  \n",
       "0              1             0  \n",
       "1              1             0  \n",
       "2              0             1  \n",
       "3              1             0  \n",
       "4              1             0  \n",
       "\n",
       "[5 rows x 71 columns]"
      ]
     },
     "execution_count": 96,
     "metadata": {},
     "output_type": "execute_result"
    }
   ],
   "source": [
    "data_stdX.head()"
   ]
  },
  {
   "cell_type": "code",
   "execution_count": 97,
   "id": "469b8fc4",
   "metadata": {},
   "outputs": [],
   "source": [
    "data_stdX_Final = data_stdX[xtrain.columns]"
   ]
  },
  {
   "cell_type": "code",
   "execution_count": 98,
   "id": "aae3a81b",
   "metadata": {},
   "outputs": [
    {
     "data": {
      "text/plain": [
       "array([0, 0, 0, ..., 0, 0, 0], dtype=int64)"
      ]
     },
     "execution_count": 98,
     "metadata": {},
     "output_type": "execute_result"
    }
   ],
   "source": [
    "model.predict(data_stdX_Final)"
   ]
  },
  {
   "cell_type": "code",
   "execution_count": 132,
   "id": "c3341816",
   "metadata": {},
   "outputs": [],
   "source": [
    "Final_Predicted_Model = pd.DataFrame(data[[\"Revenue\"]])\n",
    "Final_Predicted_Model[\"Predicted_Revenue\"] = model.predict(data_stdX_Final)\n",
    "Final_Predicted_Model[\"Predicted_Revenue\"] = Final_Predicted_Model[\"Predicted_Revenue\"].astype(int)\n",
    "Final_Predicted_Model[\"Predicted_Revenue\"] = Final_Predicted_Model[\"Predicted_Revenue\"].replace({1:True, 0:False})"
   ]
  },
  {
   "cell_type": "code",
   "execution_count": 133,
   "id": "d39e76ea",
   "metadata": {},
   "outputs": [
    {
     "data": {
      "text/html": [
       "<div>\n",
       "<style scoped>\n",
       "    .dataframe tbody tr th:only-of-type {\n",
       "        vertical-align: middle;\n",
       "    }\n",
       "\n",
       "    .dataframe tbody tr th {\n",
       "        vertical-align: top;\n",
       "    }\n",
       "\n",
       "    .dataframe thead th {\n",
       "        text-align: right;\n",
       "    }\n",
       "</style>\n",
       "<table border=\"1\" class=\"dataframe\">\n",
       "  <thead>\n",
       "    <tr style=\"text-align: right;\">\n",
       "      <th></th>\n",
       "      <th>Revenue</th>\n",
       "      <th>Predicted_Revenue</th>\n",
       "    </tr>\n",
       "  </thead>\n",
       "  <tbody>\n",
       "    <tr>\n",
       "      <th>0</th>\n",
       "      <td>False</td>\n",
       "      <td>False</td>\n",
       "    </tr>\n",
       "    <tr>\n",
       "      <th>1</th>\n",
       "      <td>False</td>\n",
       "      <td>False</td>\n",
       "    </tr>\n",
       "    <tr>\n",
       "      <th>2</th>\n",
       "      <td>False</td>\n",
       "      <td>False</td>\n",
       "    </tr>\n",
       "    <tr>\n",
       "      <th>3</th>\n",
       "      <td>False</td>\n",
       "      <td>False</td>\n",
       "    </tr>\n",
       "    <tr>\n",
       "      <th>4</th>\n",
       "      <td>False</td>\n",
       "      <td>False</td>\n",
       "    </tr>\n",
       "    <tr>\n",
       "      <th>...</th>\n",
       "      <td>...</td>\n",
       "      <td>...</td>\n",
       "    </tr>\n",
       "    <tr>\n",
       "      <th>10456</th>\n",
       "      <td>False</td>\n",
       "      <td>False</td>\n",
       "    </tr>\n",
       "    <tr>\n",
       "      <th>10457</th>\n",
       "      <td>False</td>\n",
       "      <td>False</td>\n",
       "    </tr>\n",
       "    <tr>\n",
       "      <th>10458</th>\n",
       "      <td>False</td>\n",
       "      <td>False</td>\n",
       "    </tr>\n",
       "    <tr>\n",
       "      <th>10459</th>\n",
       "      <td>False</td>\n",
       "      <td>False</td>\n",
       "    </tr>\n",
       "    <tr>\n",
       "      <th>10460</th>\n",
       "      <td>False</td>\n",
       "      <td>False</td>\n",
       "    </tr>\n",
       "  </tbody>\n",
       "</table>\n",
       "<p>10461 rows × 2 columns</p>\n",
       "</div>"
      ],
      "text/plain": [
       "      Revenue  Predicted_Revenue\n",
       "0       False              False\n",
       "1       False              False\n",
       "2       False              False\n",
       "3       False              False\n",
       "4       False              False\n",
       "...       ...                ...\n",
       "10456   False              False\n",
       "10457   False              False\n",
       "10458   False              False\n",
       "10459   False              False\n",
       "10460   False              False\n",
       "\n",
       "[10461 rows x 2 columns]"
      ]
     },
     "execution_count": 133,
     "metadata": {},
     "output_type": "execute_result"
    }
   ],
   "source": [
    "Final_Predicted_Model"
   ]
  },
  {
   "cell_type": "markdown",
   "id": "7f8660ce",
   "metadata": {},
   "source": [
    "# ***16) Overall Model Score for Test Unseen Data -***"
   ]
  },
  {
   "cell_type": "code",
   "execution_count": 122,
   "id": "de50879d",
   "metadata": {},
   "outputs": [
    {
     "name": "stdout",
     "output_type": "stream",
     "text": [
      "Overall Model Accuracy Score for Unseen Data 0.9021\n"
     ]
    }
   ],
   "source": [
    "model.score(xtest,ytest)\n",
    "print(\"Overall Model Accuracy Score for Unseen Data\",round(model.score(xtest,ytest),4))"
   ]
  },
  {
   "cell_type": "markdown",
   "id": "f3e7a584",
   "metadata": {},
   "source": [
    "# ***17) Confusion Matrix -***"
   ]
  },
  {
   "cell_type": "code",
   "execution_count": 154,
   "id": "2d55e5dc",
   "metadata": {},
   "outputs": [
    {
     "data": {
      "text/plain": [
       "array([[7182,   11],\n",
       "       [ 367,  808]], dtype=int64)"
      ]
     },
     "execution_count": 154,
     "metadata": {},
     "output_type": "execute_result"
    }
   ],
   "source": [
    "from sklearn.metrics import confusion_matrix\n",
    "confusion_matrix(ytrain,tr_pred)"
   ]
  },
  {
   "cell_type": "code",
   "execution_count": 155,
   "id": "f8cfca83",
   "metadata": {},
   "outputs": [
    {
     "data": {
      "text/plain": [
       "array([[1767,   34],\n",
       "       [ 171,  121]], dtype=int64)"
      ]
     },
     "execution_count": 155,
     "metadata": {},
     "output_type": "execute_result"
    }
   ],
   "source": [
    "from sklearn.metrics import confusion_matrix\n",
    "confusion_matrix(ytest,ts_pred)"
   ]
  },
  {
   "cell_type": "markdown",
   "id": "8eeffcc4",
   "metadata": {},
   "source": [
    "# ***18) Classification Report -***"
   ]
  },
  {
   "cell_type": "code",
   "execution_count": 160,
   "id": "2f07974d",
   "metadata": {},
   "outputs": [
    {
     "name": "stdout",
     "output_type": "stream",
     "text": [
      "              precision    recall  f1-score   support\n",
      "\n",
      "           0       0.95      1.00      0.97      7193\n",
      "           1       0.99      0.69      0.81      1175\n",
      "\n",
      "    accuracy                           0.95      8368\n",
      "   macro avg       0.97      0.84      0.89      8368\n",
      "weighted avg       0.96      0.95      0.95      8368\n",
      "\n"
     ]
    }
   ],
   "source": [
    "from sklearn.metrics import classification_report\n",
    "print(classification_report(ytrain,tr_pred))"
   ]
  },
  {
   "cell_type": "code",
   "execution_count": 161,
   "id": "7b21de68",
   "metadata": {},
   "outputs": [
    {
     "name": "stdout",
     "output_type": "stream",
     "text": [
      "              precision    recall  f1-score   support\n",
      "\n",
      "           0       0.91      0.98      0.95      1801\n",
      "           1       0.78      0.41      0.54       292\n",
      "\n",
      "    accuracy                           0.90      2093\n",
      "   macro avg       0.85      0.70      0.74      2093\n",
      "weighted avg       0.89      0.90      0.89      2093\n",
      "\n"
     ]
    }
   ],
   "source": [
    "from sklearn.metrics import classification_report\n",
    "print(classification_report(ytest,ts_pred))"
   ]
  },
  {
   "cell_type": "markdown",
   "id": "0fce7c59",
   "metadata": {},
   "source": [
    "# ***19) Comparison of both Actual and Predicted using Data Visualization-***"
   ]
  },
  {
   "cell_type": "code",
   "execution_count": 120,
   "id": "07cf484a",
   "metadata": {},
   "outputs": [
    {
     "data": {
      "text/plain": [
       "False    8994\n",
       "True     1467\n",
       "Name: Revenue, dtype: int64"
      ]
     },
     "execution_count": 120,
     "metadata": {},
     "output_type": "execute_result"
    }
   ],
   "source": [
    "Final_Predicted_Model[\"Revenue\"].value_counts()"
   ]
  },
  {
   "cell_type": "code",
   "execution_count": 151,
   "id": "27f7ba96",
   "metadata": {},
   "outputs": [
    {
     "data": {
      "image/png": "[encoded data removed]",
      "text/plain": [
       "<Figure size 576x432 with 1 Axes>"
      ]
     },
     "metadata": {
      "needs_background": "light"
     },
     "output_type": "display_data"
    }
   ],
   "source": [
    "mlp.figure(figsize=(8,6))\n",
    "sb.countplot(Final_Predicted_Model[\"Revenue\"])\n",
    "for count in [False,True]:\n",
    "    mlp.text(count, (Final_Predicted_Model[\"Revenue\"] == count).sum(),(Final_Predicted_Model[\"Revenue\"] == count).sum());"
   ]
  },
  {
   "cell_type": "code",
   "execution_count": 121,
   "id": "91e4ee2a",
   "metadata": {},
   "outputs": [
    {
     "data": {
      "text/plain": [
       "False    9487\n",
       "True      974\n",
       "Name: Predicted_Revenue, dtype: int64"
      ]
     },
     "execution_count": 121,
     "metadata": {},
     "output_type": "execute_result"
    }
   ],
   "source": [
    "Final_Predicted_Model[\"Predicted_Revenue\"].value_counts()"
   ]
  },
  {
   "cell_type": "code",
   "execution_count": 153,
   "id": "afa223c3",
   "metadata": {},
   "outputs": [
    {
     "data": {
      "image/png": "[encoded data removed]",
      "text/plain": [
       "<Figure size 576x432 with 1 Axes>"
      ]
     },
     "metadata": {
      "needs_background": "light"
     },
     "output_type": "display_data"
    }
   ],
   "source": [
    "mlp.figure(figsize=(8,6))\n",
    "sb.countplot(Final_Predicted_Model[\"Predicted_Revenue\"])\n",
    "for count in [False,True]:\n",
    "    mlp.text(count, (Final_Predicted_Model[\"Predicted_Revenue\"] == count).sum(),(Final_Predicted_Model[\"Predicted_Revenue\"] == count).sum());"
   ]
  },
  {
   "cell_type": "markdown",
   "id": "2b8b56f7",
   "metadata": {},
   "source": [
    "# Conclusion"
   ]
  },
  {
   "cell_type": "markdown",
   "id": "cc5708ef",
   "metadata": {},
   "source": [
    "So from the above problem statement and after implementing various ML models on this dataset, we were able to identify that - \n",
    "1) Before Prediction - 8994 \"False\" and 1467 \"True\" customers intention were identified as Revenue Generation for Online Shoppers.\n",
    "2) After Prediction  - 9487 \"False\" and 974 \"True\" customers intention were actually predicted as Revenue Generation for Online Shoppers.\n",
    "\n",
    "So, the predicted additional 493 customers intention as \"False\" needs to be identified why their intention shifted from Yes to No during purchasing a particular product from a online website."
   ]
  },
  {
   "cell_type": "code",
   "execution_count": null,
   "id": "d2135e2c",
   "metadata": {},
   "outputs": [],
   "source": []
  }
 ],
 "metadata": {
  "kernelspec": {
   "display_name": "Python 3",
   "language": "python",
   "name": "python3"
  },
  "language_info": {
   "codemirror_mode": {
    "name": "ipython",
    "version": 3
   },
   "file_extension": ".py",
   "mimetype": "text/x-python",
   "name": "python",
   "nbconvert_exporter": "python",
   "pygments_lexer": "ipython3",
   "version": "3.8.8"
  }
 },
 "nbformat": 4,
 "nbformat_minor": 5
}
